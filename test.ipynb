{
 "cells": [
  {
   "cell_type": "code",
   "execution_count": 2,
   "metadata": {},
   "outputs": [
    {
     "data": {
      "text/html": [
       "<pre style=\"white-space:pre;overflow-x:auto;line-height:normal;font-family:Menlo,'DejaVu Sans Mono',consolas,'Courier New',monospace\">Min: <span style=\"color: #008080; text-decoration-color: #008080; font-weight: bold\">0.0</span> | Max: <span style=\"color: #008080; text-decoration-color: #008080; font-weight: bold\">17.2</span> | Average: <span style=\"color: #008080; text-decoration-color: #008080; font-weight: bold\">5.138399999999996</span> | Iterations: <span style=\"color: #008080; text-decoration-color: #008080; font-weight: bold\">1</span>\n",
       "</pre>\n"
      ],
      "text/plain": [
       "Min: \u001b[1;36m0.0\u001b[0m | Max: \u001b[1;36m17.2\u001b[0m | Average: \u001b[1;36m5.138399999999996\u001b[0m | Iterations: \u001b[1;36m1\u001b[0m\n"
      ]
     },
     "metadata": {},
     "output_type": "display_data"
    },
    {
     "data": {
      "text/html": [
       "<pre style=\"white-space:pre;overflow-x:auto;line-height:normal;font-family:Menlo,'DejaVu Sans Mono',consolas,'Courier New',monospace\">Min: <span style=\"color: #008080; text-decoration-color: #008080; font-weight: bold\">0.0</span> | Max: <span style=\"color: #008080; text-decoration-color: #008080; font-weight: bold\">15.4</span> | Average: <span style=\"color: #008080; text-decoration-color: #008080; font-weight: bold\">3.6296000000000017</span> | Iterations: <span style=\"color: #008080; text-decoration-color: #008080; font-weight: bold\">2</span>\n",
       "</pre>\n"
      ],
      "text/plain": [
       "Min: \u001b[1;36m0.0\u001b[0m | Max: \u001b[1;36m15.4\u001b[0m | Average: \u001b[1;36m3.6296000000000017\u001b[0m | Iterations: \u001b[1;36m2\u001b[0m\n"
      ]
     },
     "metadata": {},
     "output_type": "display_data"
    },
    {
     "data": {
      "text/html": [
       "<pre style=\"white-space:pre;overflow-x:auto;line-height:normal;font-family:Menlo,'DejaVu Sans Mono',consolas,'Courier New',monospace\">Min: <span style=\"color: #008080; text-decoration-color: #008080; font-weight: bold\">0.0</span> | Max: <span style=\"color: #008080; text-decoration-color: #008080; font-weight: bold\">11.0</span> | Average: <span style=\"color: #008080; text-decoration-color: #008080; font-weight: bold\">2.8080000000000016</span> | Iterations: <span style=\"color: #008080; text-decoration-color: #008080; font-weight: bold\">3</span>\n",
       "</pre>\n"
      ],
      "text/plain": [
       "Min: \u001b[1;36m0.0\u001b[0m | Max: \u001b[1;36m11.0\u001b[0m | Average: \u001b[1;36m2.8080000000000016\u001b[0m | Iterations: \u001b[1;36m3\u001b[0m\n"
      ]
     },
     "metadata": {},
     "output_type": "display_data"
    },
    {
     "data": {
      "text/html": [
       "<pre style=\"white-space:pre;overflow-x:auto;line-height:normal;font-family:Menlo,'DejaVu Sans Mono',consolas,'Courier New',monospace\">Min: <span style=\"color: #008080; text-decoration-color: #008080; font-weight: bold\">0.0</span> | Max: <span style=\"color: #008080; text-decoration-color: #008080; font-weight: bold\">11.2</span> | Average: <span style=\"color: #008080; text-decoration-color: #008080; font-weight: bold\">1.9183999999999999</span> | Iterations: <span style=\"color: #008080; text-decoration-color: #008080; font-weight: bold\">4</span>\n",
       "</pre>\n"
      ],
      "text/plain": [
       "Min: \u001b[1;36m0.0\u001b[0m | Max: \u001b[1;36m11.2\u001b[0m | Average: \u001b[1;36m1.9183999999999999\u001b[0m | Iterations: \u001b[1;36m4\u001b[0m\n"
      ]
     },
     "metadata": {},
     "output_type": "display_data"
    },
    {
     "data": {
      "text/html": [
       "<pre style=\"white-space:pre;overflow-x:auto;line-height:normal;font-family:Menlo,'DejaVu Sans Mono',consolas,'Courier New',monospace\">Min: <span style=\"color: #008080; text-decoration-color: #008080; font-weight: bold\">0.0</span> | Max: <span style=\"color: #008080; text-decoration-color: #008080; font-weight: bold\">13.4</span> | Average: <span style=\"color: #008080; text-decoration-color: #008080; font-weight: bold\">1.7527999999999981</span> | Iterations: <span style=\"color: #008080; text-decoration-color: #008080; font-weight: bold\">5</span>\n",
       "</pre>\n"
      ],
      "text/plain": [
       "Min: \u001b[1;36m0.0\u001b[0m | Max: \u001b[1;36m13.4\u001b[0m | Average: \u001b[1;36m1.7527999999999981\u001b[0m | Iterations: \u001b[1;36m5\u001b[0m\n"
      ]
     },
     "metadata": {},
     "output_type": "display_data"
    },
    {
     "data": {
      "text/html": [
       "<pre style=\"white-space:pre;overflow-x:auto;line-height:normal;font-family:Menlo,'DejaVu Sans Mono',consolas,'Courier New',monospace\">Min: <span style=\"color: #008080; text-decoration-color: #008080; font-weight: bold\">0.0</span> | Max: <span style=\"color: #008080; text-decoration-color: #008080; font-weight: bold\">9.600000000000001</span> | Average: <span style=\"color: #008080; text-decoration-color: #008080; font-weight: bold\">1.6343999999999996</span> | Iterations: <span style=\"color: #008080; text-decoration-color: #008080; font-weight: bold\">6</span>\n",
       "</pre>\n"
      ],
      "text/plain": [
       "Min: \u001b[1;36m0.0\u001b[0m | Max: \u001b[1;36m9.600000000000001\u001b[0m | Average: \u001b[1;36m1.6343999999999996\u001b[0m | Iterations: \u001b[1;36m6\u001b[0m\n"
      ]
     },
     "metadata": {},
     "output_type": "display_data"
    },
    {
     "data": {
      "text/html": [
       "<pre style=\"white-space:pre;overflow-x:auto;line-height:normal;font-family:Menlo,'DejaVu Sans Mono',consolas,'Courier New',monospace\">Min: <span style=\"color: #008080; text-decoration-color: #008080; font-weight: bold\">0.0</span> | Max: <span style=\"color: #008080; text-decoration-color: #008080; font-weight: bold\">7.600000000000001</span> | Average: <span style=\"color: #008080; text-decoration-color: #008080; font-weight: bold\">1.3520000000000003</span> | Iterations: <span style=\"color: #008080; text-decoration-color: #008080; font-weight: bold\">7</span>\n",
       "</pre>\n"
      ],
      "text/plain": [
       "Min: \u001b[1;36m0.0\u001b[0m | Max: \u001b[1;36m7.600000000000001\u001b[0m | Average: \u001b[1;36m1.3520000000000003\u001b[0m | Iterations: \u001b[1;36m7\u001b[0m\n"
      ]
     },
     "metadata": {},
     "output_type": "display_data"
    },
    {
     "data": {
      "text/html": [
       "<pre style=\"white-space:pre;overflow-x:auto;line-height:normal;font-family:Menlo,'DejaVu Sans Mono',consolas,'Courier New',monospace\">Min: <span style=\"color: #008080; text-decoration-color: #008080; font-weight: bold\">0.0</span> | Max: <span style=\"color: #008080; text-decoration-color: #008080; font-weight: bold\">5.800000000000001</span> | Average: <span style=\"color: #008080; text-decoration-color: #008080; font-weight: bold\">1.1983999999999986</span> | Iterations: <span style=\"color: #008080; text-decoration-color: #008080; font-weight: bold\">8</span>\n",
       "</pre>\n"
      ],
      "text/plain": [
       "Min: \u001b[1;36m0.0\u001b[0m | Max: \u001b[1;36m5.800000000000001\u001b[0m | Average: \u001b[1;36m1.1983999999999986\u001b[0m | Iterations: \u001b[1;36m8\u001b[0m\n"
      ]
     },
     "metadata": {},
     "output_type": "display_data"
    },
    {
     "data": {
      "text/html": [
       "<pre style=\"white-space:pre;overflow-x:auto;line-height:normal;font-family:Menlo,'DejaVu Sans Mono',consolas,'Courier New',monospace\">Min: <span style=\"color: #008080; text-decoration-color: #008080; font-weight: bold\">0.0</span> | Max: <span style=\"color: #008080; text-decoration-color: #008080; font-weight: bold\">6.999999999999998</span> | Average: <span style=\"color: #008080; text-decoration-color: #008080; font-weight: bold\">1.1071999999999989</span> | Iterations: <span style=\"color: #008080; text-decoration-color: #008080; font-weight: bold\">9</span>\n",
       "</pre>\n"
      ],
      "text/plain": [
       "Min: \u001b[1;36m0.0\u001b[0m | Max: \u001b[1;36m6.999999999999998\u001b[0m | Average: \u001b[1;36m1.1071999999999989\u001b[0m | Iterations: \u001b[1;36m9\u001b[0m\n"
      ]
     },
     "metadata": {},
     "output_type": "display_data"
    },
    {
     "data": {
      "text/html": [
       "<pre style=\"white-space:pre;overflow-x:auto;line-height:normal;font-family:Menlo,'DejaVu Sans Mono',consolas,'Courier New',monospace\">Min: <span style=\"color: #008080; text-decoration-color: #008080; font-weight: bold\">0.0</span> | Max: <span style=\"color: #008080; text-decoration-color: #008080; font-weight: bold\">5.0</span> | Average: <span style=\"color: #008080; text-decoration-color: #008080; font-weight: bold\">0.9687999999999998</span> | Iterations: <span style=\"color: #008080; text-decoration-color: #008080; font-weight: bold\">10</span>\n",
       "</pre>\n"
      ],
      "text/plain": [
       "Min: \u001b[1;36m0.0\u001b[0m | Max: \u001b[1;36m5.0\u001b[0m | Average: \u001b[1;36m0.9687999999999998\u001b[0m | Iterations: \u001b[1;36m10\u001b[0m\n"
      ]
     },
     "metadata": {},
     "output_type": "display_data"
    },
    {
     "data": {
      "text/html": [
       "<pre style=\"white-space:pre;overflow-x:auto;line-height:normal;font-family:Menlo,'DejaVu Sans Mono',consolas,'Courier New',monospace\">Min: <span style=\"color: #008080; text-decoration-color: #008080; font-weight: bold\">0.0</span> | Max: <span style=\"color: #008080; text-decoration-color: #008080; font-weight: bold\">4.200000000000003</span> | Average: <span style=\"color: #008080; text-decoration-color: #008080; font-weight: bold\">0.8967999999999995</span> | Iterations: <span style=\"color: #008080; text-decoration-color: #008080; font-weight: bold\">11</span>\n",
       "</pre>\n"
      ],
      "text/plain": [
       "Min: \u001b[1;36m0.0\u001b[0m | Max: \u001b[1;36m4.200000000000003\u001b[0m | Average: \u001b[1;36m0.8967999999999995\u001b[0m | Iterations: \u001b[1;36m11\u001b[0m\n"
      ]
     },
     "metadata": {},
     "output_type": "display_data"
    },
    {
     "data": {
      "text/html": [
       "<pre style=\"white-space:pre;overflow-x:auto;line-height:normal;font-family:Menlo,'DejaVu Sans Mono',consolas,'Courier New',monospace\">Min: <span style=\"color: #008080; text-decoration-color: #008080; font-weight: bold\">0.0</span> | Max: <span style=\"color: #008080; text-decoration-color: #008080; font-weight: bold\">4.600000000000001</span> | Average: <span style=\"color: #008080; text-decoration-color: #008080; font-weight: bold\">0.8839999999999995</span> | Iterations: <span style=\"color: #008080; text-decoration-color: #008080; font-weight: bold\">12</span>\n",
       "</pre>\n"
      ],
      "text/plain": [
       "Min: \u001b[1;36m0.0\u001b[0m | Max: \u001b[1;36m4.600000000000001\u001b[0m | Average: \u001b[1;36m0.8839999999999995\u001b[0m | Iterations: \u001b[1;36m12\u001b[0m\n"
      ]
     },
     "metadata": {},
     "output_type": "display_data"
    },
    {
     "data": {
      "text/html": [
       "<pre style=\"white-space:pre;overflow-x:auto;line-height:normal;font-family:Menlo,'DejaVu Sans Mono',consolas,'Courier New',monospace\">Min: <span style=\"color: #008080; text-decoration-color: #008080; font-weight: bold\">0.0</span> | Max: <span style=\"color: #008080; text-decoration-color: #008080; font-weight: bold\">4.199999999999999</span> | Average: <span style=\"color: #008080; text-decoration-color: #008080; font-weight: bold\">0.8463999999999998</span> | Iterations: <span style=\"color: #008080; text-decoration-color: #008080; font-weight: bold\">13</span>\n",
       "</pre>\n"
      ],
      "text/plain": [
       "Min: \u001b[1;36m0.0\u001b[0m | Max: \u001b[1;36m4.199999999999999\u001b[0m | Average: \u001b[1;36m0.8463999999999998\u001b[0m | Iterations: \u001b[1;36m13\u001b[0m\n"
      ]
     },
     "metadata": {},
     "output_type": "display_data"
    },
    {
     "data": {
      "text/html": [
       "<pre style=\"white-space:pre;overflow-x:auto;line-height:normal;font-family:Menlo,'DejaVu Sans Mono',consolas,'Courier New',monospace\">Min: <span style=\"color: #008080; text-decoration-color: #008080; font-weight: bold\">0.0</span> | Max: <span style=\"color: #008080; text-decoration-color: #008080; font-weight: bold\">5.800000000000001</span> | Average: <span style=\"color: #008080; text-decoration-color: #008080; font-weight: bold\">0.9007999999999996</span> | Iterations: <span style=\"color: #008080; text-decoration-color: #008080; font-weight: bold\">14</span>\n",
       "</pre>\n"
      ],
      "text/plain": [
       "Min: \u001b[1;36m0.0\u001b[0m | Max: \u001b[1;36m5.800000000000001\u001b[0m | Average: \u001b[1;36m0.9007999999999996\u001b[0m | Iterations: \u001b[1;36m14\u001b[0m\n"
      ]
     },
     "metadata": {},
     "output_type": "display_data"
    },
    {
     "data": {
      "text/html": [
       "<pre style=\"white-space:pre;overflow-x:auto;line-height:normal;font-family:Menlo,'DejaVu Sans Mono',consolas,'Courier New',monospace\">Min: <span style=\"color: #008080; text-decoration-color: #008080; font-weight: bold\">0.0</span> | Max: <span style=\"color: #008080; text-decoration-color: #008080; font-weight: bold\">5.799999999999999</span> | Average: <span style=\"color: #008080; text-decoration-color: #008080; font-weight: bold\">0.7367999999999995</span> | Iterations: <span style=\"color: #008080; text-decoration-color: #008080; font-weight: bold\">15</span>\n",
       "</pre>\n"
      ],
      "text/plain": [
       "Min: \u001b[1;36m0.0\u001b[0m | Max: \u001b[1;36m5.799999999999999\u001b[0m | Average: \u001b[1;36m0.7367999999999995\u001b[0m | Iterations: \u001b[1;36m15\u001b[0m\n"
      ]
     },
     "metadata": {},
     "output_type": "display_data"
    },
    {
     "data": {
      "text/html": [
       "<pre style=\"white-space:pre;overflow-x:auto;line-height:normal;font-family:Menlo,'DejaVu Sans Mono',consolas,'Courier New',monospace\">Min: <span style=\"color: #008080; text-decoration-color: #008080; font-weight: bold\">0.0</span> | Max: <span style=\"color: #008080; text-decoration-color: #008080; font-weight: bold\">5.000000000000002</span> | Average: <span style=\"color: #008080; text-decoration-color: #008080; font-weight: bold\">0.8088000000000005</span> | Iterations: <span style=\"color: #008080; text-decoration-color: #008080; font-weight: bold\">16</span>\n",
       "</pre>\n"
      ],
      "text/plain": [
       "Min: \u001b[1;36m0.0\u001b[0m | Max: \u001b[1;36m5.000000000000002\u001b[0m | Average: \u001b[1;36m0.8088000000000005\u001b[0m | Iterations: \u001b[1;36m16\u001b[0m\n"
      ]
     },
     "metadata": {},
     "output_type": "display_data"
    },
    {
     "data": {
      "text/html": [
       "<pre style=\"white-space:pre;overflow-x:auto;line-height:normal;font-family:Menlo,'DejaVu Sans Mono',consolas,'Courier New',monospace\">Min: <span style=\"color: #008080; text-decoration-color: #008080; font-weight: bold\">0.0</span> | Max: <span style=\"color: #008080; text-decoration-color: #008080; font-weight: bold\">3.799999999999997</span> | Average: <span style=\"color: #008080; text-decoration-color: #008080; font-weight: bold\">0.6127999999999998</span> | Iterations: <span style=\"color: #008080; text-decoration-color: #008080; font-weight: bold\">17</span>\n",
       "</pre>\n"
      ],
      "text/plain": [
       "Min: \u001b[1;36m0.0\u001b[0m | Max: \u001b[1;36m3.799999999999997\u001b[0m | Average: \u001b[1;36m0.6127999999999998\u001b[0m | Iterations: \u001b[1;36m17\u001b[0m\n"
      ]
     },
     "metadata": {},
     "output_type": "display_data"
    },
    {
     "data": {
      "text/html": [
       "<pre style=\"white-space:pre;overflow-x:auto;line-height:normal;font-family:Menlo,'DejaVu Sans Mono',consolas,'Courier New',monospace\">Min: <span style=\"color: #008080; text-decoration-color: #008080; font-weight: bold\">0.0</span> | Max: <span style=\"color: #008080; text-decoration-color: #008080; font-weight: bold\">3.8000000000000007</span> | Average: <span style=\"color: #008080; text-decoration-color: #008080; font-weight: bold\">0.7224000000000002</span> | Iterations: <span style=\"color: #008080; text-decoration-color: #008080; font-weight: bold\">18</span>\n",
       "</pre>\n"
      ],
      "text/plain": [
       "Min: \u001b[1;36m0.0\u001b[0m | Max: \u001b[1;36m3.8000000000000007\u001b[0m | Average: \u001b[1;36m0.7224000000000002\u001b[0m | Iterations: \u001b[1;36m18\u001b[0m\n"
      ]
     },
     "metadata": {},
     "output_type": "display_data"
    },
    {
     "data": {
      "text/html": [
       "<pre style=\"white-space:pre;overflow-x:auto;line-height:normal;font-family:Menlo,'DejaVu Sans Mono',consolas,'Courier New',monospace\">Min: <span style=\"color: #008080; text-decoration-color: #008080; font-weight: bold\">0.0</span> | Max: <span style=\"color: #008080; text-decoration-color: #008080; font-weight: bold\">4.0</span> | Average: <span style=\"color: #008080; text-decoration-color: #008080; font-weight: bold\">0.6768000000000002</span> | Iterations: <span style=\"color: #008080; text-decoration-color: #008080; font-weight: bold\">19</span>\n",
       "</pre>\n"
      ],
      "text/plain": [
       "Min: \u001b[1;36m0.0\u001b[0m | Max: \u001b[1;36m4.0\u001b[0m | Average: \u001b[1;36m0.6768000000000002\u001b[0m | Iterations: \u001b[1;36m19\u001b[0m\n"
      ]
     },
     "metadata": {},
     "output_type": "display_data"
    },
    {
     "data": {
      "text/html": [
       "<pre style=\"white-space:pre;overflow-x:auto;line-height:normal;font-family:Menlo,'DejaVu Sans Mono',consolas,'Courier New',monospace\">Min: <span style=\"color: #008080; text-decoration-color: #008080; font-weight: bold\">0.0</span> | Max: <span style=\"color: #008080; text-decoration-color: #008080; font-weight: bold\">5.800000000000001</span> | Average: <span style=\"color: #008080; text-decoration-color: #008080; font-weight: bold\">0.6567999999999995</span> | Iterations: <span style=\"color: #008080; text-decoration-color: #008080; font-weight: bold\">20</span>\n",
       "</pre>\n"
      ],
      "text/plain": [
       "Min: \u001b[1;36m0.0\u001b[0m | Max: \u001b[1;36m5.800000000000001\u001b[0m | Average: \u001b[1;36m0.6567999999999995\u001b[0m | Iterations: \u001b[1;36m20\u001b[0m\n"
      ]
     },
     "metadata": {},
     "output_type": "display_data"
    },
    {
     "data": {
      "text/html": [
       "<pre style=\"white-space:pre;overflow-x:auto;line-height:normal;font-family:Menlo,'DejaVu Sans Mono',consolas,'Courier New',monospace\">Min: <span style=\"color: #008080; text-decoration-color: #008080; font-weight: bold\">0.0</span> | Max: <span style=\"color: #008080; text-decoration-color: #008080; font-weight: bold\">4.200000000000001</span> | Average: <span style=\"color: #008080; text-decoration-color: #008080; font-weight: bold\">0.6824000000000003</span> | Iterations: <span style=\"color: #008080; text-decoration-color: #008080; font-weight: bold\">21</span>\n",
       "</pre>\n"
      ],
      "text/plain": [
       "Min: \u001b[1;36m0.0\u001b[0m | Max: \u001b[1;36m4.200000000000001\u001b[0m | Average: \u001b[1;36m0.6824000000000003\u001b[0m | Iterations: \u001b[1;36m21\u001b[0m\n"
      ]
     },
     "metadata": {},
     "output_type": "display_data"
    },
    {
     "data": {
      "text/html": [
       "<pre style=\"white-space:pre;overflow-x:auto;line-height:normal;font-family:Menlo,'DejaVu Sans Mono',consolas,'Courier New',monospace\">Min: <span style=\"color: #008080; text-decoration-color: #008080; font-weight: bold\">0.0</span> | Max: <span style=\"color: #008080; text-decoration-color: #008080; font-weight: bold\">3.799999999999999</span> | Average: <span style=\"color: #008080; text-decoration-color: #008080; font-weight: bold\">0.6567999999999998</span> | Iterations: <span style=\"color: #008080; text-decoration-color: #008080; font-weight: bold\">22</span>\n",
       "</pre>\n"
      ],
      "text/plain": [
       "Min: \u001b[1;36m0.0\u001b[0m | Max: \u001b[1;36m3.799999999999999\u001b[0m | Average: \u001b[1;36m0.6567999999999998\u001b[0m | Iterations: \u001b[1;36m22\u001b[0m\n"
      ]
     },
     "metadata": {},
     "output_type": "display_data"
    },
    {
     "data": {
      "text/html": [
       "<pre style=\"white-space:pre;overflow-x:auto;line-height:normal;font-family:Menlo,'DejaVu Sans Mono',consolas,'Courier New',monospace\">Min: <span style=\"color: #008080; text-decoration-color: #008080; font-weight: bold\">0.0</span> | Max: <span style=\"color: #008080; text-decoration-color: #008080; font-weight: bold\">4.200000000000001</span> | Average: <span style=\"color: #008080; text-decoration-color: #008080; font-weight: bold\">0.6336</span> | Iterations: <span style=\"color: #008080; text-decoration-color: #008080; font-weight: bold\">23</span>\n",
       "</pre>\n"
      ],
      "text/plain": [
       "Min: \u001b[1;36m0.0\u001b[0m | Max: \u001b[1;36m4.200000000000001\u001b[0m | Average: \u001b[1;36m0.6336\u001b[0m | Iterations: \u001b[1;36m23\u001b[0m\n"
      ]
     },
     "metadata": {},
     "output_type": "display_data"
    },
    {
     "data": {
      "text/html": [
       "<pre style=\"white-space:pre;overflow-x:auto;line-height:normal;font-family:Menlo,'DejaVu Sans Mono',consolas,'Courier New',monospace\">Min: <span style=\"color: #008080; text-decoration-color: #008080; font-weight: bold\">0.0</span> | Max: <span style=\"color: #008080; text-decoration-color: #008080; font-weight: bold\">4.0</span> | Average: <span style=\"color: #008080; text-decoration-color: #008080; font-weight: bold\">0.5216000000000004</span> | Iterations: <span style=\"color: #008080; text-decoration-color: #008080; font-weight: bold\">24</span>\n",
       "</pre>\n"
      ],
      "text/plain": [
       "Min: \u001b[1;36m0.0\u001b[0m | Max: \u001b[1;36m4.0\u001b[0m | Average: \u001b[1;36m0.5216000000000004\u001b[0m | Iterations: \u001b[1;36m24\u001b[0m\n"
      ]
     },
     "metadata": {},
     "output_type": "display_data"
    },
    {
     "data": {
      "text/html": [
       "<pre style=\"white-space:pre;overflow-x:auto;line-height:normal;font-family:Menlo,'DejaVu Sans Mono',consolas,'Courier New',monospace\">Min: <span style=\"color: #008080; text-decoration-color: #008080; font-weight: bold\">0.0</span> | Max: <span style=\"color: #008080; text-decoration-color: #008080; font-weight: bold\">3.1999999999999993</span> | Average: <span style=\"color: #008080; text-decoration-color: #008080; font-weight: bold\">0.5560000000000004</span> | Iterations: <span style=\"color: #008080; text-decoration-color: #008080; font-weight: bold\">25</span>\n",
       "</pre>\n"
      ],
      "text/plain": [
       "Min: \u001b[1;36m0.0\u001b[0m | Max: \u001b[1;36m3.1999999999999993\u001b[0m | Average: \u001b[1;36m0.5560000000000004\u001b[0m | Iterations: \u001b[1;36m25\u001b[0m\n"
      ]
     },
     "metadata": {},
     "output_type": "display_data"
    },
    {
     "data": {
      "text/html": [
       "<pre style=\"white-space:pre;overflow-x:auto;line-height:normal;font-family:Menlo,'DejaVu Sans Mono',consolas,'Courier New',monospace\">Min: <span style=\"color: #008080; text-decoration-color: #008080; font-weight: bold\">0.0</span> | Max: <span style=\"color: #008080; text-decoration-color: #008080; font-weight: bold\">2.8000000000000007</span> | Average: <span style=\"color: #008080; text-decoration-color: #008080; font-weight: bold\">0.4992000000000006</span> | Iterations: <span style=\"color: #008080; text-decoration-color: #008080; font-weight: bold\">26</span>\n",
       "</pre>\n"
      ],
      "text/plain": [
       "Min: \u001b[1;36m0.0\u001b[0m | Max: \u001b[1;36m2.8000000000000007\u001b[0m | Average: \u001b[1;36m0.4992000000000006\u001b[0m | Iterations: \u001b[1;36m26\u001b[0m\n"
      ]
     },
     "metadata": {},
     "output_type": "display_data"
    },
    {
     "data": {
      "text/html": [
       "<pre style=\"white-space:pre;overflow-x:auto;line-height:normal;font-family:Menlo,'DejaVu Sans Mono',consolas,'Courier New',monospace\">Min: <span style=\"color: #008080; text-decoration-color: #008080; font-weight: bold\">0.0</span> | Max: <span style=\"color: #008080; text-decoration-color: #008080; font-weight: bold\">3.6000000000000014</span> | Average: <span style=\"color: #008080; text-decoration-color: #008080; font-weight: bold\">0.5088000000000005</span> | Iterations: <span style=\"color: #008080; text-decoration-color: #008080; font-weight: bold\">27</span>\n",
       "</pre>\n"
      ],
      "text/plain": [
       "Min: \u001b[1;36m0.0\u001b[0m | Max: \u001b[1;36m3.6000000000000014\u001b[0m | Average: \u001b[1;36m0.5088000000000005\u001b[0m | Iterations: \u001b[1;36m27\u001b[0m\n"
      ]
     },
     "metadata": {},
     "output_type": "display_data"
    },
    {
     "data": {
      "text/html": [
       "<pre style=\"white-space:pre;overflow-x:auto;line-height:normal;font-family:Menlo,'DejaVu Sans Mono',consolas,'Courier New',monospace\">Min: <span style=\"color: #008080; text-decoration-color: #008080; font-weight: bold\">0.0</span> | Max: <span style=\"color: #008080; text-decoration-color: #008080; font-weight: bold\">3.3999999999999986</span> | Average: <span style=\"color: #008080; text-decoration-color: #008080; font-weight: bold\">0.5296000000000006</span> | Iterations: <span style=\"color: #008080; text-decoration-color: #008080; font-weight: bold\">28</span>\n",
       "</pre>\n"
      ],
      "text/plain": [
       "Min: \u001b[1;36m0.0\u001b[0m | Max: \u001b[1;36m3.3999999999999986\u001b[0m | Average: \u001b[1;36m0.5296000000000006\u001b[0m | Iterations: \u001b[1;36m28\u001b[0m\n"
      ]
     },
     "metadata": {},
     "output_type": "display_data"
    },
    {
     "data": {
      "text/html": [
       "<pre style=\"white-space:pre;overflow-x:auto;line-height:normal;font-family:Menlo,'DejaVu Sans Mono',consolas,'Courier New',monospace\">Min: <span style=\"color: #008080; text-decoration-color: #008080; font-weight: bold\">0.0</span> | Max: <span style=\"color: #008080; text-decoration-color: #008080; font-weight: bold\">4.4</span> | Average: <span style=\"color: #008080; text-decoration-color: #008080; font-weight: bold\">0.5327999999999999</span> | Iterations: <span style=\"color: #008080; text-decoration-color: #008080; font-weight: bold\">29</span>\n",
       "</pre>\n"
      ],
      "text/plain": [
       "Min: \u001b[1;36m0.0\u001b[0m | Max: \u001b[1;36m4.4\u001b[0m | Average: \u001b[1;36m0.5327999999999999\u001b[0m | Iterations: \u001b[1;36m29\u001b[0m\n"
      ]
     },
     "metadata": {},
     "output_type": "display_data"
    },
    {
     "data": {
      "text/html": [
       "<pre style=\"white-space:pre;overflow-x:auto;line-height:normal;font-family:Menlo,'DejaVu Sans Mono',consolas,'Courier New',monospace\">Min: <span style=\"color: #008080; text-decoration-color: #008080; font-weight: bold\">0.0</span> | Max: <span style=\"color: #008080; text-decoration-color: #008080; font-weight: bold\">3.0</span> | Average: <span style=\"color: #008080; text-decoration-color: #008080; font-weight: bold\">0.5312000000000004</span> | Iterations: <span style=\"color: #008080; text-decoration-color: #008080; font-weight: bold\">30</span>\n",
       "</pre>\n"
      ],
      "text/plain": [
       "Min: \u001b[1;36m0.0\u001b[0m | Max: \u001b[1;36m3.0\u001b[0m | Average: \u001b[1;36m0.5312000000000004\u001b[0m | Iterations: \u001b[1;36m30\u001b[0m\n"
      ]
     },
     "metadata": {},
     "output_type": "display_data"
    },
    {
     "data": {
      "text/html": [
       "<pre style=\"white-space:pre;overflow-x:auto;line-height:normal;font-family:Menlo,'DejaVu Sans Mono',consolas,'Courier New',monospace\">Min: <span style=\"color: #008080; text-decoration-color: #008080; font-weight: bold\">0.0</span> | Max: <span style=\"color: #008080; text-decoration-color: #008080; font-weight: bold\">2.8000000000000007</span> | Average: <span style=\"color: #008080; text-decoration-color: #008080; font-weight: bold\">0.5160000000000003</span> | Iterations: <span style=\"color: #008080; text-decoration-color: #008080; font-weight: bold\">31</span>\n",
       "</pre>\n"
      ],
      "text/plain": [
       "Min: \u001b[1;36m0.0\u001b[0m | Max: \u001b[1;36m2.8000000000000007\u001b[0m | Average: \u001b[1;36m0.5160000000000003\u001b[0m | Iterations: \u001b[1;36m31\u001b[0m\n"
      ]
     },
     "metadata": {},
     "output_type": "display_data"
    },
    {
     "data": {
      "text/html": [
       "<pre style=\"white-space:pre;overflow-x:auto;line-height:normal;font-family:Menlo,'DejaVu Sans Mono',consolas,'Courier New',monospace\">Min: <span style=\"color: #008080; text-decoration-color: #008080; font-weight: bold\">0.0</span> | Max: <span style=\"color: #008080; text-decoration-color: #008080; font-weight: bold\">4.0</span> | Average: <span style=\"color: #008080; text-decoration-color: #008080; font-weight: bold\">0.5128000000000001</span> | Iterations: <span style=\"color: #008080; text-decoration-color: #008080; font-weight: bold\">32</span>\n",
       "</pre>\n"
      ],
      "text/plain": [
       "Min: \u001b[1;36m0.0\u001b[0m | Max: \u001b[1;36m4.0\u001b[0m | Average: \u001b[1;36m0.5128000000000001\u001b[0m | Iterations: \u001b[1;36m32\u001b[0m\n"
      ]
     },
     "metadata": {},
     "output_type": "display_data"
    },
    {
     "data": {
      "text/html": [
       "<pre style=\"white-space:pre;overflow-x:auto;line-height:normal;font-family:Menlo,'DejaVu Sans Mono',consolas,'Courier New',monospace\">Min: <span style=\"color: #008080; text-decoration-color: #008080; font-weight: bold\">0.0</span> | Max: <span style=\"color: #008080; text-decoration-color: #008080; font-weight: bold\">3.1999999999999993</span> | Average: <span style=\"color: #008080; text-decoration-color: #008080; font-weight: bold\">0.5336000000000004</span> | Iterations: <span style=\"color: #008080; text-decoration-color: #008080; font-weight: bold\">33</span>\n",
       "</pre>\n"
      ],
      "text/plain": [
       "Min: \u001b[1;36m0.0\u001b[0m | Max: \u001b[1;36m3.1999999999999993\u001b[0m | Average: \u001b[1;36m0.5336000000000004\u001b[0m | Iterations: \u001b[1;36m33\u001b[0m\n"
      ]
     },
     "metadata": {},
     "output_type": "display_data"
    },
    {
     "data": {
      "text/html": [
       "<pre style=\"white-space:pre;overflow-x:auto;line-height:normal;font-family:Menlo,'DejaVu Sans Mono',consolas,'Courier New',monospace\">Min: <span style=\"color: #008080; text-decoration-color: #008080; font-weight: bold\">0.0</span> | Max: <span style=\"color: #008080; text-decoration-color: #008080; font-weight: bold\">3.1999999999999993</span> | Average: <span style=\"color: #008080; text-decoration-color: #008080; font-weight: bold\">0.5504000000000004</span> | Iterations: <span style=\"color: #008080; text-decoration-color: #008080; font-weight: bold\">34</span>\n",
       "</pre>\n"
      ],
      "text/plain": [
       "Min: \u001b[1;36m0.0\u001b[0m | Max: \u001b[1;36m3.1999999999999993\u001b[0m | Average: \u001b[1;36m0.5504000000000004\u001b[0m | Iterations: \u001b[1;36m34\u001b[0m\n"
      ]
     },
     "metadata": {},
     "output_type": "display_data"
    },
    {
     "data": {
      "text/html": [
       "<pre style=\"white-space:pre;overflow-x:auto;line-height:normal;font-family:Menlo,'DejaVu Sans Mono',consolas,'Courier New',monospace\">Min: <span style=\"color: #008080; text-decoration-color: #008080; font-weight: bold\">0.0</span> | Max: <span style=\"color: #008080; text-decoration-color: #008080; font-weight: bold\">3.1999999999999993</span> | Average: <span style=\"color: #008080; text-decoration-color: #008080; font-weight: bold\">0.45600000000000074</span> | Iterations: <span style=\"color: #008080; text-decoration-color: #008080; font-weight: bold\">35</span>\n",
       "</pre>\n"
      ],
      "text/plain": [
       "Min: \u001b[1;36m0.0\u001b[0m | Max: \u001b[1;36m3.1999999999999993\u001b[0m | Average: \u001b[1;36m0.45600000000000074\u001b[0m | Iterations: \u001b[1;36m35\u001b[0m\n"
      ]
     },
     "metadata": {},
     "output_type": "display_data"
    },
    {
     "data": {
      "text/html": [
       "<pre style=\"white-space:pre;overflow-x:auto;line-height:normal;font-family:Menlo,'DejaVu Sans Mono',consolas,'Courier New',monospace\">Min: <span style=\"color: #008080; text-decoration-color: #008080; font-weight: bold\">0.0</span> | Max: <span style=\"color: #008080; text-decoration-color: #008080; font-weight: bold\">3.8000000000000007</span> | Average: <span style=\"color: #008080; text-decoration-color: #008080; font-weight: bold\">0.4736000000000003</span> | Iterations: <span style=\"color: #008080; text-decoration-color: #008080; font-weight: bold\">36</span>\n",
       "</pre>\n"
      ],
      "text/plain": [
       "Min: \u001b[1;36m0.0\u001b[0m | Max: \u001b[1;36m3.8000000000000007\u001b[0m | Average: \u001b[1;36m0.4736000000000003\u001b[0m | Iterations: \u001b[1;36m36\u001b[0m\n"
      ]
     },
     "metadata": {},
     "output_type": "display_data"
    },
    {
     "data": {
      "text/html": [
       "<pre style=\"white-space:pre;overflow-x:auto;line-height:normal;font-family:Menlo,'DejaVu Sans Mono',consolas,'Courier New',monospace\">Min: <span style=\"color: #008080; text-decoration-color: #008080; font-weight: bold\">0.0</span> | Max: <span style=\"color: #008080; text-decoration-color: #008080; font-weight: bold\">3.599999999999998</span> | Average: <span style=\"color: #008080; text-decoration-color: #008080; font-weight: bold\">0.469600000000001</span> | Iterations: <span style=\"color: #008080; text-decoration-color: #008080; font-weight: bold\">37</span>\n",
       "</pre>\n"
      ],
      "text/plain": [
       "Min: \u001b[1;36m0.0\u001b[0m | Max: \u001b[1;36m3.599999999999998\u001b[0m | Average: \u001b[1;36m0.469600000000001\u001b[0m | Iterations: \u001b[1;36m37\u001b[0m\n"
      ]
     },
     "metadata": {},
     "output_type": "display_data"
    },
    {
     "data": {
      "text/html": [
       "<pre style=\"white-space:pre;overflow-x:auto;line-height:normal;font-family:Menlo,'DejaVu Sans Mono',consolas,'Courier New',monospace\">Min: <span style=\"color: #008080; text-decoration-color: #008080; font-weight: bold\">0.0</span> | Max: <span style=\"color: #008080; text-decoration-color: #008080; font-weight: bold\">3.8000000000000007</span> | Average: <span style=\"color: #008080; text-decoration-color: #008080; font-weight: bold\">0.4832000000000005</span> | Iterations: <span style=\"color: #008080; text-decoration-color: #008080; font-weight: bold\">38</span>\n",
       "</pre>\n"
      ],
      "text/plain": [
       "Min: \u001b[1;36m0.0\u001b[0m | Max: \u001b[1;36m3.8000000000000007\u001b[0m | Average: \u001b[1;36m0.4832000000000005\u001b[0m | Iterations: \u001b[1;36m38\u001b[0m\n"
      ]
     },
     "metadata": {},
     "output_type": "display_data"
    },
    {
     "data": {
      "text/html": [
       "<pre style=\"white-space:pre;overflow-x:auto;line-height:normal;font-family:Menlo,'DejaVu Sans Mono',consolas,'Courier New',monospace\">Min: <span style=\"color: #008080; text-decoration-color: #008080; font-weight: bold\">0.0</span> | Max: <span style=\"color: #008080; text-decoration-color: #008080; font-weight: bold\">3.6000000000000014</span> | Average: <span style=\"color: #008080; text-decoration-color: #008080; font-weight: bold\">0.4472000000000008</span> | Iterations: <span style=\"color: #008080; text-decoration-color: #008080; font-weight: bold\">39</span>\n",
       "</pre>\n"
      ],
      "text/plain": [
       "Min: \u001b[1;36m0.0\u001b[0m | Max: \u001b[1;36m3.6000000000000014\u001b[0m | Average: \u001b[1;36m0.4472000000000008\u001b[0m | Iterations: \u001b[1;36m39\u001b[0m\n"
      ]
     },
     "metadata": {},
     "output_type": "display_data"
    },
    {
     "data": {
      "text/html": [
       "<pre style=\"white-space:pre;overflow-x:auto;line-height:normal;font-family:Menlo,'DejaVu Sans Mono',consolas,'Courier New',monospace\">Min: <span style=\"color: #008080; text-decoration-color: #008080; font-weight: bold\">0.0</span> | Max: <span style=\"color: #008080; text-decoration-color: #008080; font-weight: bold\">2.6000000000000014</span> | Average: <span style=\"color: #008080; text-decoration-color: #008080; font-weight: bold\">0.4776000000000007</span> | Iterations: <span style=\"color: #008080; text-decoration-color: #008080; font-weight: bold\">40</span>\n",
       "</pre>\n"
      ],
      "text/plain": [
       "Min: \u001b[1;36m0.0\u001b[0m | Max: \u001b[1;36m2.6000000000000014\u001b[0m | Average: \u001b[1;36m0.4776000000000007\u001b[0m | Iterations: \u001b[1;36m40\u001b[0m\n"
      ]
     },
     "metadata": {},
     "output_type": "display_data"
    },
    {
     "data": {
      "text/html": [
       "<pre style=\"white-space:pre;overflow-x:auto;line-height:normal;font-family:Menlo,'DejaVu Sans Mono',consolas,'Courier New',monospace\">Min: <span style=\"color: #008080; text-decoration-color: #008080; font-weight: bold\">0.0</span> | Max: <span style=\"color: #008080; text-decoration-color: #008080; font-weight: bold\">4.0</span> | Average: <span style=\"color: #008080; text-decoration-color: #008080; font-weight: bold\">0.48880000000000084</span> | Iterations: <span style=\"color: #008080; text-decoration-color: #008080; font-weight: bold\">41</span>\n",
       "</pre>\n"
      ],
      "text/plain": [
       "Min: \u001b[1;36m0.0\u001b[0m | Max: \u001b[1;36m4.0\u001b[0m | Average: \u001b[1;36m0.48880000000000084\u001b[0m | Iterations: \u001b[1;36m41\u001b[0m\n"
      ]
     },
     "metadata": {},
     "output_type": "display_data"
    },
    {
     "data": {
      "text/html": [
       "<pre style=\"white-space:pre;overflow-x:auto;line-height:normal;font-family:Menlo,'DejaVu Sans Mono',consolas,'Courier New',monospace\">Min: <span style=\"color: #008080; text-decoration-color: #008080; font-weight: bold\">0.0</span> | Max: <span style=\"color: #008080; text-decoration-color: #008080; font-weight: bold\">3.400000000000002</span> | Average: <span style=\"color: #008080; text-decoration-color: #008080; font-weight: bold\">0.4752000000000005</span> | Iterations: <span style=\"color: #008080; text-decoration-color: #008080; font-weight: bold\">42</span>\n",
       "</pre>\n"
      ],
      "text/plain": [
       "Min: \u001b[1;36m0.0\u001b[0m | Max: \u001b[1;36m3.400000000000002\u001b[0m | Average: \u001b[1;36m0.4752000000000005\u001b[0m | Iterations: \u001b[1;36m42\u001b[0m\n"
      ]
     },
     "metadata": {},
     "output_type": "display_data"
    },
    {
     "data": {
      "text/html": [
       "<pre style=\"white-space:pre;overflow-x:auto;line-height:normal;font-family:Menlo,'DejaVu Sans Mono',consolas,'Courier New',monospace\">Min: <span style=\"color: #008080; text-decoration-color: #008080; font-weight: bold\">0.0</span> | Max: <span style=\"color: #008080; text-decoration-color: #008080; font-weight: bold\">2.3999999999999986</span> | Average: <span style=\"color: #008080; text-decoration-color: #008080; font-weight: bold\">0.45200000000000046</span> | Iterations: <span style=\"color: #008080; text-decoration-color: #008080; font-weight: bold\">43</span>\n",
       "</pre>\n"
      ],
      "text/plain": [
       "Min: \u001b[1;36m0.0\u001b[0m | Max: \u001b[1;36m2.3999999999999986\u001b[0m | Average: \u001b[1;36m0.45200000000000046\u001b[0m | Iterations: \u001b[1;36m43\u001b[0m\n"
      ]
     },
     "metadata": {},
     "output_type": "display_data"
    },
    {
     "data": {
      "text/html": [
       "<pre style=\"white-space:pre;overflow-x:auto;line-height:normal;font-family:Menlo,'DejaVu Sans Mono',consolas,'Courier New',monospace\">Min: <span style=\"color: #008080; text-decoration-color: #008080; font-weight: bold\">0.0</span> | Max: <span style=\"color: #008080; text-decoration-color: #008080; font-weight: bold\">2.799999999999999</span> | Average: <span style=\"color: #008080; text-decoration-color: #008080; font-weight: bold\">0.4520000000000001</span> | Iterations: <span style=\"color: #008080; text-decoration-color: #008080; font-weight: bold\">44</span>\n",
       "</pre>\n"
      ],
      "text/plain": [
       "Min: \u001b[1;36m0.0\u001b[0m | Max: \u001b[1;36m2.799999999999999\u001b[0m | Average: \u001b[1;36m0.4520000000000001\u001b[0m | Iterations: \u001b[1;36m44\u001b[0m\n"
      ]
     },
     "metadata": {},
     "output_type": "display_data"
    },
    {
     "data": {
      "text/html": [
       "<pre style=\"white-space:pre;overflow-x:auto;line-height:normal;font-family:Menlo,'DejaVu Sans Mono',consolas,'Courier New',monospace\">Min: <span style=\"color: #008080; text-decoration-color: #008080; font-weight: bold\">0.0</span> | Max: <span style=\"color: #008080; text-decoration-color: #008080; font-weight: bold\">3.400000000000002</span> | Average: <span style=\"color: #008080; text-decoration-color: #008080; font-weight: bold\">0.49840000000000056</span> | Iterations: <span style=\"color: #008080; text-decoration-color: #008080; font-weight: bold\">45</span>\n",
       "</pre>\n"
      ],
      "text/plain": [
       "Min: \u001b[1;36m0.0\u001b[0m | Max: \u001b[1;36m3.400000000000002\u001b[0m | Average: \u001b[1;36m0.49840000000000056\u001b[0m | Iterations: \u001b[1;36m45\u001b[0m\n"
      ]
     },
     "metadata": {},
     "output_type": "display_data"
    },
    {
     "data": {
      "text/html": [
       "<pre style=\"white-space:pre;overflow-x:auto;line-height:normal;font-family:Menlo,'DejaVu Sans Mono',consolas,'Courier New',monospace\">Min: <span style=\"color: #008080; text-decoration-color: #008080; font-weight: bold\">0.0</span> | Max: <span style=\"color: #008080; text-decoration-color: #008080; font-weight: bold\">4.4</span> | Average: <span style=\"color: #008080; text-decoration-color: #008080; font-weight: bold\">0.4392000000000006</span> | Iterations: <span style=\"color: #008080; text-decoration-color: #008080; font-weight: bold\">46</span>\n",
       "</pre>\n"
      ],
      "text/plain": [
       "Min: \u001b[1;36m0.0\u001b[0m | Max: \u001b[1;36m4.4\u001b[0m | Average: \u001b[1;36m0.4392000000000006\u001b[0m | Iterations: \u001b[1;36m46\u001b[0m\n"
      ]
     },
     "metadata": {},
     "output_type": "display_data"
    },
    {
     "data": {
      "text/html": [
       "<pre style=\"white-space:pre;overflow-x:auto;line-height:normal;font-family:Menlo,'DejaVu Sans Mono',consolas,'Courier New',monospace\">Min: <span style=\"color: #008080; text-decoration-color: #008080; font-weight: bold\">0.0</span> | Max: <span style=\"color: #008080; text-decoration-color: #008080; font-weight: bold\">4.0</span> | Average: <span style=\"color: #008080; text-decoration-color: #008080; font-weight: bold\">0.47840000000000027</span> | Iterations: <span style=\"color: #008080; text-decoration-color: #008080; font-weight: bold\">47</span>\n",
       "</pre>\n"
      ],
      "text/plain": [
       "Min: \u001b[1;36m0.0\u001b[0m | Max: \u001b[1;36m4.0\u001b[0m | Average: \u001b[1;36m0.47840000000000027\u001b[0m | Iterations: \u001b[1;36m47\u001b[0m\n"
      ]
     },
     "metadata": {},
     "output_type": "display_data"
    },
    {
     "data": {
      "text/html": [
       "<pre style=\"white-space:pre;overflow-x:auto;line-height:normal;font-family:Menlo,'DejaVu Sans Mono',consolas,'Courier New',monospace\">Min: <span style=\"color: #008080; text-decoration-color: #008080; font-weight: bold\">0.0</span> | Max: <span style=\"color: #008080; text-decoration-color: #008080; font-weight: bold\">4.0</span> | Average: <span style=\"color: #008080; text-decoration-color: #008080; font-weight: bold\">0.47600000000000037</span> | Iterations: <span style=\"color: #008080; text-decoration-color: #008080; font-weight: bold\">48</span>\n",
       "</pre>\n"
      ],
      "text/plain": [
       "Min: \u001b[1;36m0.0\u001b[0m | Max: \u001b[1;36m4.0\u001b[0m | Average: \u001b[1;36m0.47600000000000037\u001b[0m | Iterations: \u001b[1;36m48\u001b[0m\n"
      ]
     },
     "metadata": {},
     "output_type": "display_data"
    },
    {
     "data": {
      "text/html": [
       "<pre style=\"white-space:pre;overflow-x:auto;line-height:normal;font-family:Menlo,'DejaVu Sans Mono',consolas,'Courier New',monospace\">Min: <span style=\"color: #008080; text-decoration-color: #008080; font-weight: bold\">0.0</span> | Max: <span style=\"color: #008080; text-decoration-color: #008080; font-weight: bold\">2.8000000000000007</span> | Average: <span style=\"color: #008080; text-decoration-color: #008080; font-weight: bold\">0.3888000000000006</span> | Iterations: <span style=\"color: #008080; text-decoration-color: #008080; font-weight: bold\">49</span>\n",
       "</pre>\n"
      ],
      "text/plain": [
       "Min: \u001b[1;36m0.0\u001b[0m | Max: \u001b[1;36m2.8000000000000007\u001b[0m | Average: \u001b[1;36m0.3888000000000006\u001b[0m | Iterations: \u001b[1;36m49\u001b[0m\n"
      ]
     },
     "metadata": {},
     "output_type": "display_data"
    },
    {
     "data": {
      "text/html": [
       "<pre style=\"white-space:pre;overflow-x:auto;line-height:normal;font-family:Menlo,'DejaVu Sans Mono',consolas,'Courier New',monospace\">Min: <span style=\"color: #008080; text-decoration-color: #008080; font-weight: bold\">0.0</span> | Max: <span style=\"color: #008080; text-decoration-color: #008080; font-weight: bold\">3.1999999999999993</span> | Average: <span style=\"color: #008080; text-decoration-color: #008080; font-weight: bold\">0.39360000000000056</span> | Iterations: <span style=\"color: #008080; text-decoration-color: #008080; font-weight: bold\">50</span>\n",
       "</pre>\n"
      ],
      "text/plain": [
       "Min: \u001b[1;36m0.0\u001b[0m | Max: \u001b[1;36m3.1999999999999993\u001b[0m | Average: \u001b[1;36m0.39360000000000056\u001b[0m | Iterations: \u001b[1;36m50\u001b[0m\n"
      ]
     },
     "metadata": {},
     "output_type": "display_data"
    },
    {
     "data": {
      "text/html": [
       "<pre style=\"white-space:pre;overflow-x:auto;line-height:normal;font-family:Menlo,'DejaVu Sans Mono',consolas,'Courier New',monospace\">Min: <span style=\"color: #008080; text-decoration-color: #008080; font-weight: bold\">0.0</span> | Max: <span style=\"color: #008080; text-decoration-color: #008080; font-weight: bold\">2.400000000000002</span> | Average: <span style=\"color: #008080; text-decoration-color: #008080; font-weight: bold\">0.40080000000000066</span> | Iterations: <span style=\"color: #008080; text-decoration-color: #008080; font-weight: bold\">51</span>\n",
       "</pre>\n"
      ],
      "text/plain": [
       "Min: \u001b[1;36m0.0\u001b[0m | Max: \u001b[1;36m2.400000000000002\u001b[0m | Average: \u001b[1;36m0.40080000000000066\u001b[0m | Iterations: \u001b[1;36m51\u001b[0m\n"
      ]
     },
     "metadata": {},
     "output_type": "display_data"
    },
    {
     "data": {
      "text/html": [
       "<pre style=\"white-space:pre;overflow-x:auto;line-height:normal;font-family:Menlo,'DejaVu Sans Mono',consolas,'Courier New',monospace\">Min: <span style=\"color: #008080; text-decoration-color: #008080; font-weight: bold\">0.0</span> | Max: <span style=\"color: #008080; text-decoration-color: #008080; font-weight: bold\">3.799999999999997</span> | Average: <span style=\"color: #008080; text-decoration-color: #008080; font-weight: bold\">0.47040000000000054</span> | Iterations: <span style=\"color: #008080; text-decoration-color: #008080; font-weight: bold\">52</span>\n",
       "</pre>\n"
      ],
      "text/plain": [
       "Min: \u001b[1;36m0.0\u001b[0m | Max: \u001b[1;36m3.799999999999997\u001b[0m | Average: \u001b[1;36m0.47040000000000054\u001b[0m | Iterations: \u001b[1;36m52\u001b[0m\n"
      ]
     },
     "metadata": {},
     "output_type": "display_data"
    },
    {
     "data": {
      "text/html": [
       "<pre style=\"white-space:pre;overflow-x:auto;line-height:normal;font-family:Menlo,'DejaVu Sans Mono',consolas,'Courier New',monospace\">Min: <span style=\"color: #008080; text-decoration-color: #008080; font-weight: bold\">0.0</span> | Max: <span style=\"color: #008080; text-decoration-color: #008080; font-weight: bold\">2.3999999999999986</span> | Average: <span style=\"color: #008080; text-decoration-color: #008080; font-weight: bold\">0.4464000000000003</span> | Iterations: <span style=\"color: #008080; text-decoration-color: #008080; font-weight: bold\">53</span>\n",
       "</pre>\n"
      ],
      "text/plain": [
       "Min: \u001b[1;36m0.0\u001b[0m | Max: \u001b[1;36m2.3999999999999986\u001b[0m | Average: \u001b[1;36m0.4464000000000003\u001b[0m | Iterations: \u001b[1;36m53\u001b[0m\n"
      ]
     },
     "metadata": {},
     "output_type": "display_data"
    },
    {
     "data": {
      "text/html": [
       "<pre style=\"white-space:pre;overflow-x:auto;line-height:normal;font-family:Menlo,'DejaVu Sans Mono',consolas,'Courier New',monospace\">Min: <span style=\"color: #008080; text-decoration-color: #008080; font-weight: bold\">0.0</span> | Max: <span style=\"color: #008080; text-decoration-color: #008080; font-weight: bold\">5.199999999999999</span> | Average: <span style=\"color: #008080; text-decoration-color: #008080; font-weight: bold\">0.42000000000000026</span> | Iterations: <span style=\"color: #008080; text-decoration-color: #008080; font-weight: bold\">54</span>\n",
       "</pre>\n"
      ],
      "text/plain": [
       "Min: \u001b[1;36m0.0\u001b[0m | Max: \u001b[1;36m5.199999999999999\u001b[0m | Average: \u001b[1;36m0.42000000000000026\u001b[0m | Iterations: \u001b[1;36m54\u001b[0m\n"
      ]
     },
     "metadata": {},
     "output_type": "display_data"
    },
    {
     "data": {
      "text/html": [
       "<pre style=\"white-space:pre;overflow-x:auto;line-height:normal;font-family:Menlo,'DejaVu Sans Mono',consolas,'Courier New',monospace\">Min: <span style=\"color: #008080; text-decoration-color: #008080; font-weight: bold\">0.0</span> | Max: <span style=\"color: #008080; text-decoration-color: #008080; font-weight: bold\">3.1999999999999993</span> | Average: <span style=\"color: #008080; text-decoration-color: #008080; font-weight: bold\">0.5256000000000004</span> | Iterations: <span style=\"color: #008080; text-decoration-color: #008080; font-weight: bold\">55</span>\n",
       "</pre>\n"
      ],
      "text/plain": [
       "Min: \u001b[1;36m0.0\u001b[0m | Max: \u001b[1;36m3.1999999999999993\u001b[0m | Average: \u001b[1;36m0.5256000000000004\u001b[0m | Iterations: \u001b[1;36m55\u001b[0m\n"
      ]
     },
     "metadata": {},
     "output_type": "display_data"
    },
    {
     "data": {
      "text/html": [
       "<pre style=\"white-space:pre;overflow-x:auto;line-height:normal;font-family:Menlo,'DejaVu Sans Mono',consolas,'Courier New',monospace\">Min: <span style=\"color: #008080; text-decoration-color: #008080; font-weight: bold\">0.0</span> | Max: <span style=\"color: #008080; text-decoration-color: #008080; font-weight: bold\">4.200000000000003</span> | Average: <span style=\"color: #008080; text-decoration-color: #008080; font-weight: bold\">0.47120000000000073</span> | Iterations: <span style=\"color: #008080; text-decoration-color: #008080; font-weight: bold\">56</span>\n",
       "</pre>\n"
      ],
      "text/plain": [
       "Min: \u001b[1;36m0.0\u001b[0m | Max: \u001b[1;36m4.200000000000003\u001b[0m | Average: \u001b[1;36m0.47120000000000073\u001b[0m | Iterations: \u001b[1;36m56\u001b[0m\n"
      ]
     },
     "metadata": {},
     "output_type": "display_data"
    },
    {
     "data": {
      "text/html": [
       "<pre style=\"white-space:pre;overflow-x:auto;line-height:normal;font-family:Menlo,'DejaVu Sans Mono',consolas,'Courier New',monospace\">Min: <span style=\"color: #008080; text-decoration-color: #008080; font-weight: bold\">0.0</span> | Max: <span style=\"color: #008080; text-decoration-color: #008080; font-weight: bold\">3.0</span> | Average: <span style=\"color: #008080; text-decoration-color: #008080; font-weight: bold\">0.4432000000000007</span> | Iterations: <span style=\"color: #008080; text-decoration-color: #008080; font-weight: bold\">57</span>\n",
       "</pre>\n"
      ],
      "text/plain": [
       "Min: \u001b[1;36m0.0\u001b[0m | Max: \u001b[1;36m3.0\u001b[0m | Average: \u001b[1;36m0.4432000000000007\u001b[0m | Iterations: \u001b[1;36m57\u001b[0m\n"
      ]
     },
     "metadata": {},
     "output_type": "display_data"
    },
    {
     "data": {
      "text/html": [
       "<pre style=\"white-space:pre;overflow-x:auto;line-height:normal;font-family:Menlo,'DejaVu Sans Mono',consolas,'Courier New',monospace\">Min: <span style=\"color: #008080; text-decoration-color: #008080; font-weight: bold\">0.0</span> | Max: <span style=\"color: #008080; text-decoration-color: #008080; font-weight: bold\">3.200000000000001</span> | Average: <span style=\"color: #008080; text-decoration-color: #008080; font-weight: bold\">0.4568000000000005</span> | Iterations: <span style=\"color: #008080; text-decoration-color: #008080; font-weight: bold\">58</span>\n",
       "</pre>\n"
      ],
      "text/plain": [
       "Min: \u001b[1;36m0.0\u001b[0m | Max: \u001b[1;36m3.200000000000001\u001b[0m | Average: \u001b[1;36m0.4568000000000005\u001b[0m | Iterations: \u001b[1;36m58\u001b[0m\n"
      ]
     },
     "metadata": {},
     "output_type": "display_data"
    },
    {
     "data": {
      "text/html": [
       "<pre style=\"white-space:pre;overflow-x:auto;line-height:normal;font-family:Menlo,'DejaVu Sans Mono',consolas,'Courier New',monospace\">Min: <span style=\"color: #008080; text-decoration-color: #008080; font-weight: bold\">0.0</span> | Max: <span style=\"color: #008080; text-decoration-color: #008080; font-weight: bold\">2.8000000000000007</span> | Average: <span style=\"color: #008080; text-decoration-color: #008080; font-weight: bold\">0.4392000000000005</span> | Iterations: <span style=\"color: #008080; text-decoration-color: #008080; font-weight: bold\">59</span>\n",
       "</pre>\n"
      ],
      "text/plain": [
       "Min: \u001b[1;36m0.0\u001b[0m | Max: \u001b[1;36m2.8000000000000007\u001b[0m | Average: \u001b[1;36m0.4392000000000005\u001b[0m | Iterations: \u001b[1;36m59\u001b[0m\n"
      ]
     },
     "metadata": {},
     "output_type": "display_data"
    },
    {
     "data": {
      "text/html": [
       "<pre style=\"white-space:pre;overflow-x:auto;line-height:normal;font-family:Menlo,'DejaVu Sans Mono',consolas,'Courier New',monospace\">Min: <span style=\"color: #008080; text-decoration-color: #008080; font-weight: bold\">0.0</span> | Max: <span style=\"color: #008080; text-decoration-color: #008080; font-weight: bold\">3.0</span> | Average: <span style=\"color: #008080; text-decoration-color: #008080; font-weight: bold\">0.4072000000000005</span> | Iterations: <span style=\"color: #008080; text-decoration-color: #008080; font-weight: bold\">60</span>\n",
       "</pre>\n"
      ],
      "text/plain": [
       "Min: \u001b[1;36m0.0\u001b[0m | Max: \u001b[1;36m3.0\u001b[0m | Average: \u001b[1;36m0.4072000000000005\u001b[0m | Iterations: \u001b[1;36m60\u001b[0m\n"
      ]
     },
     "metadata": {},
     "output_type": "display_data"
    },
    {
     "data": {
      "text/html": [
       "<pre style=\"white-space:pre;overflow-x:auto;line-height:normal;font-family:Menlo,'DejaVu Sans Mono',consolas,'Courier New',monospace\">Min: <span style=\"color: #008080; text-decoration-color: #008080; font-weight: bold\">0.0</span> | Max: <span style=\"color: #008080; text-decoration-color: #008080; font-weight: bold\">3.3999999999999986</span> | Average: <span style=\"color: #008080; text-decoration-color: #008080; font-weight: bold\">0.37520000000000037</span> | Iterations: <span style=\"color: #008080; text-decoration-color: #008080; font-weight: bold\">61</span>\n",
       "</pre>\n"
      ],
      "text/plain": [
       "Min: \u001b[1;36m0.0\u001b[0m | Max: \u001b[1;36m3.3999999999999986\u001b[0m | Average: \u001b[1;36m0.37520000000000037\u001b[0m | Iterations: \u001b[1;36m61\u001b[0m\n"
      ]
     },
     "metadata": {},
     "output_type": "display_data"
    },
    {
     "data": {
      "text/html": [
       "<pre style=\"white-space:pre;overflow-x:auto;line-height:normal;font-family:Menlo,'DejaVu Sans Mono',consolas,'Courier New',monospace\">Min: <span style=\"color: #008080; text-decoration-color: #008080; font-weight: bold\">0.0</span> | Max: <span style=\"color: #008080; text-decoration-color: #008080; font-weight: bold\">3.0</span> | Average: <span style=\"color: #008080; text-decoration-color: #008080; font-weight: bold\">0.38000000000000067</span> | Iterations: <span style=\"color: #008080; text-decoration-color: #008080; font-weight: bold\">62</span>\n",
       "</pre>\n"
      ],
      "text/plain": [
       "Min: \u001b[1;36m0.0\u001b[0m | Max: \u001b[1;36m3.0\u001b[0m | Average: \u001b[1;36m0.38000000000000067\u001b[0m | Iterations: \u001b[1;36m62\u001b[0m\n"
      ]
     },
     "metadata": {},
     "output_type": "display_data"
    },
    {
     "data": {
      "text/html": [
       "<pre style=\"white-space:pre;overflow-x:auto;line-height:normal;font-family:Menlo,'DejaVu Sans Mono',consolas,'Courier New',monospace\">Min: <span style=\"color: #008080; text-decoration-color: #008080; font-weight: bold\">0.0</span> | Max: <span style=\"color: #008080; text-decoration-color: #008080; font-weight: bold\">2.8000000000000007</span> | Average: <span style=\"color: #008080; text-decoration-color: #008080; font-weight: bold\">0.4240000000000008</span> | Iterations: <span style=\"color: #008080; text-decoration-color: #008080; font-weight: bold\">63</span>\n",
       "</pre>\n"
      ],
      "text/plain": [
       "Min: \u001b[1;36m0.0\u001b[0m | Max: \u001b[1;36m2.8000000000000007\u001b[0m | Average: \u001b[1;36m0.4240000000000008\u001b[0m | Iterations: \u001b[1;36m63\u001b[0m\n"
      ]
     },
     "metadata": {},
     "output_type": "display_data"
    },
    {
     "data": {
      "text/html": [
       "<pre style=\"white-space:pre;overflow-x:auto;line-height:normal;font-family:Menlo,'DejaVu Sans Mono',consolas,'Courier New',monospace\">Min: <span style=\"color: #008080; text-decoration-color: #008080; font-weight: bold\">0.0</span> | Max: <span style=\"color: #008080; text-decoration-color: #008080; font-weight: bold\">2.0000000000000018</span> | Average: <span style=\"color: #008080; text-decoration-color: #008080; font-weight: bold\">0.3728000000000005</span> | Iterations: <span style=\"color: #008080; text-decoration-color: #008080; font-weight: bold\">64</span>\n",
       "</pre>\n"
      ],
      "text/plain": [
       "Min: \u001b[1;36m0.0\u001b[0m | Max: \u001b[1;36m2.0000000000000018\u001b[0m | Average: \u001b[1;36m0.3728000000000005\u001b[0m | Iterations: \u001b[1;36m64\u001b[0m\n"
      ]
     },
     "metadata": {},
     "output_type": "display_data"
    },
    {
     "data": {
      "text/html": [
       "<pre style=\"white-space:pre;overflow-x:auto;line-height:normal;font-family:Menlo,'DejaVu Sans Mono',consolas,'Courier New',monospace\">Min: <span style=\"color: #008080; text-decoration-color: #008080; font-weight: bold\">0.0</span> | Max: <span style=\"color: #008080; text-decoration-color: #008080; font-weight: bold\">2.799999999999997</span> | Average: <span style=\"color: #008080; text-decoration-color: #008080; font-weight: bold\">0.41760000000000047</span> | Iterations: <span style=\"color: #008080; text-decoration-color: #008080; font-weight: bold\">65</span>\n",
       "</pre>\n"
      ],
      "text/plain": [
       "Min: \u001b[1;36m0.0\u001b[0m | Max: \u001b[1;36m2.799999999999997\u001b[0m | Average: \u001b[1;36m0.41760000000000047\u001b[0m | Iterations: \u001b[1;36m65\u001b[0m\n"
      ]
     },
     "metadata": {},
     "output_type": "display_data"
    },
    {
     "data": {
      "text/html": [
       "<pre style=\"white-space:pre;overflow-x:auto;line-height:normal;font-family:Menlo,'DejaVu Sans Mono',consolas,'Courier New',monospace\">Min: <span style=\"color: #008080; text-decoration-color: #008080; font-weight: bold\">0.0</span> | Max: <span style=\"color: #008080; text-decoration-color: #008080; font-weight: bold\">3.1999999999999993</span> | Average: <span style=\"color: #008080; text-decoration-color: #008080; font-weight: bold\">0.4200000000000006</span> | Iterations: <span style=\"color: #008080; text-decoration-color: #008080; font-weight: bold\">66</span>\n",
       "</pre>\n"
      ],
      "text/plain": [
       "Min: \u001b[1;36m0.0\u001b[0m | Max: \u001b[1;36m3.1999999999999993\u001b[0m | Average: \u001b[1;36m0.4200000000000006\u001b[0m | Iterations: \u001b[1;36m66\u001b[0m\n"
      ]
     },
     "metadata": {},
     "output_type": "display_data"
    },
    {
     "data": {
      "text/html": [
       "<pre style=\"white-space:pre;overflow-x:auto;line-height:normal;font-family:Menlo,'DejaVu Sans Mono',consolas,'Courier New',monospace\">Min: <span style=\"color: #008080; text-decoration-color: #008080; font-weight: bold\">0.0</span> | Max: <span style=\"color: #008080; text-decoration-color: #008080; font-weight: bold\">4.600000000000001</span> | Average: <span style=\"color: #008080; text-decoration-color: #008080; font-weight: bold\">0.4040000000000003</span> | Iterations: <span style=\"color: #008080; text-decoration-color: #008080; font-weight: bold\">67</span>\n",
       "</pre>\n"
      ],
      "text/plain": [
       "Min: \u001b[1;36m0.0\u001b[0m | Max: \u001b[1;36m4.600000000000001\u001b[0m | Average: \u001b[1;36m0.4040000000000003\u001b[0m | Iterations: \u001b[1;36m67\u001b[0m\n"
      ]
     },
     "metadata": {},
     "output_type": "display_data"
    },
    {
     "data": {
      "text/html": [
       "<pre style=\"white-space:pre;overflow-x:auto;line-height:normal;font-family:Menlo,'DejaVu Sans Mono',consolas,'Courier New',monospace\">Min: <span style=\"color: #008080; text-decoration-color: #008080; font-weight: bold\">0.0</span> | Max: <span style=\"color: #008080; text-decoration-color: #008080; font-weight: bold\">3.1999999999999993</span> | Average: <span style=\"color: #008080; text-decoration-color: #008080; font-weight: bold\">0.39600000000000074</span> | Iterations: <span style=\"color: #008080; text-decoration-color: #008080; font-weight: bold\">68</span>\n",
       "</pre>\n"
      ],
      "text/plain": [
       "Min: \u001b[1;36m0.0\u001b[0m | Max: \u001b[1;36m3.1999999999999993\u001b[0m | Average: \u001b[1;36m0.39600000000000074\u001b[0m | Iterations: \u001b[1;36m68\u001b[0m\n"
      ]
     },
     "metadata": {},
     "output_type": "display_data"
    },
    {
     "data": {
      "text/html": [
       "<pre style=\"white-space:pre;overflow-x:auto;line-height:normal;font-family:Menlo,'DejaVu Sans Mono',consolas,'Courier New',monospace\">Min: <span style=\"color: #008080; text-decoration-color: #008080; font-weight: bold\">0.0</span> | Max: <span style=\"color: #008080; text-decoration-color: #008080; font-weight: bold\">2.3999999999999986</span> | Average: <span style=\"color: #008080; text-decoration-color: #008080; font-weight: bold\">0.4264000000000004</span> | Iterations: <span style=\"color: #008080; text-decoration-color: #008080; font-weight: bold\">69</span>\n",
       "</pre>\n"
      ],
      "text/plain": [
       "Min: \u001b[1;36m0.0\u001b[0m | Max: \u001b[1;36m2.3999999999999986\u001b[0m | Average: \u001b[1;36m0.4264000000000004\u001b[0m | Iterations: \u001b[1;36m69\u001b[0m\n"
      ]
     },
     "metadata": {},
     "output_type": "display_data"
    },
    {
     "data": {
      "text/html": [
       "<pre style=\"white-space:pre;overflow-x:auto;line-height:normal;font-family:Menlo,'DejaVu Sans Mono',consolas,'Courier New',monospace\">Min: <span style=\"color: #008080; text-decoration-color: #008080; font-weight: bold\">0.0</span> | Max: <span style=\"color: #008080; text-decoration-color: #008080; font-weight: bold\">4.999999999999998</span> | Average: <span style=\"color: #008080; text-decoration-color: #008080; font-weight: bold\">0.43840000000000034</span> | Iterations: <span style=\"color: #008080; text-decoration-color: #008080; font-weight: bold\">70</span>\n",
       "</pre>\n"
      ],
      "text/plain": [
       "Min: \u001b[1;36m0.0\u001b[0m | Max: \u001b[1;36m4.999999999999998\u001b[0m | Average: \u001b[1;36m0.43840000000000034\u001b[0m | Iterations: \u001b[1;36m70\u001b[0m\n"
      ]
     },
     "metadata": {},
     "output_type": "display_data"
    },
    {
     "data": {
      "text/html": [
       "<pre style=\"white-space:pre;overflow-x:auto;line-height:normal;font-family:Menlo,'DejaVu Sans Mono',consolas,'Courier New',monospace\">Min: <span style=\"color: #008080; text-decoration-color: #008080; font-weight: bold\">0.0</span> | Max: <span style=\"color: #008080; text-decoration-color: #008080; font-weight: bold\">2.5999999999999996</span> | Average: <span style=\"color: #008080; text-decoration-color: #008080; font-weight: bold\">0.3824000000000004</span> | Iterations: <span style=\"color: #008080; text-decoration-color: #008080; font-weight: bold\">71</span>\n",
       "</pre>\n"
      ],
      "text/plain": [
       "Min: \u001b[1;36m0.0\u001b[0m | Max: \u001b[1;36m2.5999999999999996\u001b[0m | Average: \u001b[1;36m0.3824000000000004\u001b[0m | Iterations: \u001b[1;36m71\u001b[0m\n"
      ]
     },
     "metadata": {},
     "output_type": "display_data"
    },
    {
     "data": {
      "text/html": [
       "<pre style=\"white-space:pre;overflow-x:auto;line-height:normal;font-family:Menlo,'DejaVu Sans Mono',consolas,'Courier New',monospace\">Min: <span style=\"color: #008080; text-decoration-color: #008080; font-weight: bold\">0.0</span> | Max: <span style=\"color: #008080; text-decoration-color: #008080; font-weight: bold\">2.5999999999999996</span> | Average: <span style=\"color: #008080; text-decoration-color: #008080; font-weight: bold\">0.3872000000000001</span> | Iterations: <span style=\"color: #008080; text-decoration-color: #008080; font-weight: bold\">72</span>\n",
       "</pre>\n"
      ],
      "text/plain": [
       "Min: \u001b[1;36m0.0\u001b[0m | Max: \u001b[1;36m2.5999999999999996\u001b[0m | Average: \u001b[1;36m0.3872000000000001\u001b[0m | Iterations: \u001b[1;36m72\u001b[0m\n"
      ]
     },
     "metadata": {},
     "output_type": "display_data"
    },
    {
     "data": {
      "text/html": [
       "<pre style=\"white-space:pre;overflow-x:auto;line-height:normal;font-family:Menlo,'DejaVu Sans Mono',consolas,'Courier New',monospace\">Min: <span style=\"color: #008080; text-decoration-color: #008080; font-weight: bold\">0.0</span> | Max: <span style=\"color: #008080; text-decoration-color: #008080; font-weight: bold\">2.1999999999999993</span> | Average: <span style=\"color: #008080; text-decoration-color: #008080; font-weight: bold\">0.35440000000000055</span> | Iterations: <span style=\"color: #008080; text-decoration-color: #008080; font-weight: bold\">73</span>\n",
       "</pre>\n"
      ],
      "text/plain": [
       "Min: \u001b[1;36m0.0\u001b[0m | Max: \u001b[1;36m2.1999999999999993\u001b[0m | Average: \u001b[1;36m0.35440000000000055\u001b[0m | Iterations: \u001b[1;36m73\u001b[0m\n"
      ]
     },
     "metadata": {},
     "output_type": "display_data"
    },
    {
     "data": {
      "text/html": [
       "<pre style=\"white-space:pre;overflow-x:auto;line-height:normal;font-family:Menlo,'DejaVu Sans Mono',consolas,'Courier New',monospace\">Min: <span style=\"color: #008080; text-decoration-color: #008080; font-weight: bold\">0.0</span> | Max: <span style=\"color: #008080; text-decoration-color: #008080; font-weight: bold\">4.0</span> | Average: <span style=\"color: #008080; text-decoration-color: #008080; font-weight: bold\">0.43760000000000066</span> | Iterations: <span style=\"color: #008080; text-decoration-color: #008080; font-weight: bold\">74</span>\n",
       "</pre>\n"
      ],
      "text/plain": [
       "Min: \u001b[1;36m0.0\u001b[0m | Max: \u001b[1;36m4.0\u001b[0m | Average: \u001b[1;36m0.43760000000000066\u001b[0m | Iterations: \u001b[1;36m74\u001b[0m\n"
      ]
     },
     "metadata": {},
     "output_type": "display_data"
    },
    {
     "data": {
      "text/html": [
       "<pre style=\"white-space:pre;overflow-x:auto;line-height:normal;font-family:Menlo,'DejaVu Sans Mono',consolas,'Courier New',monospace\">Min: <span style=\"color: #008080; text-decoration-color: #008080; font-weight: bold\">0.0</span> | Max: <span style=\"color: #008080; text-decoration-color: #008080; font-weight: bold\">2.8000000000000007</span> | Average: <span style=\"color: #008080; text-decoration-color: #008080; font-weight: bold\">0.3864000000000005</span> | Iterations: <span style=\"color: #008080; text-decoration-color: #008080; font-weight: bold\">75</span>\n",
       "</pre>\n"
      ],
      "text/plain": [
       "Min: \u001b[1;36m0.0\u001b[0m | Max: \u001b[1;36m2.8000000000000007\u001b[0m | Average: \u001b[1;36m0.3864000000000005\u001b[0m | Iterations: \u001b[1;36m75\u001b[0m\n"
      ]
     },
     "metadata": {},
     "output_type": "display_data"
    },
    {
     "data": {
      "text/html": [
       "<pre style=\"white-space:pre;overflow-x:auto;line-height:normal;font-family:Menlo,'DejaVu Sans Mono',consolas,'Courier New',monospace\">Min: <span style=\"color: #008080; text-decoration-color: #008080; font-weight: bold\">0.0</span> | Max: <span style=\"color: #008080; text-decoration-color: #008080; font-weight: bold\">3.0</span> | Average: <span style=\"color: #008080; text-decoration-color: #008080; font-weight: bold\">0.38480000000000053</span> | Iterations: <span style=\"color: #008080; text-decoration-color: #008080; font-weight: bold\">76</span>\n",
       "</pre>\n"
      ],
      "text/plain": [
       "Min: \u001b[1;36m0.0\u001b[0m | Max: \u001b[1;36m3.0\u001b[0m | Average: \u001b[1;36m0.38480000000000053\u001b[0m | Iterations: \u001b[1;36m76\u001b[0m\n"
      ]
     },
     "metadata": {},
     "output_type": "display_data"
    },
    {
     "data": {
      "text/html": [
       "<pre style=\"white-space:pre;overflow-x:auto;line-height:normal;font-family:Menlo,'DejaVu Sans Mono',consolas,'Courier New',monospace\">Min: <span style=\"color: #008080; text-decoration-color: #008080; font-weight: bold\">0.0</span> | Max: <span style=\"color: #008080; text-decoration-color: #008080; font-weight: bold\">3.1999999999999993</span> | Average: <span style=\"color: #008080; text-decoration-color: #008080; font-weight: bold\">0.39040000000000025</span> | Iterations: <span style=\"color: #008080; text-decoration-color: #008080; font-weight: bold\">77</span>\n",
       "</pre>\n"
      ],
      "text/plain": [
       "Min: \u001b[1;36m0.0\u001b[0m | Max: \u001b[1;36m3.1999999999999993\u001b[0m | Average: \u001b[1;36m0.39040000000000025\u001b[0m | Iterations: \u001b[1;36m77\u001b[0m\n"
      ]
     },
     "metadata": {},
     "output_type": "display_data"
    },
    {
     "data": {
      "text/html": [
       "<pre style=\"white-space:pre;overflow-x:auto;line-height:normal;font-family:Menlo,'DejaVu Sans Mono',consolas,'Courier New',monospace\">Min: <span style=\"color: #008080; text-decoration-color: #008080; font-weight: bold\">0.0</span> | Max: <span style=\"color: #008080; text-decoration-color: #008080; font-weight: bold\">2.799999999999999</span> | Average: <span style=\"color: #008080; text-decoration-color: #008080; font-weight: bold\">0.36400000000000066</span> | Iterations: <span style=\"color: #008080; text-decoration-color: #008080; font-weight: bold\">78</span>\n",
       "</pre>\n"
      ],
      "text/plain": [
       "Min: \u001b[1;36m0.0\u001b[0m | Max: \u001b[1;36m2.799999999999999\u001b[0m | Average: \u001b[1;36m0.36400000000000066\u001b[0m | Iterations: \u001b[1;36m78\u001b[0m\n"
      ]
     },
     "metadata": {},
     "output_type": "display_data"
    },
    {
     "data": {
      "text/html": [
       "<pre style=\"white-space:pre;overflow-x:auto;line-height:normal;font-family:Menlo,'DejaVu Sans Mono',consolas,'Courier New',monospace\">Min: <span style=\"color: #008080; text-decoration-color: #008080; font-weight: bold\">0.0</span> | Max: <span style=\"color: #008080; text-decoration-color: #008080; font-weight: bold\">3.0</span> | Average: <span style=\"color: #008080; text-decoration-color: #008080; font-weight: bold\">0.3720000000000003</span> | Iterations: <span style=\"color: #008080; text-decoration-color: #008080; font-weight: bold\">79</span>\n",
       "</pre>\n"
      ],
      "text/plain": [
       "Min: \u001b[1;36m0.0\u001b[0m | Max: \u001b[1;36m3.0\u001b[0m | Average: \u001b[1;36m0.3720000000000003\u001b[0m | Iterations: \u001b[1;36m79\u001b[0m\n"
      ]
     },
     "metadata": {},
     "output_type": "display_data"
    },
    {
     "data": {
      "text/html": [
       "<pre style=\"white-space:pre;overflow-x:auto;line-height:normal;font-family:Menlo,'DejaVu Sans Mono',consolas,'Courier New',monospace\">Min: <span style=\"color: #008080; text-decoration-color: #008080; font-weight: bold\">0.0</span> | Max: <span style=\"color: #008080; text-decoration-color: #008080; font-weight: bold\">2.599999999999998</span> | Average: <span style=\"color: #008080; text-decoration-color: #008080; font-weight: bold\">0.4120000000000006</span> | Iterations: <span style=\"color: #008080; text-decoration-color: #008080; font-weight: bold\">80</span>\n",
       "</pre>\n"
      ],
      "text/plain": [
       "Min: \u001b[1;36m0.0\u001b[0m | Max: \u001b[1;36m2.599999999999998\u001b[0m | Average: \u001b[1;36m0.4120000000000006\u001b[0m | Iterations: \u001b[1;36m80\u001b[0m\n"
      ]
     },
     "metadata": {},
     "output_type": "display_data"
    },
    {
     "data": {
      "text/html": [
       "<pre style=\"white-space:pre;overflow-x:auto;line-height:normal;font-family:Menlo,'DejaVu Sans Mono',consolas,'Courier New',monospace\">Min: <span style=\"color: #008080; text-decoration-color: #008080; font-weight: bold\">0.0</span> | Max: <span style=\"color: #008080; text-decoration-color: #008080; font-weight: bold\">2.3999999999999986</span> | Average: <span style=\"color: #008080; text-decoration-color: #008080; font-weight: bold\">0.40320000000000045</span> | Iterations: <span style=\"color: #008080; text-decoration-color: #008080; font-weight: bold\">81</span>\n",
       "</pre>\n"
      ],
      "text/plain": [
       "Min: \u001b[1;36m0.0\u001b[0m | Max: \u001b[1;36m2.3999999999999986\u001b[0m | Average: \u001b[1;36m0.40320000000000045\u001b[0m | Iterations: \u001b[1;36m81\u001b[0m\n"
      ]
     },
     "metadata": {},
     "output_type": "display_data"
    },
    {
     "data": {
      "text/html": [
       "<pre style=\"white-space:pre;overflow-x:auto;line-height:normal;font-family:Menlo,'DejaVu Sans Mono',consolas,'Courier New',monospace\">Min: <span style=\"color: #008080; text-decoration-color: #008080; font-weight: bold\">0.0</span> | Max: <span style=\"color: #008080; text-decoration-color: #008080; font-weight: bold\">2.200000000000003</span> | Average: <span style=\"color: #008080; text-decoration-color: #008080; font-weight: bold\">0.36560000000000076</span> | Iterations: <span style=\"color: #008080; text-decoration-color: #008080; font-weight: bold\">82</span>\n",
       "</pre>\n"
      ],
      "text/plain": [
       "Min: \u001b[1;36m0.0\u001b[0m | Max: \u001b[1;36m2.200000000000003\u001b[0m | Average: \u001b[1;36m0.36560000000000076\u001b[0m | Iterations: \u001b[1;36m82\u001b[0m\n"
      ]
     },
     "metadata": {},
     "output_type": "display_data"
    },
    {
     "data": {
      "text/html": [
       "<pre style=\"white-space:pre;overflow-x:auto;line-height:normal;font-family:Menlo,'DejaVu Sans Mono',consolas,'Courier New',monospace\">Min: <span style=\"color: #008080; text-decoration-color: #008080; font-weight: bold\">0.0</span> | Max: <span style=\"color: #008080; text-decoration-color: #008080; font-weight: bold\">2.6000000000000014</span> | Average: <span style=\"color: #008080; text-decoration-color: #008080; font-weight: bold\">0.4152000000000005</span> | Iterations: <span style=\"color: #008080; text-decoration-color: #008080; font-weight: bold\">83</span>\n",
       "</pre>\n"
      ],
      "text/plain": [
       "Min: \u001b[1;36m0.0\u001b[0m | Max: \u001b[1;36m2.6000000000000014\u001b[0m | Average: \u001b[1;36m0.4152000000000005\u001b[0m | Iterations: \u001b[1;36m83\u001b[0m\n"
      ]
     },
     "metadata": {},
     "output_type": "display_data"
    },
    {
     "data": {
      "text/html": [
       "<pre style=\"white-space:pre;overflow-x:auto;line-height:normal;font-family:Menlo,'DejaVu Sans Mono',consolas,'Courier New',monospace\">Min: <span style=\"color: #008080; text-decoration-color: #008080; font-weight: bold\">0.0</span> | Max: <span style=\"color: #008080; text-decoration-color: #008080; font-weight: bold\">3.8000000000000007</span> | Average: <span style=\"color: #008080; text-decoration-color: #008080; font-weight: bold\">0.4264000000000005</span> | Iterations: <span style=\"color: #008080; text-decoration-color: #008080; font-weight: bold\">84</span>\n",
       "</pre>\n"
      ],
      "text/plain": [
       "Min: \u001b[1;36m0.0\u001b[0m | Max: \u001b[1;36m3.8000000000000007\u001b[0m | Average: \u001b[1;36m0.4264000000000005\u001b[0m | Iterations: \u001b[1;36m84\u001b[0m\n"
      ]
     },
     "metadata": {},
     "output_type": "display_data"
    },
    {
     "data": {
      "text/html": [
       "<pre style=\"white-space:pre;overflow-x:auto;line-height:normal;font-family:Menlo,'DejaVu Sans Mono',consolas,'Courier New',monospace\">Min: <span style=\"color: #008080; text-decoration-color: #008080; font-weight: bold\">0.0</span> | Max: <span style=\"color: #008080; text-decoration-color: #008080; font-weight: bold\">3.8000000000000007</span> | Average: <span style=\"color: #008080; text-decoration-color: #008080; font-weight: bold\">0.40000000000000063</span> | Iterations: <span style=\"color: #008080; text-decoration-color: #008080; font-weight: bold\">85</span>\n",
       "</pre>\n"
      ],
      "text/plain": [
       "Min: \u001b[1;36m0.0\u001b[0m | Max: \u001b[1;36m3.8000000000000007\u001b[0m | Average: \u001b[1;36m0.40000000000000063\u001b[0m | Iterations: \u001b[1;36m85\u001b[0m\n"
      ]
     },
     "metadata": {},
     "output_type": "display_data"
    },
    {
     "data": {
      "text/html": [
       "<pre style=\"white-space:pre;overflow-x:auto;line-height:normal;font-family:Menlo,'DejaVu Sans Mono',consolas,'Courier New',monospace\">Min: <span style=\"color: #008080; text-decoration-color: #008080; font-weight: bold\">0.0</span> | Max: <span style=\"color: #008080; text-decoration-color: #008080; font-weight: bold\">3.0</span> | Average: <span style=\"color: #008080; text-decoration-color: #008080; font-weight: bold\">0.43440000000000034</span> | Iterations: <span style=\"color: #008080; text-decoration-color: #008080; font-weight: bold\">86</span>\n",
       "</pre>\n"
      ],
      "text/plain": [
       "Min: \u001b[1;36m0.0\u001b[0m | Max: \u001b[1;36m3.0\u001b[0m | Average: \u001b[1;36m0.43440000000000034\u001b[0m | Iterations: \u001b[1;36m86\u001b[0m\n"
      ]
     },
     "metadata": {},
     "output_type": "display_data"
    },
    {
     "data": {
      "text/html": [
       "<pre style=\"white-space:pre;overflow-x:auto;line-height:normal;font-family:Menlo,'DejaVu Sans Mono',consolas,'Courier New',monospace\">Min: <span style=\"color: #008080; text-decoration-color: #008080; font-weight: bold\">0.0</span> | Max: <span style=\"color: #008080; text-decoration-color: #008080; font-weight: bold\">2.400000000000002</span> | Average: <span style=\"color: #008080; text-decoration-color: #008080; font-weight: bold\">0.3656000000000005</span> | Iterations: <span style=\"color: #008080; text-decoration-color: #008080; font-weight: bold\">87</span>\n",
       "</pre>\n"
      ],
      "text/plain": [
       "Min: \u001b[1;36m0.0\u001b[0m | Max: \u001b[1;36m2.400000000000002\u001b[0m | Average: \u001b[1;36m0.3656000000000005\u001b[0m | Iterations: \u001b[1;36m87\u001b[0m\n"
      ]
     },
     "metadata": {},
     "output_type": "display_data"
    },
    {
     "data": {
      "text/html": [
       "<pre style=\"white-space:pre;overflow-x:auto;line-height:normal;font-family:Menlo,'DejaVu Sans Mono',consolas,'Courier New',monospace\">Min: <span style=\"color: #008080; text-decoration-color: #008080; font-weight: bold\">0.0</span> | Max: <span style=\"color: #008080; text-decoration-color: #008080; font-weight: bold\">3.0</span> | Average: <span style=\"color: #008080; text-decoration-color: #008080; font-weight: bold\">0.42640000000000067</span> | Iterations: <span style=\"color: #008080; text-decoration-color: #008080; font-weight: bold\">88</span>\n",
       "</pre>\n"
      ],
      "text/plain": [
       "Min: \u001b[1;36m0.0\u001b[0m | Max: \u001b[1;36m3.0\u001b[0m | Average: \u001b[1;36m0.42640000000000067\u001b[0m | Iterations: \u001b[1;36m88\u001b[0m\n"
      ]
     },
     "metadata": {},
     "output_type": "display_data"
    },
    {
     "data": {
      "text/html": [
       "<pre style=\"white-space:pre;overflow-x:auto;line-height:normal;font-family:Menlo,'DejaVu Sans Mono',consolas,'Courier New',monospace\">Min: <span style=\"color: #008080; text-decoration-color: #008080; font-weight: bold\">0.0</span> | Max: <span style=\"color: #008080; text-decoration-color: #008080; font-weight: bold\">3.1999999999999993</span> | Average: <span style=\"color: #008080; text-decoration-color: #008080; font-weight: bold\">0.3760000000000006</span> | Iterations: <span style=\"color: #008080; text-decoration-color: #008080; font-weight: bold\">89</span>\n",
       "</pre>\n"
      ],
      "text/plain": [
       "Min: \u001b[1;36m0.0\u001b[0m | Max: \u001b[1;36m3.1999999999999993\u001b[0m | Average: \u001b[1;36m0.3760000000000006\u001b[0m | Iterations: \u001b[1;36m89\u001b[0m\n"
      ]
     },
     "metadata": {},
     "output_type": "display_data"
    },
    {
     "data": {
      "text/html": [
       "<pre style=\"white-space:pre;overflow-x:auto;line-height:normal;font-family:Menlo,'DejaVu Sans Mono',consolas,'Courier New',monospace\">Min: <span style=\"color: #008080; text-decoration-color: #008080; font-weight: bold\">0.0</span> | Max: <span style=\"color: #008080; text-decoration-color: #008080; font-weight: bold\">4.400000000000002</span> | Average: <span style=\"color: #008080; text-decoration-color: #008080; font-weight: bold\">0.38480000000000064</span> | Iterations: <span style=\"color: #008080; text-decoration-color: #008080; font-weight: bold\">90</span>\n",
       "</pre>\n"
      ],
      "text/plain": [
       "Min: \u001b[1;36m0.0\u001b[0m | Max: \u001b[1;36m4.400000000000002\u001b[0m | Average: \u001b[1;36m0.38480000000000064\u001b[0m | Iterations: \u001b[1;36m90\u001b[0m\n"
      ]
     },
     "metadata": {},
     "output_type": "display_data"
    },
    {
     "data": {
      "text/html": [
       "<pre style=\"white-space:pre;overflow-x:auto;line-height:normal;font-family:Menlo,'DejaVu Sans Mono',consolas,'Courier New',monospace\">Min: <span style=\"color: #008080; text-decoration-color: #008080; font-weight: bold\">0.0</span> | Max: <span style=\"color: #008080; text-decoration-color: #008080; font-weight: bold\">2.6000000000000014</span> | Average: <span style=\"color: #008080; text-decoration-color: #008080; font-weight: bold\">0.38480000000000036</span> | Iterations: <span style=\"color: #008080; text-decoration-color: #008080; font-weight: bold\">91</span>\n",
       "</pre>\n"
      ],
      "text/plain": [
       "Min: \u001b[1;36m0.0\u001b[0m | Max: \u001b[1;36m2.6000000000000014\u001b[0m | Average: \u001b[1;36m0.38480000000000036\u001b[0m | Iterations: \u001b[1;36m91\u001b[0m\n"
      ]
     },
     "metadata": {},
     "output_type": "display_data"
    },
    {
     "data": {
      "text/html": [
       "<pre style=\"white-space:pre;overflow-x:auto;line-height:normal;font-family:Menlo,'DejaVu Sans Mono',consolas,'Courier New',monospace\">Min: <span style=\"color: #008080; text-decoration-color: #008080; font-weight: bold\">0.0</span> | Max: <span style=\"color: #008080; text-decoration-color: #008080; font-weight: bold\">4.4</span> | Average: <span style=\"color: #008080; text-decoration-color: #008080; font-weight: bold\">0.3928000000000008</span> | Iterations: <span style=\"color: #008080; text-decoration-color: #008080; font-weight: bold\">92</span>\n",
       "</pre>\n"
      ],
      "text/plain": [
       "Min: \u001b[1;36m0.0\u001b[0m | Max: \u001b[1;36m4.4\u001b[0m | Average: \u001b[1;36m0.3928000000000008\u001b[0m | Iterations: \u001b[1;36m92\u001b[0m\n"
      ]
     },
     "metadata": {},
     "output_type": "display_data"
    },
    {
     "data": {
      "text/html": [
       "<pre style=\"white-space:pre;overflow-x:auto;line-height:normal;font-family:Menlo,'DejaVu Sans Mono',consolas,'Courier New',monospace\">Min: <span style=\"color: #008080; text-decoration-color: #008080; font-weight: bold\">0.0</span> | Max: <span style=\"color: #008080; text-decoration-color: #008080; font-weight: bold\">3.1999999999999993</span> | Average: <span style=\"color: #008080; text-decoration-color: #008080; font-weight: bold\">0.3896000000000007</span> | Iterations: <span style=\"color: #008080; text-decoration-color: #008080; font-weight: bold\">93</span>\n",
       "</pre>\n"
      ],
      "text/plain": [
       "Min: \u001b[1;36m0.0\u001b[0m | Max: \u001b[1;36m3.1999999999999993\u001b[0m | Average: \u001b[1;36m0.3896000000000007\u001b[0m | Iterations: \u001b[1;36m93\u001b[0m\n"
      ]
     },
     "metadata": {},
     "output_type": "display_data"
    },
    {
     "data": {
      "text/html": [
       "<pre style=\"white-space:pre;overflow-x:auto;line-height:normal;font-family:Menlo,'DejaVu Sans Mono',consolas,'Courier New',monospace\">Min: <span style=\"color: #008080; text-decoration-color: #008080; font-weight: bold\">0.0</span> | Max: <span style=\"color: #008080; text-decoration-color: #008080; font-weight: bold\">3.4000000000000004</span> | Average: <span style=\"color: #008080; text-decoration-color: #008080; font-weight: bold\">0.4112000000000003</span> | Iterations: <span style=\"color: #008080; text-decoration-color: #008080; font-weight: bold\">94</span>\n",
       "</pre>\n"
      ],
      "text/plain": [
       "Min: \u001b[1;36m0.0\u001b[0m | Max: \u001b[1;36m3.4000000000000004\u001b[0m | Average: \u001b[1;36m0.4112000000000003\u001b[0m | Iterations: \u001b[1;36m94\u001b[0m\n"
      ]
     },
     "metadata": {},
     "output_type": "display_data"
    },
    {
     "data": {
      "text/html": [
       "<pre style=\"white-space:pre;overflow-x:auto;line-height:normal;font-family:Menlo,'DejaVu Sans Mono',consolas,'Courier New',monospace\">Min: <span style=\"color: #008080; text-decoration-color: #008080; font-weight: bold\">0.0</span> | Max: <span style=\"color: #008080; text-decoration-color: #008080; font-weight: bold\">2.799999999999999</span> | Average: <span style=\"color: #008080; text-decoration-color: #008080; font-weight: bold\">0.41200000000000064</span> | Iterations: <span style=\"color: #008080; text-decoration-color: #008080; font-weight: bold\">95</span>\n",
       "</pre>\n"
      ],
      "text/plain": [
       "Min: \u001b[1;36m0.0\u001b[0m | Max: \u001b[1;36m2.799999999999999\u001b[0m | Average: \u001b[1;36m0.41200000000000064\u001b[0m | Iterations: \u001b[1;36m95\u001b[0m\n"
      ]
     },
     "metadata": {},
     "output_type": "display_data"
    },
    {
     "data": {
      "text/html": [
       "<pre style=\"white-space:pre;overflow-x:auto;line-height:normal;font-family:Menlo,'DejaVu Sans Mono',consolas,'Courier New',monospace\">Min: <span style=\"color: #008080; text-decoration-color: #008080; font-weight: bold\">0.0</span> | Max: <span style=\"color: #008080; text-decoration-color: #008080; font-weight: bold\">3.400000000000002</span> | Average: <span style=\"color: #008080; text-decoration-color: #008080; font-weight: bold\">0.3744000000000008</span> | Iterations: <span style=\"color: #008080; text-decoration-color: #008080; font-weight: bold\">96</span>\n",
       "</pre>\n"
      ],
      "text/plain": [
       "Min: \u001b[1;36m0.0\u001b[0m | Max: \u001b[1;36m3.400000000000002\u001b[0m | Average: \u001b[1;36m0.3744000000000008\u001b[0m | Iterations: \u001b[1;36m96\u001b[0m\n"
      ]
     },
     "metadata": {},
     "output_type": "display_data"
    },
    {
     "data": {
      "text/html": [
       "<pre style=\"white-space:pre;overflow-x:auto;line-height:normal;font-family:Menlo,'DejaVu Sans Mono',consolas,'Courier New',monospace\">Min: <span style=\"color: #008080; text-decoration-color: #008080; font-weight: bold\">0.0</span> | Max: <span style=\"color: #008080; text-decoration-color: #008080; font-weight: bold\">2.4000000000000004</span> | Average: <span style=\"color: #008080; text-decoration-color: #008080; font-weight: bold\">0.37600000000000056</span> | Iterations: <span style=\"color: #008080; text-decoration-color: #008080; font-weight: bold\">97</span>\n",
       "</pre>\n"
      ],
      "text/plain": [
       "Min: \u001b[1;36m0.0\u001b[0m | Max: \u001b[1;36m2.4000000000000004\u001b[0m | Average: \u001b[1;36m0.37600000000000056\u001b[0m | Iterations: \u001b[1;36m97\u001b[0m\n"
      ]
     },
     "metadata": {},
     "output_type": "display_data"
    },
    {
     "data": {
      "text/html": [
       "<pre style=\"white-space:pre;overflow-x:auto;line-height:normal;font-family:Menlo,'DejaVu Sans Mono',consolas,'Courier New',monospace\">Min: <span style=\"color: #008080; text-decoration-color: #008080; font-weight: bold\">0.0</span> | Max: <span style=\"color: #008080; text-decoration-color: #008080; font-weight: bold\">3.0</span> | Average: <span style=\"color: #008080; text-decoration-color: #008080; font-weight: bold\">0.41280000000000044</span> | Iterations: <span style=\"color: #008080; text-decoration-color: #008080; font-weight: bold\">98</span>\n",
       "</pre>\n"
      ],
      "text/plain": [
       "Min: \u001b[1;36m0.0\u001b[0m | Max: \u001b[1;36m3.0\u001b[0m | Average: \u001b[1;36m0.41280000000000044\u001b[0m | Iterations: \u001b[1;36m98\u001b[0m\n"
      ]
     },
     "metadata": {},
     "output_type": "display_data"
    },
    {
     "data": {
      "text/html": [
       "<pre style=\"white-space:pre;overflow-x:auto;line-height:normal;font-family:Menlo,'DejaVu Sans Mono',consolas,'Courier New',monospace\">Min: <span style=\"color: #008080; text-decoration-color: #008080; font-weight: bold\">0.0</span> | Max: <span style=\"color: #008080; text-decoration-color: #008080; font-weight: bold\">2.400000000000002</span> | Average: <span style=\"color: #008080; text-decoration-color: #008080; font-weight: bold\">0.3656000000000005</span> | Iterations: <span style=\"color: #008080; text-decoration-color: #008080; font-weight: bold\">99</span>\n",
       "</pre>\n"
      ],
      "text/plain": [
       "Min: \u001b[1;36m0.0\u001b[0m | Max: \u001b[1;36m2.400000000000002\u001b[0m | Average: \u001b[1;36m0.3656000000000005\u001b[0m | Iterations: \u001b[1;36m99\u001b[0m\n"
      ]
     },
     "metadata": {},
     "output_type": "display_data"
    },
    {
     "data": {
      "text/html": [
       "<pre style=\"white-space:pre;overflow-x:auto;line-height:normal;font-family:Menlo,'DejaVu Sans Mono',consolas,'Courier New',monospace\">Min: <span style=\"color: #008080; text-decoration-color: #008080; font-weight: bold\">0.0</span> | Max: <span style=\"color: #008080; text-decoration-color: #008080; font-weight: bold\">2.400000000000002</span> | Average: <span style=\"color: #008080; text-decoration-color: #008080; font-weight: bold\">0.3616000000000004</span> | Iterations: <span style=\"color: #008080; text-decoration-color: #008080; font-weight: bold\">100</span>\n",
       "</pre>\n"
      ],
      "text/plain": [
       "Min: \u001b[1;36m0.0\u001b[0m | Max: \u001b[1;36m2.400000000000002\u001b[0m | Average: \u001b[1;36m0.3616000000000004\u001b[0m | Iterations: \u001b[1;36m100\u001b[0m\n"
      ]
     },
     "metadata": {},
     "output_type": "display_data"
    },
    {
     "data": {
      "text/html": [
       "<pre style=\"white-space:pre;overflow-x:auto;line-height:normal;font-family:Menlo,'DejaVu Sans Mono',consolas,'Courier New',monospace\">Min: <span style=\"color: #008080; text-decoration-color: #008080; font-weight: bold\">0.0</span> | Max: <span style=\"color: #008080; text-decoration-color: #008080; font-weight: bold\">3.5999999999999996</span> | Average: <span style=\"color: #008080; text-decoration-color: #008080; font-weight: bold\">0.38720000000000077</span> | Iterations: <span style=\"color: #008080; text-decoration-color: #008080; font-weight: bold\">101</span>\n",
       "</pre>\n"
      ],
      "text/plain": [
       "Min: \u001b[1;36m0.0\u001b[0m | Max: \u001b[1;36m3.5999999999999996\u001b[0m | Average: \u001b[1;36m0.38720000000000077\u001b[0m | Iterations: \u001b[1;36m101\u001b[0m\n"
      ]
     },
     "metadata": {},
     "output_type": "display_data"
    },
    {
     "data": {
      "text/html": [
       "<pre style=\"white-space:pre;overflow-x:auto;line-height:normal;font-family:Menlo,'DejaVu Sans Mono',consolas,'Courier New',monospace\">Min: <span style=\"color: #008080; text-decoration-color: #008080; font-weight: bold\">0.0</span> | Max: <span style=\"color: #008080; text-decoration-color: #008080; font-weight: bold\">2.1999999999999993</span> | Average: <span style=\"color: #008080; text-decoration-color: #008080; font-weight: bold\">0.39920000000000033</span> | Iterations: <span style=\"color: #008080; text-decoration-color: #008080; font-weight: bold\">102</span>\n",
       "</pre>\n"
      ],
      "text/plain": [
       "Min: \u001b[1;36m0.0\u001b[0m | Max: \u001b[1;36m2.1999999999999993\u001b[0m | Average: \u001b[1;36m0.39920000000000033\u001b[0m | Iterations: \u001b[1;36m102\u001b[0m\n"
      ]
     },
     "metadata": {},
     "output_type": "display_data"
    },
    {
     "data": {
      "text/html": [
       "<pre style=\"white-space:pre;overflow-x:auto;line-height:normal;font-family:Menlo,'DejaVu Sans Mono',consolas,'Courier New',monospace\">Min: <span style=\"color: #008080; text-decoration-color: #008080; font-weight: bold\">0.0</span> | Max: <span style=\"color: #008080; text-decoration-color: #008080; font-weight: bold\">3.8000000000000007</span> | Average: <span style=\"color: #008080; text-decoration-color: #008080; font-weight: bold\">0.4520000000000009</span> | Iterations: <span style=\"color: #008080; text-decoration-color: #008080; font-weight: bold\">103</span>\n",
       "</pre>\n"
      ],
      "text/plain": [
       "Min: \u001b[1;36m0.0\u001b[0m | Max: \u001b[1;36m3.8000000000000007\u001b[0m | Average: \u001b[1;36m0.4520000000000009\u001b[0m | Iterations: \u001b[1;36m103\u001b[0m\n"
      ]
     },
     "metadata": {},
     "output_type": "display_data"
    },
    {
     "data": {
      "text/html": [
       "<pre style=\"white-space:pre;overflow-x:auto;line-height:normal;font-family:Menlo,'DejaVu Sans Mono',consolas,'Courier New',monospace\">Min: <span style=\"color: #008080; text-decoration-color: #008080; font-weight: bold\">0.0</span> | Max: <span style=\"color: #008080; text-decoration-color: #008080; font-weight: bold\">2.200000000000001</span> | Average: <span style=\"color: #008080; text-decoration-color: #008080; font-weight: bold\">0.3432000000000004</span> | Iterations: <span style=\"color: #008080; text-decoration-color: #008080; font-weight: bold\">104</span>\n",
       "</pre>\n"
      ],
      "text/plain": [
       "Min: \u001b[1;36m0.0\u001b[0m | Max: \u001b[1;36m2.200000000000001\u001b[0m | Average: \u001b[1;36m0.3432000000000004\u001b[0m | Iterations: \u001b[1;36m104\u001b[0m\n"
      ]
     },
     "metadata": {},
     "output_type": "display_data"
    },
    {
     "data": {
      "text/html": [
       "<pre style=\"white-space:pre;overflow-x:auto;line-height:normal;font-family:Menlo,'DejaVu Sans Mono',consolas,'Courier New',monospace\">Min: <span style=\"color: #008080; text-decoration-color: #008080; font-weight: bold\">0.0</span> | Max: <span style=\"color: #008080; text-decoration-color: #008080; font-weight: bold\">4.399999999999999</span> | Average: <span style=\"color: #008080; text-decoration-color: #008080; font-weight: bold\">0.40720000000000023</span> | Iterations: <span style=\"color: #008080; text-decoration-color: #008080; font-weight: bold\">105</span>\n",
       "</pre>\n"
      ],
      "text/plain": [
       "Min: \u001b[1;36m0.0\u001b[0m | Max: \u001b[1;36m4.399999999999999\u001b[0m | Average: \u001b[1;36m0.40720000000000023\u001b[0m | Iterations: \u001b[1;36m105\u001b[0m\n"
      ]
     },
     "metadata": {},
     "output_type": "display_data"
    },
    {
     "data": {
      "text/html": [
       "<pre style=\"white-space:pre;overflow-x:auto;line-height:normal;font-family:Menlo,'DejaVu Sans Mono',consolas,'Courier New',monospace\">Min: <span style=\"color: #008080; text-decoration-color: #008080; font-weight: bold\">0.0</span> | Max: <span style=\"color: #008080; text-decoration-color: #008080; font-weight: bold\">2.8000000000000007</span> | Average: <span style=\"color: #008080; text-decoration-color: #008080; font-weight: bold\">0.3760000000000003</span> | Iterations: <span style=\"color: #008080; text-decoration-color: #008080; font-weight: bold\">106</span>\n",
       "</pre>\n"
      ],
      "text/plain": [
       "Min: \u001b[1;36m0.0\u001b[0m | Max: \u001b[1;36m2.8000000000000007\u001b[0m | Average: \u001b[1;36m0.3760000000000003\u001b[0m | Iterations: \u001b[1;36m106\u001b[0m\n"
      ]
     },
     "metadata": {},
     "output_type": "display_data"
    },
    {
     "data": {
      "text/html": [
       "<pre style=\"white-space:pre;overflow-x:auto;line-height:normal;font-family:Menlo,'DejaVu Sans Mono',consolas,'Courier New',monospace\">Min: <span style=\"color: #008080; text-decoration-color: #008080; font-weight: bold\">0.0</span> | Max: <span style=\"color: #008080; text-decoration-color: #008080; font-weight: bold\">3.8000000000000007</span> | Average: <span style=\"color: #008080; text-decoration-color: #008080; font-weight: bold\">0.3760000000000008</span> | Iterations: <span style=\"color: #008080; text-decoration-color: #008080; font-weight: bold\">107</span>\n",
       "</pre>\n"
      ],
      "text/plain": [
       "Min: \u001b[1;36m0.0\u001b[0m | Max: \u001b[1;36m3.8000000000000007\u001b[0m | Average: \u001b[1;36m0.3760000000000008\u001b[0m | Iterations: \u001b[1;36m107\u001b[0m\n"
      ]
     },
     "metadata": {},
     "output_type": "display_data"
    },
    {
     "data": {
      "text/html": [
       "<pre style=\"white-space:pre;overflow-x:auto;line-height:normal;font-family:Menlo,'DejaVu Sans Mono',consolas,'Courier New',monospace\">Min: <span style=\"color: #008080; text-decoration-color: #008080; font-weight: bold\">0.0</span> | Max: <span style=\"color: #008080; text-decoration-color: #008080; font-weight: bold\">2.3999999999999986</span> | Average: <span style=\"color: #008080; text-decoration-color: #008080; font-weight: bold\">0.39280000000000076</span> | Iterations: <span style=\"color: #008080; text-decoration-color: #008080; font-weight: bold\">108</span>\n",
       "</pre>\n"
      ],
      "text/plain": [
       "Min: \u001b[1;36m0.0\u001b[0m | Max: \u001b[1;36m2.3999999999999986\u001b[0m | Average: \u001b[1;36m0.39280000000000076\u001b[0m | Iterations: \u001b[1;36m108\u001b[0m\n"
      ]
     },
     "metadata": {},
     "output_type": "display_data"
    },
    {
     "data": {
      "text/html": [
       "<pre style=\"white-space:pre;overflow-x:auto;line-height:normal;font-family:Menlo,'DejaVu Sans Mono',consolas,'Courier New',monospace\">Min: <span style=\"color: #008080; text-decoration-color: #008080; font-weight: bold\">0.0</span> | Max: <span style=\"color: #008080; text-decoration-color: #008080; font-weight: bold\">4.800000000000001</span> | Average: <span style=\"color: #008080; text-decoration-color: #008080; font-weight: bold\">0.4568000000000006</span> | Iterations: <span style=\"color: #008080; text-decoration-color: #008080; font-weight: bold\">109</span>\n",
       "</pre>\n"
      ],
      "text/plain": [
       "Min: \u001b[1;36m0.0\u001b[0m | Max: \u001b[1;36m4.800000000000001\u001b[0m | Average: \u001b[1;36m0.4568000000000006\u001b[0m | Iterations: \u001b[1;36m109\u001b[0m\n"
      ]
     },
     "metadata": {},
     "output_type": "display_data"
    },
    {
     "data": {
      "text/html": [
       "<pre style=\"white-space:pre;overflow-x:auto;line-height:normal;font-family:Menlo,'DejaVu Sans Mono',consolas,'Courier New',monospace\">Min: <span style=\"color: #008080; text-decoration-color: #008080; font-weight: bold\">0.0</span> | Max: <span style=\"color: #008080; text-decoration-color: #008080; font-weight: bold\">2.400000000000002</span> | Average: <span style=\"color: #008080; text-decoration-color: #008080; font-weight: bold\">0.35200000000000053</span> | Iterations: <span style=\"color: #008080; text-decoration-color: #008080; font-weight: bold\">110</span>\n",
       "</pre>\n"
      ],
      "text/plain": [
       "Min: \u001b[1;36m0.0\u001b[0m | Max: \u001b[1;36m2.400000000000002\u001b[0m | Average: \u001b[1;36m0.35200000000000053\u001b[0m | Iterations: \u001b[1;36m110\u001b[0m\n"
      ]
     },
     "metadata": {},
     "output_type": "display_data"
    },
    {
     "data": {
      "text/html": [
       "<pre style=\"white-space:pre;overflow-x:auto;line-height:normal;font-family:Menlo,'DejaVu Sans Mono',consolas,'Courier New',monospace\">Min: <span style=\"color: #008080; text-decoration-color: #008080; font-weight: bold\">0.0</span> | Max: <span style=\"color: #008080; text-decoration-color: #008080; font-weight: bold\">2.1999999999999993</span> | Average: <span style=\"color: #008080; text-decoration-color: #008080; font-weight: bold\">0.36240000000000067</span> | Iterations: <span style=\"color: #008080; text-decoration-color: #008080; font-weight: bold\">111</span>\n",
       "</pre>\n"
      ],
      "text/plain": [
       "Min: \u001b[1;36m0.0\u001b[0m | Max: \u001b[1;36m2.1999999999999993\u001b[0m | Average: \u001b[1;36m0.36240000000000067\u001b[0m | Iterations: \u001b[1;36m111\u001b[0m\n"
      ]
     },
     "metadata": {},
     "output_type": "display_data"
    },
    {
     "data": {
      "text/html": [
       "<pre style=\"white-space:pre;overflow-x:auto;line-height:normal;font-family:Menlo,'DejaVu Sans Mono',consolas,'Courier New',monospace\">Min: <span style=\"color: #008080; text-decoration-color: #008080; font-weight: bold\">0.0</span> | Max: <span style=\"color: #008080; text-decoration-color: #008080; font-weight: bold\">3.1999999999999993</span> | Average: <span style=\"color: #008080; text-decoration-color: #008080; font-weight: bold\">0.4160000000000006</span> | Iterations: <span style=\"color: #008080; text-decoration-color: #008080; font-weight: bold\">112</span>\n",
       "</pre>\n"
      ],
      "text/plain": [
       "Min: \u001b[1;36m0.0\u001b[0m | Max: \u001b[1;36m3.1999999999999993\u001b[0m | Average: \u001b[1;36m0.4160000000000006\u001b[0m | Iterations: \u001b[1;36m112\u001b[0m\n"
      ]
     },
     "metadata": {},
     "output_type": "display_data"
    },
    {
     "data": {
      "text/html": [
       "<pre style=\"white-space:pre;overflow-x:auto;line-height:normal;font-family:Menlo,'DejaVu Sans Mono',consolas,'Courier New',monospace\">Min: <span style=\"color: #008080; text-decoration-color: #008080; font-weight: bold\">0.0</span> | Max: <span style=\"color: #008080; text-decoration-color: #008080; font-weight: bold\">3.3999999999999986</span> | Average: <span style=\"color: #008080; text-decoration-color: #008080; font-weight: bold\">0.3912000000000007</span> | Iterations: <span style=\"color: #008080; text-decoration-color: #008080; font-weight: bold\">113</span>\n",
       "</pre>\n"
      ],
      "text/plain": [
       "Min: \u001b[1;36m0.0\u001b[0m | Max: \u001b[1;36m3.3999999999999986\u001b[0m | Average: \u001b[1;36m0.3912000000000007\u001b[0m | Iterations: \u001b[1;36m113\u001b[0m\n"
      ]
     },
     "metadata": {},
     "output_type": "display_data"
    },
    {
     "data": {
      "text/html": [
       "<pre style=\"white-space:pre;overflow-x:auto;line-height:normal;font-family:Menlo,'DejaVu Sans Mono',consolas,'Courier New',monospace\">Min: <span style=\"color: #008080; text-decoration-color: #008080; font-weight: bold\">0.0</span> | Max: <span style=\"color: #008080; text-decoration-color: #008080; font-weight: bold\">3.599999999999998</span> | Average: <span style=\"color: #008080; text-decoration-color: #008080; font-weight: bold\">0.37280000000000063</span> | Iterations: <span style=\"color: #008080; text-decoration-color: #008080; font-weight: bold\">114</span>\n",
       "</pre>\n"
      ],
      "text/plain": [
       "Min: \u001b[1;36m0.0\u001b[0m | Max: \u001b[1;36m3.599999999999998\u001b[0m | Average: \u001b[1;36m0.37280000000000063\u001b[0m | Iterations: \u001b[1;36m114\u001b[0m\n"
      ]
     },
     "metadata": {},
     "output_type": "display_data"
    },
    {
     "data": {
      "text/html": [
       "<pre style=\"white-space:pre;overflow-x:auto;line-height:normal;font-family:Menlo,'DejaVu Sans Mono',consolas,'Courier New',monospace\">Min: <span style=\"color: #008080; text-decoration-color: #008080; font-weight: bold\">0.0</span> | Max: <span style=\"color: #008080; text-decoration-color: #008080; font-weight: bold\">3.0</span> | Average: <span style=\"color: #008080; text-decoration-color: #008080; font-weight: bold\">0.36400000000000055</span> | Iterations: <span style=\"color: #008080; text-decoration-color: #008080; font-weight: bold\">115</span>\n",
       "</pre>\n"
      ],
      "text/plain": [
       "Min: \u001b[1;36m0.0\u001b[0m | Max: \u001b[1;36m3.0\u001b[0m | Average: \u001b[1;36m0.36400000000000055\u001b[0m | Iterations: \u001b[1;36m115\u001b[0m\n"
      ]
     },
     "metadata": {},
     "output_type": "display_data"
    },
    {
     "data": {
      "text/html": [
       "<pre style=\"white-space:pre;overflow-x:auto;line-height:normal;font-family:Menlo,'DejaVu Sans Mono',consolas,'Courier New',monospace\">Min: <span style=\"color: #008080; text-decoration-color: #008080; font-weight: bold\">0.0</span> | Max: <span style=\"color: #008080; text-decoration-color: #008080; font-weight: bold\">2.8000000000000007</span> | Average: <span style=\"color: #008080; text-decoration-color: #008080; font-weight: bold\">0.3808000000000004</span> | Iterations: <span style=\"color: #008080; text-decoration-color: #008080; font-weight: bold\">116</span>\n",
       "</pre>\n"
      ],
      "text/plain": [
       "Min: \u001b[1;36m0.0\u001b[0m | Max: \u001b[1;36m2.8000000000000007\u001b[0m | Average: \u001b[1;36m0.3808000000000004\u001b[0m | Iterations: \u001b[1;36m116\u001b[0m\n"
      ]
     },
     "metadata": {},
     "output_type": "display_data"
    },
    {
     "data": {
      "text/html": [
       "<pre style=\"white-space:pre;overflow-x:auto;line-height:normal;font-family:Menlo,'DejaVu Sans Mono',consolas,'Courier New',monospace\">Min: <span style=\"color: #008080; text-decoration-color: #008080; font-weight: bold\">0.0</span> | Max: <span style=\"color: #008080; text-decoration-color: #008080; font-weight: bold\">2.1999999999999993</span> | Average: <span style=\"color: #008080; text-decoration-color: #008080; font-weight: bold\">0.3832000000000005</span> | Iterations: <span style=\"color: #008080; text-decoration-color: #008080; font-weight: bold\">117</span>\n",
       "</pre>\n"
      ],
      "text/plain": [
       "Min: \u001b[1;36m0.0\u001b[0m | Max: \u001b[1;36m2.1999999999999993\u001b[0m | Average: \u001b[1;36m0.3832000000000005\u001b[0m | Iterations: \u001b[1;36m117\u001b[0m\n"
      ]
     },
     "metadata": {},
     "output_type": "display_data"
    },
    {
     "data": {
      "text/html": [
       "<pre style=\"white-space:pre;overflow-x:auto;line-height:normal;font-family:Menlo,'DejaVu Sans Mono',consolas,'Courier New',monospace\">Min: <span style=\"color: #008080; text-decoration-color: #008080; font-weight: bold\">0.0</span> | Max: <span style=\"color: #008080; text-decoration-color: #008080; font-weight: bold\">4.199999999999999</span> | Average: <span style=\"color: #008080; text-decoration-color: #008080; font-weight: bold\">0.3872000000000004</span> | Iterations: <span style=\"color: #008080; text-decoration-color: #008080; font-weight: bold\">118</span>\n",
       "</pre>\n"
      ],
      "text/plain": [
       "Min: \u001b[1;36m0.0\u001b[0m | Max: \u001b[1;36m4.199999999999999\u001b[0m | Average: \u001b[1;36m0.3872000000000004\u001b[0m | Iterations: \u001b[1;36m118\u001b[0m\n"
      ]
     },
     "metadata": {},
     "output_type": "display_data"
    },
    {
     "data": {
      "text/html": [
       "<pre style=\"white-space:pre;overflow-x:auto;line-height:normal;font-family:Menlo,'DejaVu Sans Mono',consolas,'Courier New',monospace\">Min: <span style=\"color: #008080; text-decoration-color: #008080; font-weight: bold\">0.0</span> | Max: <span style=\"color: #008080; text-decoration-color: #008080; font-weight: bold\">3.200000000000001</span> | Average: <span style=\"color: #008080; text-decoration-color: #008080; font-weight: bold\">0.38720000000000043</span> | Iterations: <span style=\"color: #008080; text-decoration-color: #008080; font-weight: bold\">119</span>\n",
       "</pre>\n"
      ],
      "text/plain": [
       "Min: \u001b[1;36m0.0\u001b[0m | Max: \u001b[1;36m3.200000000000001\u001b[0m | Average: \u001b[1;36m0.38720000000000043\u001b[0m | Iterations: \u001b[1;36m119\u001b[0m\n"
      ]
     },
     "metadata": {},
     "output_type": "display_data"
    },
    {
     "data": {
      "text/html": [
       "<pre style=\"white-space:pre;overflow-x:auto;line-height:normal;font-family:Menlo,'DejaVu Sans Mono',consolas,'Courier New',monospace\">Min: <span style=\"color: #008080; text-decoration-color: #008080; font-weight: bold\">0.0</span> | Max: <span style=\"color: #008080; text-decoration-color: #008080; font-weight: bold\">2.6000000000000014</span> | Average: <span style=\"color: #008080; text-decoration-color: #008080; font-weight: bold\">0.4120000000000005</span> | Iterations: <span style=\"color: #008080; text-decoration-color: #008080; font-weight: bold\">120</span>\n",
       "</pre>\n"
      ],
      "text/plain": [
       "Min: \u001b[1;36m0.0\u001b[0m | Max: \u001b[1;36m2.6000000000000014\u001b[0m | Average: \u001b[1;36m0.4120000000000005\u001b[0m | Iterations: \u001b[1;36m120\u001b[0m\n"
      ]
     },
     "metadata": {},
     "output_type": "display_data"
    },
    {
     "data": {
      "text/html": [
       "<pre style=\"white-space:pre;overflow-x:auto;line-height:normal;font-family:Menlo,'DejaVu Sans Mono',consolas,'Courier New',monospace\">Min: <span style=\"color: #008080; text-decoration-color: #008080; font-weight: bold\">0.0</span> | Max: <span style=\"color: #008080; text-decoration-color: #008080; font-weight: bold\">2.8000000000000007</span> | Average: <span style=\"color: #008080; text-decoration-color: #008080; font-weight: bold\">0.4176000000000003</span> | Iterations: <span style=\"color: #008080; text-decoration-color: #008080; font-weight: bold\">121</span>\n",
       "</pre>\n"
      ],
      "text/plain": [
       "Min: \u001b[1;36m0.0\u001b[0m | Max: \u001b[1;36m2.8000000000000007\u001b[0m | Average: \u001b[1;36m0.4176000000000003\u001b[0m | Iterations: \u001b[1;36m121\u001b[0m\n"
      ]
     },
     "metadata": {},
     "output_type": "display_data"
    },
    {
     "data": {
      "text/html": [
       "<pre style=\"white-space:pre;overflow-x:auto;line-height:normal;font-family:Menlo,'DejaVu Sans Mono',consolas,'Courier New',monospace\">Min: <span style=\"color: #008080; text-decoration-color: #008080; font-weight: bold\">0.0</span> | Max: <span style=\"color: #008080; text-decoration-color: #008080; font-weight: bold\">3.1999999999999993</span> | Average: <span style=\"color: #008080; text-decoration-color: #008080; font-weight: bold\">0.4112000000000006</span> | Iterations: <span style=\"color: #008080; text-decoration-color: #008080; font-weight: bold\">122</span>\n",
       "</pre>\n"
      ],
      "text/plain": [
       "Min: \u001b[1;36m0.0\u001b[0m | Max: \u001b[1;36m3.1999999999999993\u001b[0m | Average: \u001b[1;36m0.4112000000000006\u001b[0m | Iterations: \u001b[1;36m122\u001b[0m\n"
      ]
     },
     "metadata": {},
     "output_type": "display_data"
    },
    {
     "data": {
      "text/html": [
       "<pre style=\"white-space:pre;overflow-x:auto;line-height:normal;font-family:Menlo,'DejaVu Sans Mono',consolas,'Courier New',monospace\">Min: <span style=\"color: #008080; text-decoration-color: #008080; font-weight: bold\">0.0</span> | Max: <span style=\"color: #008080; text-decoration-color: #008080; font-weight: bold\">2.3999999999999986</span> | Average: <span style=\"color: #008080; text-decoration-color: #008080; font-weight: bold\">0.36960000000000026</span> | Iterations: <span style=\"color: #008080; text-decoration-color: #008080; font-weight: bold\">123</span>\n",
       "</pre>\n"
      ],
      "text/plain": [
       "Min: \u001b[1;36m0.0\u001b[0m | Max: \u001b[1;36m2.3999999999999986\u001b[0m | Average: \u001b[1;36m0.36960000000000026\u001b[0m | Iterations: \u001b[1;36m123\u001b[0m\n"
      ]
     },
     "metadata": {},
     "output_type": "display_data"
    },
    {
     "data": {
      "text/html": [
       "<pre style=\"white-space:pre;overflow-x:auto;line-height:normal;font-family:Menlo,'DejaVu Sans Mono',consolas,'Courier New',monospace\">Min: <span style=\"color: #008080; text-decoration-color: #008080; font-weight: bold\">0.0</span> | Max: <span style=\"color: #008080; text-decoration-color: #008080; font-weight: bold\">3.3999999999999986</span> | Average: <span style=\"color: #008080; text-decoration-color: #008080; font-weight: bold\">0.3544000000000003</span> | Iterations: <span style=\"color: #008080; text-decoration-color: #008080; font-weight: bold\">124</span>\n",
       "</pre>\n"
      ],
      "text/plain": [
       "Min: \u001b[1;36m0.0\u001b[0m | Max: \u001b[1;36m3.3999999999999986\u001b[0m | Average: \u001b[1;36m0.3544000000000003\u001b[0m | Iterations: \u001b[1;36m124\u001b[0m\n"
      ]
     },
     "metadata": {},
     "output_type": "display_data"
    },
    {
     "data": {
      "text/html": [
       "<pre style=\"white-space:pre;overflow-x:auto;line-height:normal;font-family:Menlo,'DejaVu Sans Mono',consolas,'Courier New',monospace\">Min: <span style=\"color: #008080; text-decoration-color: #008080; font-weight: bold\">0.0</span> | Max: <span style=\"color: #008080; text-decoration-color: #008080; font-weight: bold\">2.8000000000000007</span> | Average: <span style=\"color: #008080; text-decoration-color: #008080; font-weight: bold\">0.40400000000000064</span> | Iterations: <span style=\"color: #008080; text-decoration-color: #008080; font-weight: bold\">125</span>\n",
       "</pre>\n"
      ],
      "text/plain": [
       "Min: \u001b[1;36m0.0\u001b[0m | Max: \u001b[1;36m2.8000000000000007\u001b[0m | Average: \u001b[1;36m0.40400000000000064\u001b[0m | Iterations: \u001b[1;36m125\u001b[0m\n"
      ]
     },
     "metadata": {},
     "output_type": "display_data"
    },
    {
     "data": {
      "text/html": [
       "<pre style=\"white-space:pre;overflow-x:auto;line-height:normal;font-family:Menlo,'DejaVu Sans Mono',consolas,'Courier New',monospace\">Min: <span style=\"color: #008080; text-decoration-color: #008080; font-weight: bold\">0.0</span> | Max: <span style=\"color: #008080; text-decoration-color: #008080; font-weight: bold\">3.200000000000003</span> | Average: <span style=\"color: #008080; text-decoration-color: #008080; font-weight: bold\">0.38000000000000034</span> | Iterations: <span style=\"color: #008080; text-decoration-color: #008080; font-weight: bold\">126</span>\n",
       "</pre>\n"
      ],
      "text/plain": [
       "Min: \u001b[1;36m0.0\u001b[0m | Max: \u001b[1;36m3.200000000000003\u001b[0m | Average: \u001b[1;36m0.38000000000000034\u001b[0m | Iterations: \u001b[1;36m126\u001b[0m\n"
      ]
     },
     "metadata": {},
     "output_type": "display_data"
    },
    {
     "data": {
      "text/html": [
       "<pre style=\"white-space:pre;overflow-x:auto;line-height:normal;font-family:Menlo,'DejaVu Sans Mono',consolas,'Courier New',monospace\">Min: <span style=\"color: #008080; text-decoration-color: #008080; font-weight: bold\">0.0</span> | Max: <span style=\"color: #008080; text-decoration-color: #008080; font-weight: bold\">3.3999999999999986</span> | Average: <span style=\"color: #008080; text-decoration-color: #008080; font-weight: bold\">0.3688000000000004</span> | Iterations: <span style=\"color: #008080; text-decoration-color: #008080; font-weight: bold\">127</span>\n",
       "</pre>\n"
      ],
      "text/plain": [
       "Min: \u001b[1;36m0.0\u001b[0m | Max: \u001b[1;36m3.3999999999999986\u001b[0m | Average: \u001b[1;36m0.3688000000000004\u001b[0m | Iterations: \u001b[1;36m127\u001b[0m\n"
      ]
     },
     "metadata": {},
     "output_type": "display_data"
    },
    {
     "data": {
      "text/html": [
       "<pre style=\"white-space:pre;overflow-x:auto;line-height:normal;font-family:Menlo,'DejaVu Sans Mono',consolas,'Courier New',monospace\">Min: <span style=\"color: #008080; text-decoration-color: #008080; font-weight: bold\">0.0</span> | Max: <span style=\"color: #008080; text-decoration-color: #008080; font-weight: bold\">2.0</span> | Average: <span style=\"color: #008080; text-decoration-color: #008080; font-weight: bold\">0.3488000000000002</span> | Iterations: <span style=\"color: #008080; text-decoration-color: #008080; font-weight: bold\">128</span>\n",
       "</pre>\n"
      ],
      "text/plain": [
       "Min: \u001b[1;36m0.0\u001b[0m | Max: \u001b[1;36m2.0\u001b[0m | Average: \u001b[1;36m0.3488000000000002\u001b[0m | Iterations: \u001b[1;36m128\u001b[0m\n"
      ]
     },
     "metadata": {},
     "output_type": "display_data"
    },
    {
     "data": {
      "text/html": [
       "<pre style=\"white-space:pre;overflow-x:auto;line-height:normal;font-family:Menlo,'DejaVu Sans Mono',consolas,'Courier New',monospace\">Min: <span style=\"color: #008080; text-decoration-color: #008080; font-weight: bold\">0.0</span> | Max: <span style=\"color: #008080; text-decoration-color: #008080; font-weight: bold\">2.200000000000003</span> | Average: <span style=\"color: #008080; text-decoration-color: #008080; font-weight: bold\">0.35520000000000057</span> | Iterations: <span style=\"color: #008080; text-decoration-color: #008080; font-weight: bold\">129</span>\n",
       "</pre>\n"
      ],
      "text/plain": [
       "Min: \u001b[1;36m0.0\u001b[0m | Max: \u001b[1;36m2.200000000000003\u001b[0m | Average: \u001b[1;36m0.35520000000000057\u001b[0m | Iterations: \u001b[1;36m129\u001b[0m\n"
      ]
     },
     "metadata": {},
     "output_type": "display_data"
    },
    {
     "data": {
      "text/html": [
       "<pre style=\"white-space:pre;overflow-x:auto;line-height:normal;font-family:Menlo,'DejaVu Sans Mono',consolas,'Courier New',monospace\">Min: <span style=\"color: #008080; text-decoration-color: #008080; font-weight: bold\">0.0</span> | Max: <span style=\"color: #008080; text-decoration-color: #008080; font-weight: bold\">3.4000000000000004</span> | Average: <span style=\"color: #008080; text-decoration-color: #008080; font-weight: bold\">0.36880000000000035</span> | Iterations: <span style=\"color: #008080; text-decoration-color: #008080; font-weight: bold\">130</span>\n",
       "</pre>\n"
      ],
      "text/plain": [
       "Min: \u001b[1;36m0.0\u001b[0m | Max: \u001b[1;36m3.4000000000000004\u001b[0m | Average: \u001b[1;36m0.36880000000000035\u001b[0m | Iterations: \u001b[1;36m130\u001b[0m\n"
      ]
     },
     "metadata": {},
     "output_type": "display_data"
    },
    {
     "data": {
      "text/html": [
       "<pre style=\"white-space:pre;overflow-x:auto;line-height:normal;font-family:Menlo,'DejaVu Sans Mono',consolas,'Courier New',monospace\">Min: <span style=\"color: #008080; text-decoration-color: #008080; font-weight: bold\">0.0</span> | Max: <span style=\"color: #008080; text-decoration-color: #008080; font-weight: bold\">2.200000000000001</span> | Average: <span style=\"color: #008080; text-decoration-color: #008080; font-weight: bold\">0.41120000000000045</span> | Iterations: <span style=\"color: #008080; text-decoration-color: #008080; font-weight: bold\">131</span>\n",
       "</pre>\n"
      ],
      "text/plain": [
       "Min: \u001b[1;36m0.0\u001b[0m | Max: \u001b[1;36m2.200000000000001\u001b[0m | Average: \u001b[1;36m0.41120000000000045\u001b[0m | Iterations: \u001b[1;36m131\u001b[0m\n"
      ]
     },
     "metadata": {},
     "output_type": "display_data"
    },
    {
     "data": {
      "text/html": [
       "<pre style=\"white-space:pre;overflow-x:auto;line-height:normal;font-family:Menlo,'DejaVu Sans Mono',consolas,'Courier New',monospace\">Min: <span style=\"color: #008080; text-decoration-color: #008080; font-weight: bold\">0.0</span> | Max: <span style=\"color: #008080; text-decoration-color: #008080; font-weight: bold\">2.6000000000000014</span> | Average: <span style=\"color: #008080; text-decoration-color: #008080; font-weight: bold\">0.42160000000000036</span> | Iterations: <span style=\"color: #008080; text-decoration-color: #008080; font-weight: bold\">132</span>\n",
       "</pre>\n"
      ],
      "text/plain": [
       "Min: \u001b[1;36m0.0\u001b[0m | Max: \u001b[1;36m2.6000000000000014\u001b[0m | Average: \u001b[1;36m0.42160000000000036\u001b[0m | Iterations: \u001b[1;36m132\u001b[0m\n"
      ]
     },
     "metadata": {},
     "output_type": "display_data"
    },
    {
     "data": {
      "text/html": [
       "<pre style=\"white-space:pre;overflow-x:auto;line-height:normal;font-family:Menlo,'DejaVu Sans Mono',consolas,'Courier New',monospace\">Min: <span style=\"color: #008080; text-decoration-color: #008080; font-weight: bold\">0.0</span> | Max: <span style=\"color: #008080; text-decoration-color: #008080; font-weight: bold\">2.6000000000000014</span> | Average: <span style=\"color: #008080; text-decoration-color: #008080; font-weight: bold\">0.33840000000000037</span> | Iterations: <span style=\"color: #008080; text-decoration-color: #008080; font-weight: bold\">133</span>\n",
       "</pre>\n"
      ],
      "text/plain": [
       "Min: \u001b[1;36m0.0\u001b[0m | Max: \u001b[1;36m2.6000000000000014\u001b[0m | Average: \u001b[1;36m0.33840000000000037\u001b[0m | Iterations: \u001b[1;36m133\u001b[0m\n"
      ]
     },
     "metadata": {},
     "output_type": "display_data"
    },
    {
     "data": {
      "text/html": [
       "<pre style=\"white-space:pre;overflow-x:auto;line-height:normal;font-family:Menlo,'DejaVu Sans Mono',consolas,'Courier New',monospace\">Min: <span style=\"color: #008080; text-decoration-color: #008080; font-weight: bold\">0.0</span> | Max: <span style=\"color: #008080; text-decoration-color: #008080; font-weight: bold\">2.0</span> | Average: <span style=\"color: #008080; text-decoration-color: #008080; font-weight: bold\">0.3376000000000004</span> | Iterations: <span style=\"color: #008080; text-decoration-color: #008080; font-weight: bold\">134</span>\n",
       "</pre>\n"
      ],
      "text/plain": [
       "Min: \u001b[1;36m0.0\u001b[0m | Max: \u001b[1;36m2.0\u001b[0m | Average: \u001b[1;36m0.3376000000000004\u001b[0m | Iterations: \u001b[1;36m134\u001b[0m\n"
      ]
     },
     "metadata": {},
     "output_type": "display_data"
    },
    {
     "data": {
      "text/html": [
       "<pre style=\"white-space:pre;overflow-x:auto;line-height:normal;font-family:Menlo,'DejaVu Sans Mono',consolas,'Courier New',monospace\">Min: <span style=\"color: #008080; text-decoration-color: #008080; font-weight: bold\">0.0</span> | Max: <span style=\"color: #008080; text-decoration-color: #008080; font-weight: bold\">2.1999999999999993</span> | Average: <span style=\"color: #008080; text-decoration-color: #008080; font-weight: bold\">0.38160000000000033</span> | Iterations: <span style=\"color: #008080; text-decoration-color: #008080; font-weight: bold\">135</span>\n",
       "</pre>\n"
      ],
      "text/plain": [
       "Min: \u001b[1;36m0.0\u001b[0m | Max: \u001b[1;36m2.1999999999999993\u001b[0m | Average: \u001b[1;36m0.38160000000000033\u001b[0m | Iterations: \u001b[1;36m135\u001b[0m\n"
      ]
     },
     "metadata": {},
     "output_type": "display_data"
    },
    {
     "data": {
      "text/html": [
       "<pre style=\"white-space:pre;overflow-x:auto;line-height:normal;font-family:Menlo,'DejaVu Sans Mono',consolas,'Courier New',monospace\">Min: <span style=\"color: #008080; text-decoration-color: #008080; font-weight: bold\">0.0</span> | Max: <span style=\"color: #008080; text-decoration-color: #008080; font-weight: bold\">3.0</span> | Average: <span style=\"color: #008080; text-decoration-color: #008080; font-weight: bold\">0.40960000000000063</span> | Iterations: <span style=\"color: #008080; text-decoration-color: #008080; font-weight: bold\">136</span>\n",
       "</pre>\n"
      ],
      "text/plain": [
       "Min: \u001b[1;36m0.0\u001b[0m | Max: \u001b[1;36m3.0\u001b[0m | Average: \u001b[1;36m0.40960000000000063\u001b[0m | Iterations: \u001b[1;36m136\u001b[0m\n"
      ]
     },
     "metadata": {},
     "output_type": "display_data"
    },
    {
     "data": {
      "text/html": [
       "<pre style=\"white-space:pre;overflow-x:auto;line-height:normal;font-family:Menlo,'DejaVu Sans Mono',consolas,'Courier New',monospace\">Min: <span style=\"color: #008080; text-decoration-color: #008080; font-weight: bold\">0.0</span> | Max: <span style=\"color: #008080; text-decoration-color: #008080; font-weight: bold\">2.3999999999999986</span> | Average: <span style=\"color: #008080; text-decoration-color: #008080; font-weight: bold\">0.34160000000000035</span> | Iterations: <span style=\"color: #008080; text-decoration-color: #008080; font-weight: bold\">137</span>\n",
       "</pre>\n"
      ],
      "text/plain": [
       "Min: \u001b[1;36m0.0\u001b[0m | Max: \u001b[1;36m2.3999999999999986\u001b[0m | Average: \u001b[1;36m0.34160000000000035\u001b[0m | Iterations: \u001b[1;36m137\u001b[0m\n"
      ]
     },
     "metadata": {},
     "output_type": "display_data"
    },
    {
     "data": {
      "text/html": [
       "<pre style=\"white-space:pre;overflow-x:auto;line-height:normal;font-family:Menlo,'DejaVu Sans Mono',consolas,'Courier New',monospace\">Min: <span style=\"color: #008080; text-decoration-color: #008080; font-weight: bold\">0.0</span> | Max: <span style=\"color: #008080; text-decoration-color: #008080; font-weight: bold\">2.0</span> | Average: <span style=\"color: #008080; text-decoration-color: #008080; font-weight: bold\">0.36720000000000025</span> | Iterations: <span style=\"color: #008080; text-decoration-color: #008080; font-weight: bold\">138</span>\n",
       "</pre>\n"
      ],
      "text/plain": [
       "Min: \u001b[1;36m0.0\u001b[0m | Max: \u001b[1;36m2.0\u001b[0m | Average: \u001b[1;36m0.36720000000000025\u001b[0m | Iterations: \u001b[1;36m138\u001b[0m\n"
      ]
     },
     "metadata": {},
     "output_type": "display_data"
    },
    {
     "data": {
      "text/html": [
       "<pre style=\"white-space:pre;overflow-x:auto;line-height:normal;font-family:Menlo,'DejaVu Sans Mono',consolas,'Courier New',monospace\">Min: <span style=\"color: #008080; text-decoration-color: #008080; font-weight: bold\">0.0</span> | Max: <span style=\"color: #008080; text-decoration-color: #008080; font-weight: bold\">3.0</span> | Average: <span style=\"color: #008080; text-decoration-color: #008080; font-weight: bold\">0.3440000000000005</span> | Iterations: <span style=\"color: #008080; text-decoration-color: #008080; font-weight: bold\">139</span>\n",
       "</pre>\n"
      ],
      "text/plain": [
       "Min: \u001b[1;36m0.0\u001b[0m | Max: \u001b[1;36m3.0\u001b[0m | Average: \u001b[1;36m0.3440000000000005\u001b[0m | Iterations: \u001b[1;36m139\u001b[0m\n"
      ]
     },
     "metadata": {},
     "output_type": "display_data"
    },
    {
     "data": {
      "text/html": [
       "<pre style=\"white-space:pre;overflow-x:auto;line-height:normal;font-family:Menlo,'DejaVu Sans Mono',consolas,'Courier New',monospace\">Min: <span style=\"color: #008080; text-decoration-color: #008080; font-weight: bold\">0.0</span> | Max: <span style=\"color: #008080; text-decoration-color: #008080; font-weight: bold\">2.1999999999999993</span> | Average: <span style=\"color: #008080; text-decoration-color: #008080; font-weight: bold\">0.3584000000000006</span> | Iterations: <span style=\"color: #008080; text-decoration-color: #008080; font-weight: bold\">140</span>\n",
       "</pre>\n"
      ],
      "text/plain": [
       "Min: \u001b[1;36m0.0\u001b[0m | Max: \u001b[1;36m2.1999999999999993\u001b[0m | Average: \u001b[1;36m0.3584000000000006\u001b[0m | Iterations: \u001b[1;36m140\u001b[0m\n"
      ]
     },
     "metadata": {},
     "output_type": "display_data"
    },
    {
     "data": {
      "text/html": [
       "<pre style=\"white-space:pre;overflow-x:auto;line-height:normal;font-family:Menlo,'DejaVu Sans Mono',consolas,'Courier New',monospace\">Min: <span style=\"color: #008080; text-decoration-color: #008080; font-weight: bold\">0.0</span> | Max: <span style=\"color: #008080; text-decoration-color: #008080; font-weight: bold\">3.1999999999999993</span> | Average: <span style=\"color: #008080; text-decoration-color: #008080; font-weight: bold\">0.3904000000000004</span> | Iterations: <span style=\"color: #008080; text-decoration-color: #008080; font-weight: bold\">141</span>\n",
       "</pre>\n"
      ],
      "text/plain": [
       "Min: \u001b[1;36m0.0\u001b[0m | Max: \u001b[1;36m3.1999999999999993\u001b[0m | Average: \u001b[1;36m0.3904000000000004\u001b[0m | Iterations: \u001b[1;36m141\u001b[0m\n"
      ]
     },
     "metadata": {},
     "output_type": "display_data"
    },
    {
     "data": {
      "text/html": [
       "<pre style=\"white-space:pre;overflow-x:auto;line-height:normal;font-family:Menlo,'DejaVu Sans Mono',consolas,'Courier New',monospace\">Min: <span style=\"color: #008080; text-decoration-color: #008080; font-weight: bold\">0.0</span> | Max: <span style=\"color: #008080; text-decoration-color: #008080; font-weight: bold\">2.6000000000000014</span> | Average: <span style=\"color: #008080; text-decoration-color: #008080; font-weight: bold\">0.3600000000000008</span> | Iterations: <span style=\"color: #008080; text-decoration-color: #008080; font-weight: bold\">142</span>\n",
       "</pre>\n"
      ],
      "text/plain": [
       "Min: \u001b[1;36m0.0\u001b[0m | Max: \u001b[1;36m2.6000000000000014\u001b[0m | Average: \u001b[1;36m0.3600000000000008\u001b[0m | Iterations: \u001b[1;36m142\u001b[0m\n"
      ]
     },
     "metadata": {},
     "output_type": "display_data"
    },
    {
     "data": {
      "text/html": [
       "<pre style=\"white-space:pre;overflow-x:auto;line-height:normal;font-family:Menlo,'DejaVu Sans Mono',consolas,'Courier New',monospace\">Min: <span style=\"color: #008080; text-decoration-color: #008080; font-weight: bold\">0.0</span> | Max: <span style=\"color: #008080; text-decoration-color: #008080; font-weight: bold\">2.200000000000001</span> | Average: <span style=\"color: #008080; text-decoration-color: #008080; font-weight: bold\">0.40880000000000044</span> | Iterations: <span style=\"color: #008080; text-decoration-color: #008080; font-weight: bold\">143</span>\n",
       "</pre>\n"
      ],
      "text/plain": [
       "Min: \u001b[1;36m0.0\u001b[0m | Max: \u001b[1;36m2.200000000000001\u001b[0m | Average: \u001b[1;36m0.40880000000000044\u001b[0m | Iterations: \u001b[1;36m143\u001b[0m\n"
      ]
     },
     "metadata": {},
     "output_type": "display_data"
    },
    {
     "data": {
      "text/html": [
       "<pre style=\"white-space:pre;overflow-x:auto;line-height:normal;font-family:Menlo,'DejaVu Sans Mono',consolas,'Courier New',monospace\">Min: <span style=\"color: #008080; text-decoration-color: #008080; font-weight: bold\">0.0</span> | Max: <span style=\"color: #008080; text-decoration-color: #008080; font-weight: bold\">2.0</span> | Average: <span style=\"color: #008080; text-decoration-color: #008080; font-weight: bold\">0.3880000000000006</span> | Iterations: <span style=\"color: #008080; text-decoration-color: #008080; font-weight: bold\">144</span>\n",
       "</pre>\n"
      ],
      "text/plain": [
       "Min: \u001b[1;36m0.0\u001b[0m | Max: \u001b[1;36m2.0\u001b[0m | Average: \u001b[1;36m0.3880000000000006\u001b[0m | Iterations: \u001b[1;36m144\u001b[0m\n"
      ]
     },
     "metadata": {},
     "output_type": "display_data"
    },
    {
     "data": {
      "text/html": [
       "<pre style=\"white-space:pre;overflow-x:auto;line-height:normal;font-family:Menlo,'DejaVu Sans Mono',consolas,'Courier New',monospace\">Min: <span style=\"color: #008080; text-decoration-color: #008080; font-weight: bold\">0.0</span> | Max: <span style=\"color: #008080; text-decoration-color: #008080; font-weight: bold\">2.0</span> | Average: <span style=\"color: #008080; text-decoration-color: #008080; font-weight: bold\">0.3616000000000002</span> | Iterations: <span style=\"color: #008080; text-decoration-color: #008080; font-weight: bold\">145</span>\n",
       "</pre>\n"
      ],
      "text/plain": [
       "Min: \u001b[1;36m0.0\u001b[0m | Max: \u001b[1;36m2.0\u001b[0m | Average: \u001b[1;36m0.3616000000000002\u001b[0m | Iterations: \u001b[1;36m145\u001b[0m\n"
      ]
     },
     "metadata": {},
     "output_type": "display_data"
    },
    {
     "data": {
      "text/html": [
       "<pre style=\"white-space:pre;overflow-x:auto;line-height:normal;font-family:Menlo,'DejaVu Sans Mono',consolas,'Courier New',monospace\">Min: <span style=\"color: #008080; text-decoration-color: #008080; font-weight: bold\">0.0</span> | Max: <span style=\"color: #008080; text-decoration-color: #008080; font-weight: bold\">4.600000000000001</span> | Average: <span style=\"color: #008080; text-decoration-color: #008080; font-weight: bold\">0.37680000000000036</span> | Iterations: <span style=\"color: #008080; text-decoration-color: #008080; font-weight: bold\">146</span>\n",
       "</pre>\n"
      ],
      "text/plain": [
       "Min: \u001b[1;36m0.0\u001b[0m | Max: \u001b[1;36m4.600000000000001\u001b[0m | Average: \u001b[1;36m0.37680000000000036\u001b[0m | Iterations: \u001b[1;36m146\u001b[0m\n"
      ]
     },
     "metadata": {},
     "output_type": "display_data"
    },
    {
     "data": {
      "text/html": [
       "<pre style=\"white-space:pre;overflow-x:auto;line-height:normal;font-family:Menlo,'DejaVu Sans Mono',consolas,'Courier New',monospace\">Min: <span style=\"color: #008080; text-decoration-color: #008080; font-weight: bold\">0.0</span> | Max: <span style=\"color: #008080; text-decoration-color: #008080; font-weight: bold\">3.8000000000000007</span> | Average: <span style=\"color: #008080; text-decoration-color: #008080; font-weight: bold\">0.3824000000000004</span> | Iterations: <span style=\"color: #008080; text-decoration-color: #008080; font-weight: bold\">147</span>\n",
       "</pre>\n"
      ],
      "text/plain": [
       "Min: \u001b[1;36m0.0\u001b[0m | Max: \u001b[1;36m3.8000000000000007\u001b[0m | Average: \u001b[1;36m0.3824000000000004\u001b[0m | Iterations: \u001b[1;36m147\u001b[0m\n"
      ]
     },
     "metadata": {},
     "output_type": "display_data"
    },
    {
     "data": {
      "text/html": [
       "<pre style=\"white-space:pre;overflow-x:auto;line-height:normal;font-family:Menlo,'DejaVu Sans Mono',consolas,'Courier New',monospace\">Min: <span style=\"color: #008080; text-decoration-color: #008080; font-weight: bold\">0.0</span> | Max: <span style=\"color: #008080; text-decoration-color: #008080; font-weight: bold\">3.0</span> | Average: <span style=\"color: #008080; text-decoration-color: #008080; font-weight: bold\">0.42960000000000037</span> | Iterations: <span style=\"color: #008080; text-decoration-color: #008080; font-weight: bold\">148</span>\n",
       "</pre>\n"
      ],
      "text/plain": [
       "Min: \u001b[1;36m0.0\u001b[0m | Max: \u001b[1;36m3.0\u001b[0m | Average: \u001b[1;36m0.42960000000000037\u001b[0m | Iterations: \u001b[1;36m148\u001b[0m\n"
      ]
     },
     "metadata": {},
     "output_type": "display_data"
    },
    {
     "data": {
      "text/html": [
       "<pre style=\"white-space:pre;overflow-x:auto;line-height:normal;font-family:Menlo,'DejaVu Sans Mono',consolas,'Courier New',monospace\">Min: <span style=\"color: #008080; text-decoration-color: #008080; font-weight: bold\">0.0</span> | Max: <span style=\"color: #008080; text-decoration-color: #008080; font-weight: bold\">4.4</span> | Average: <span style=\"color: #008080; text-decoration-color: #008080; font-weight: bold\">0.4128000000000003</span> | Iterations: <span style=\"color: #008080; text-decoration-color: #008080; font-weight: bold\">149</span>\n",
       "</pre>\n"
      ],
      "text/plain": [
       "Min: \u001b[1;36m0.0\u001b[0m | Max: \u001b[1;36m4.4\u001b[0m | Average: \u001b[1;36m0.4128000000000003\u001b[0m | Iterations: \u001b[1;36m149\u001b[0m\n"
      ]
     },
     "metadata": {},
     "output_type": "display_data"
    },
    {
     "data": {
      "text/html": [
       "<pre style=\"white-space:pre;overflow-x:auto;line-height:normal;font-family:Menlo,'DejaVu Sans Mono',consolas,'Courier New',monospace\">Min: <span style=\"color: #008080; text-decoration-color: #008080; font-weight: bold\">0.0</span> | Max: <span style=\"color: #008080; text-decoration-color: #008080; font-weight: bold\">2.6000000000000014</span> | Average: <span style=\"color: #008080; text-decoration-color: #008080; font-weight: bold\">0.3464000000000002</span> | Iterations: <span style=\"color: #008080; text-decoration-color: #008080; font-weight: bold\">150</span>\n",
       "</pre>\n"
      ],
      "text/plain": [
       "Min: \u001b[1;36m0.0\u001b[0m | Max: \u001b[1;36m2.6000000000000014\u001b[0m | Average: \u001b[1;36m0.3464000000000002\u001b[0m | Iterations: \u001b[1;36m150\u001b[0m\n"
      ]
     },
     "metadata": {},
     "output_type": "display_data"
    },
    {
     "data": {
      "text/html": [
       "<pre style=\"white-space:pre;overflow-x:auto;line-height:normal;font-family:Menlo,'DejaVu Sans Mono',consolas,'Courier New',monospace\">Min: <span style=\"color: #008080; text-decoration-color: #008080; font-weight: bold\">0.0</span> | Max: <span style=\"color: #008080; text-decoration-color: #008080; font-weight: bold\">3.4000000000000004</span> | Average: <span style=\"color: #008080; text-decoration-color: #008080; font-weight: bold\">0.38640000000000074</span> | Iterations: <span style=\"color: #008080; text-decoration-color: #008080; font-weight: bold\">151</span>\n",
       "</pre>\n"
      ],
      "text/plain": [
       "Min: \u001b[1;36m0.0\u001b[0m | Max: \u001b[1;36m3.4000000000000004\u001b[0m | Average: \u001b[1;36m0.38640000000000074\u001b[0m | Iterations: \u001b[1;36m151\u001b[0m\n"
      ]
     },
     "metadata": {},
     "output_type": "display_data"
    },
    {
     "data": {
      "text/html": [
       "<pre style=\"white-space:pre;overflow-x:auto;line-height:normal;font-family:Menlo,'DejaVu Sans Mono',consolas,'Courier New',monospace\">Min: <span style=\"color: #008080; text-decoration-color: #008080; font-weight: bold\">0.0</span> | Max: <span style=\"color: #008080; text-decoration-color: #008080; font-weight: bold\">3.8000000000000007</span> | Average: <span style=\"color: #008080; text-decoration-color: #008080; font-weight: bold\">0.38000000000000067</span> | Iterations: <span style=\"color: #008080; text-decoration-color: #008080; font-weight: bold\">152</span>\n",
       "</pre>\n"
      ],
      "text/plain": [
       "Min: \u001b[1;36m0.0\u001b[0m | Max: \u001b[1;36m3.8000000000000007\u001b[0m | Average: \u001b[1;36m0.38000000000000067\u001b[0m | Iterations: \u001b[1;36m152\u001b[0m\n"
      ]
     },
     "metadata": {},
     "output_type": "display_data"
    },
    {
     "data": {
      "text/html": [
       "<pre style=\"white-space:pre;overflow-x:auto;line-height:normal;font-family:Menlo,'DejaVu Sans Mono',consolas,'Courier New',monospace\">Min: <span style=\"color: #008080; text-decoration-color: #008080; font-weight: bold\">0.0</span> | Max: <span style=\"color: #008080; text-decoration-color: #008080; font-weight: bold\">3.8000000000000007</span> | Average: <span style=\"color: #008080; text-decoration-color: #008080; font-weight: bold\">0.38720000000000065</span> | Iterations: <span style=\"color: #008080; text-decoration-color: #008080; font-weight: bold\">153</span>\n",
       "</pre>\n"
      ],
      "text/plain": [
       "Min: \u001b[1;36m0.0\u001b[0m | Max: \u001b[1;36m3.8000000000000007\u001b[0m | Average: \u001b[1;36m0.38720000000000065\u001b[0m | Iterations: \u001b[1;36m153\u001b[0m\n"
      ]
     },
     "metadata": {},
     "output_type": "display_data"
    },
    {
     "data": {
      "text/html": [
       "<pre style=\"white-space:pre;overflow-x:auto;line-height:normal;font-family:Menlo,'DejaVu Sans Mono',consolas,'Courier New',monospace\">Min: <span style=\"color: #008080; text-decoration-color: #008080; font-weight: bold\">0.0</span> | Max: <span style=\"color: #008080; text-decoration-color: #008080; font-weight: bold\">2.8000000000000007</span> | Average: <span style=\"color: #008080; text-decoration-color: #008080; font-weight: bold\">0.3136000000000008</span> | Iterations: <span style=\"color: #008080; text-decoration-color: #008080; font-weight: bold\">154</span>\n",
       "</pre>\n"
      ],
      "text/plain": [
       "Min: \u001b[1;36m0.0\u001b[0m | Max: \u001b[1;36m2.8000000000000007\u001b[0m | Average: \u001b[1;36m0.3136000000000008\u001b[0m | Iterations: \u001b[1;36m154\u001b[0m\n"
      ]
     },
     "metadata": {},
     "output_type": "display_data"
    },
    {
     "data": {
      "text/html": [
       "<pre style=\"white-space:pre;overflow-x:auto;line-height:normal;font-family:Menlo,'DejaVu Sans Mono',consolas,'Courier New',monospace\">Min: <span style=\"color: #008080; text-decoration-color: #008080; font-weight: bold\">0.0</span> | Max: <span style=\"color: #008080; text-decoration-color: #008080; font-weight: bold\">4.4</span> | Average: <span style=\"color: #008080; text-decoration-color: #008080; font-weight: bold\">0.39520000000000083</span> | Iterations: <span style=\"color: #008080; text-decoration-color: #008080; font-weight: bold\">155</span>\n",
       "</pre>\n"
      ],
      "text/plain": [
       "Min: \u001b[1;36m0.0\u001b[0m | Max: \u001b[1;36m4.4\u001b[0m | Average: \u001b[1;36m0.39520000000000083\u001b[0m | Iterations: \u001b[1;36m155\u001b[0m\n"
      ]
     },
     "metadata": {},
     "output_type": "display_data"
    },
    {
     "data": {
      "text/html": [
       "<pre style=\"white-space:pre;overflow-x:auto;line-height:normal;font-family:Menlo,'DejaVu Sans Mono',consolas,'Courier New',monospace\">Min: <span style=\"color: #008080; text-decoration-color: #008080; font-weight: bold\">0.0</span> | Max: <span style=\"color: #008080; text-decoration-color: #008080; font-weight: bold\">3.1999999999999993</span> | Average: <span style=\"color: #008080; text-decoration-color: #008080; font-weight: bold\">0.40080000000000016</span> | Iterations: <span style=\"color: #008080; text-decoration-color: #008080; font-weight: bold\">156</span>\n",
       "</pre>\n"
      ],
      "text/plain": [
       "Min: \u001b[1;36m0.0\u001b[0m | Max: \u001b[1;36m3.1999999999999993\u001b[0m | Average: \u001b[1;36m0.40080000000000016\u001b[0m | Iterations: \u001b[1;36m156\u001b[0m\n"
      ]
     },
     "metadata": {},
     "output_type": "display_data"
    },
    {
     "data": {
      "text/html": [
       "<pre style=\"white-space:pre;overflow-x:auto;line-height:normal;font-family:Menlo,'DejaVu Sans Mono',consolas,'Courier New',monospace\">Min: <span style=\"color: #008080; text-decoration-color: #008080; font-weight: bold\">0.0</span> | Max: <span style=\"color: #008080; text-decoration-color: #008080; font-weight: bold\">2.0</span> | Average: <span style=\"color: #008080; text-decoration-color: #008080; font-weight: bold\">0.35600000000000087</span> | Iterations: <span style=\"color: #008080; text-decoration-color: #008080; font-weight: bold\">157</span>\n",
       "</pre>\n"
      ],
      "text/plain": [
       "Min: \u001b[1;36m0.0\u001b[0m | Max: \u001b[1;36m2.0\u001b[0m | Average: \u001b[1;36m0.35600000000000087\u001b[0m | Iterations: \u001b[1;36m157\u001b[0m\n"
      ]
     },
     "metadata": {},
     "output_type": "display_data"
    },
    {
     "data": {
      "text/html": [
       "<pre style=\"white-space:pre;overflow-x:auto;line-height:normal;font-family:Menlo,'DejaVu Sans Mono',consolas,'Courier New',monospace\">Min: <span style=\"color: #008080; text-decoration-color: #008080; font-weight: bold\">0.0</span> | Max: <span style=\"color: #008080; text-decoration-color: #008080; font-weight: bold\">2.200000000000001</span> | Average: <span style=\"color: #008080; text-decoration-color: #008080; font-weight: bold\">0.32560000000000017</span> | Iterations: <span style=\"color: #008080; text-decoration-color: #008080; font-weight: bold\">158</span>\n",
       "</pre>\n"
      ],
      "text/plain": [
       "Min: \u001b[1;36m0.0\u001b[0m | Max: \u001b[1;36m2.200000000000001\u001b[0m | Average: \u001b[1;36m0.32560000000000017\u001b[0m | Iterations: \u001b[1;36m158\u001b[0m\n"
      ]
     },
     "metadata": {},
     "output_type": "display_data"
    },
    {
     "data": {
      "text/html": [
       "<pre style=\"white-space:pre;overflow-x:auto;line-height:normal;font-family:Menlo,'DejaVu Sans Mono',consolas,'Courier New',monospace\">Min: <span style=\"color: #008080; text-decoration-color: #008080; font-weight: bold\">0.0</span> | Max: <span style=\"color: #008080; text-decoration-color: #008080; font-weight: bold\">2.4000000000000004</span> | Average: <span style=\"color: #008080; text-decoration-color: #008080; font-weight: bold\">0.36080000000000045</span> | Iterations: <span style=\"color: #008080; text-decoration-color: #008080; font-weight: bold\">159</span>\n",
       "</pre>\n"
      ],
      "text/plain": [
       "Min: \u001b[1;36m0.0\u001b[0m | Max: \u001b[1;36m2.4000000000000004\u001b[0m | Average: \u001b[1;36m0.36080000000000045\u001b[0m | Iterations: \u001b[1;36m159\u001b[0m\n"
      ]
     },
     "metadata": {},
     "output_type": "display_data"
    },
    {
     "data": {
      "text/html": [
       "<pre style=\"white-space:pre;overflow-x:auto;line-height:normal;font-family:Menlo,'DejaVu Sans Mono',consolas,'Courier New',monospace\">Min: <span style=\"color: #008080; text-decoration-color: #008080; font-weight: bold\">0.0</span> | Max: <span style=\"color: #008080; text-decoration-color: #008080; font-weight: bold\">2.3999999999999986</span> | Average: <span style=\"color: #008080; text-decoration-color: #008080; font-weight: bold\">0.3568000000000005</span> | Iterations: <span style=\"color: #008080; text-decoration-color: #008080; font-weight: bold\">160</span>\n",
       "</pre>\n"
      ],
      "text/plain": [
       "Min: \u001b[1;36m0.0\u001b[0m | Max: \u001b[1;36m2.3999999999999986\u001b[0m | Average: \u001b[1;36m0.3568000000000005\u001b[0m | Iterations: \u001b[1;36m160\u001b[0m\n"
      ]
     },
     "metadata": {},
     "output_type": "display_data"
    },
    {
     "data": {
      "text/html": [
       "<pre style=\"white-space:pre;overflow-x:auto;line-height:normal;font-family:Menlo,'DejaVu Sans Mono',consolas,'Courier New',monospace\">Min: <span style=\"color: #008080; text-decoration-color: #008080; font-weight: bold\">0.0</span> | Max: <span style=\"color: #008080; text-decoration-color: #008080; font-weight: bold\">3.3999999999999986</span> | Average: <span style=\"color: #008080; text-decoration-color: #008080; font-weight: bold\">0.3696000000000007</span> | Iterations: <span style=\"color: #008080; text-decoration-color: #008080; font-weight: bold\">161</span>\n",
       "</pre>\n"
      ],
      "text/plain": [
       "Min: \u001b[1;36m0.0\u001b[0m | Max: \u001b[1;36m3.3999999999999986\u001b[0m | Average: \u001b[1;36m0.3696000000000007\u001b[0m | Iterations: \u001b[1;36m161\u001b[0m\n"
      ]
     },
     "metadata": {},
     "output_type": "display_data"
    },
    {
     "data": {
      "text/html": [
       "<pre style=\"white-space:pre;overflow-x:auto;line-height:normal;font-family:Menlo,'DejaVu Sans Mono',consolas,'Courier New',monospace\">Min: <span style=\"color: #008080; text-decoration-color: #008080; font-weight: bold\">0.0</span> | Max: <span style=\"color: #008080; text-decoration-color: #008080; font-weight: bold\">2.799999999999997</span> | Average: <span style=\"color: #008080; text-decoration-color: #008080; font-weight: bold\">0.38240000000000024</span> | Iterations: <span style=\"color: #008080; text-decoration-color: #008080; font-weight: bold\">162</span>\n",
       "</pre>\n"
      ],
      "text/plain": [
       "Min: \u001b[1;36m0.0\u001b[0m | Max: \u001b[1;36m2.799999999999997\u001b[0m | Average: \u001b[1;36m0.38240000000000024\u001b[0m | Iterations: \u001b[1;36m162\u001b[0m\n"
      ]
     },
     "metadata": {},
     "output_type": "display_data"
    },
    {
     "data": {
      "text/html": [
       "<pre style=\"white-space:pre;overflow-x:auto;line-height:normal;font-family:Menlo,'DejaVu Sans Mono',consolas,'Courier New',monospace\">Min: <span style=\"color: #008080; text-decoration-color: #008080; font-weight: bold\">0.0</span> | Max: <span style=\"color: #008080; text-decoration-color: #008080; font-weight: bold\">3.3999999999999986</span> | Average: <span style=\"color: #008080; text-decoration-color: #008080; font-weight: bold\">0.4120000000000003</span> | Iterations: <span style=\"color: #008080; text-decoration-color: #008080; font-weight: bold\">163</span>\n",
       "</pre>\n"
      ],
      "text/plain": [
       "Min: \u001b[1;36m0.0\u001b[0m | Max: \u001b[1;36m3.3999999999999986\u001b[0m | Average: \u001b[1;36m0.4120000000000003\u001b[0m | Iterations: \u001b[1;36m163\u001b[0m\n"
      ]
     },
     "metadata": {},
     "output_type": "display_data"
    },
    {
     "data": {
      "text/html": [
       "<pre style=\"white-space:pre;overflow-x:auto;line-height:normal;font-family:Menlo,'DejaVu Sans Mono',consolas,'Courier New',monospace\">Min: <span style=\"color: #008080; text-decoration-color: #008080; font-weight: bold\">0.0</span> | Max: <span style=\"color: #008080; text-decoration-color: #008080; font-weight: bold\">3.599999999999998</span> | Average: <span style=\"color: #008080; text-decoration-color: #008080; font-weight: bold\">0.3888000000000004</span> | Iterations: <span style=\"color: #008080; text-decoration-color: #008080; font-weight: bold\">164</span>\n",
       "</pre>\n"
      ],
      "text/plain": [
       "Min: \u001b[1;36m0.0\u001b[0m | Max: \u001b[1;36m3.599999999999998\u001b[0m | Average: \u001b[1;36m0.3888000000000004\u001b[0m | Iterations: \u001b[1;36m164\u001b[0m\n"
      ]
     },
     "metadata": {},
     "output_type": "display_data"
    },
    {
     "data": {
      "text/html": [
       "<pre style=\"white-space:pre;overflow-x:auto;line-height:normal;font-family:Menlo,'DejaVu Sans Mono',consolas,'Courier New',monospace\">Min: <span style=\"color: #008080; text-decoration-color: #008080; font-weight: bold\">0.0</span> | Max: <span style=\"color: #008080; text-decoration-color: #008080; font-weight: bold\">3.8000000000000007</span> | Average: <span style=\"color: #008080; text-decoration-color: #008080; font-weight: bold\">0.44240000000000074</span> | Iterations: <span style=\"color: #008080; text-decoration-color: #008080; font-weight: bold\">165</span>\n",
       "</pre>\n"
      ],
      "text/plain": [
       "Min: \u001b[1;36m0.0\u001b[0m | Max: \u001b[1;36m3.8000000000000007\u001b[0m | Average: \u001b[1;36m0.44240000000000074\u001b[0m | Iterations: \u001b[1;36m165\u001b[0m\n"
      ]
     },
     "metadata": {},
     "output_type": "display_data"
    },
    {
     "data": {
      "text/html": [
       "<pre style=\"white-space:pre;overflow-x:auto;line-height:normal;font-family:Menlo,'DejaVu Sans Mono',consolas,'Courier New',monospace\">Min: <span style=\"color: #008080; text-decoration-color: #008080; font-weight: bold\">0.0</span> | Max: <span style=\"color: #008080; text-decoration-color: #008080; font-weight: bold\">3.0</span> | Average: <span style=\"color: #008080; text-decoration-color: #008080; font-weight: bold\">0.4120000000000008</span> | Iterations: <span style=\"color: #008080; text-decoration-color: #008080; font-weight: bold\">166</span>\n",
       "</pre>\n"
      ],
      "text/plain": [
       "Min: \u001b[1;36m0.0\u001b[0m | Max: \u001b[1;36m3.0\u001b[0m | Average: \u001b[1;36m0.4120000000000008\u001b[0m | Iterations: \u001b[1;36m166\u001b[0m\n"
      ]
     },
     "metadata": {},
     "output_type": "display_data"
    },
    {
     "data": {
      "text/html": [
       "<pre style=\"white-space:pre;overflow-x:auto;line-height:normal;font-family:Menlo,'DejaVu Sans Mono',consolas,'Courier New',monospace\">Min: <span style=\"color: #008080; text-decoration-color: #008080; font-weight: bold\">0.0</span> | Max: <span style=\"color: #008080; text-decoration-color: #008080; font-weight: bold\">3.6000000000000014</span> | Average: <span style=\"color: #008080; text-decoration-color: #008080; font-weight: bold\">0.3552000000000006</span> | Iterations: <span style=\"color: #008080; text-decoration-color: #008080; font-weight: bold\">167</span>\n",
       "</pre>\n"
      ],
      "text/plain": [
       "Min: \u001b[1;36m0.0\u001b[0m | Max: \u001b[1;36m3.6000000000000014\u001b[0m | Average: \u001b[1;36m0.3552000000000006\u001b[0m | Iterations: \u001b[1;36m167\u001b[0m\n"
      ]
     },
     "metadata": {},
     "output_type": "display_data"
    },
    {
     "data": {
      "text/html": [
       "<pre style=\"white-space:pre;overflow-x:auto;line-height:normal;font-family:Menlo,'DejaVu Sans Mono',consolas,'Courier New',monospace\">Min: <span style=\"color: #008080; text-decoration-color: #008080; font-weight: bold\">0.0</span> | Max: <span style=\"color: #008080; text-decoration-color: #008080; font-weight: bold\">2.400000000000002</span> | Average: <span style=\"color: #008080; text-decoration-color: #008080; font-weight: bold\">0.3584000000000005</span> | Iterations: <span style=\"color: #008080; text-decoration-color: #008080; font-weight: bold\">168</span>\n",
       "</pre>\n"
      ],
      "text/plain": [
       "Min: \u001b[1;36m0.0\u001b[0m | Max: \u001b[1;36m2.400000000000002\u001b[0m | Average: \u001b[1;36m0.3584000000000005\u001b[0m | Iterations: \u001b[1;36m168\u001b[0m\n"
      ]
     },
     "metadata": {},
     "output_type": "display_data"
    },
    {
     "data": {
      "text/html": [
       "<pre style=\"white-space:pre;overflow-x:auto;line-height:normal;font-family:Menlo,'DejaVu Sans Mono',consolas,'Courier New',monospace\">Min: <span style=\"color: #008080; text-decoration-color: #008080; font-weight: bold\">0.0</span> | Max: <span style=\"color: #008080; text-decoration-color: #008080; font-weight: bold\">4.399999999999999</span> | Average: <span style=\"color: #008080; text-decoration-color: #008080; font-weight: bold\">0.37040000000000056</span> | Iterations: <span style=\"color: #008080; text-decoration-color: #008080; font-weight: bold\">169</span>\n",
       "</pre>\n"
      ],
      "text/plain": [
       "Min: \u001b[1;36m0.0\u001b[0m | Max: \u001b[1;36m4.399999999999999\u001b[0m | Average: \u001b[1;36m0.37040000000000056\u001b[0m | Iterations: \u001b[1;36m169\u001b[0m\n"
      ]
     },
     "metadata": {},
     "output_type": "display_data"
    },
    {
     "data": {
      "text/html": [
       "<pre style=\"white-space:pre;overflow-x:auto;line-height:normal;font-family:Menlo,'DejaVu Sans Mono',consolas,'Courier New',monospace\">Min: <span style=\"color: #008080; text-decoration-color: #008080; font-weight: bold\">0.0</span> | Max: <span style=\"color: #008080; text-decoration-color: #008080; font-weight: bold\">3.200000000000001</span> | Average: <span style=\"color: #008080; text-decoration-color: #008080; font-weight: bold\">0.37280000000000035</span> | Iterations: <span style=\"color: #008080; text-decoration-color: #008080; font-weight: bold\">170</span>\n",
       "</pre>\n"
      ],
      "text/plain": [
       "Min: \u001b[1;36m0.0\u001b[0m | Max: \u001b[1;36m3.200000000000001\u001b[0m | Average: \u001b[1;36m0.37280000000000035\u001b[0m | Iterations: \u001b[1;36m170\u001b[0m\n"
      ]
     },
     "metadata": {},
     "output_type": "display_data"
    },
    {
     "data": {
      "text/html": [
       "<pre style=\"white-space:pre;overflow-x:auto;line-height:normal;font-family:Menlo,'DejaVu Sans Mono',consolas,'Courier New',monospace\">Min: <span style=\"color: #008080; text-decoration-color: #008080; font-weight: bold\">0.0</span> | Max: <span style=\"color: #008080; text-decoration-color: #008080; font-weight: bold\">3.799999999999999</span> | Average: <span style=\"color: #008080; text-decoration-color: #008080; font-weight: bold\">0.4080000000000003</span> | Iterations: <span style=\"color: #008080; text-decoration-color: #008080; font-weight: bold\">171</span>\n",
       "</pre>\n"
      ],
      "text/plain": [
       "Min: \u001b[1;36m0.0\u001b[0m | Max: \u001b[1;36m3.799999999999999\u001b[0m | Average: \u001b[1;36m0.4080000000000003\u001b[0m | Iterations: \u001b[1;36m171\u001b[0m\n"
      ]
     },
     "metadata": {},
     "output_type": "display_data"
    },
    {
     "data": {
      "text/html": [
       "<pre style=\"white-space:pre;overflow-x:auto;line-height:normal;font-family:Menlo,'DejaVu Sans Mono',consolas,'Courier New',monospace\">Min: <span style=\"color: #008080; text-decoration-color: #008080; font-weight: bold\">0.0</span> | Max: <span style=\"color: #008080; text-decoration-color: #008080; font-weight: bold\">4.0</span> | Average: <span style=\"color: #008080; text-decoration-color: #008080; font-weight: bold\">0.3864000000000006</span> | Iterations: <span style=\"color: #008080; text-decoration-color: #008080; font-weight: bold\">172</span>\n",
       "</pre>\n"
      ],
      "text/plain": [
       "Min: \u001b[1;36m0.0\u001b[0m | Max: \u001b[1;36m4.0\u001b[0m | Average: \u001b[1;36m0.3864000000000006\u001b[0m | Iterations: \u001b[1;36m172\u001b[0m\n"
      ]
     },
     "metadata": {},
     "output_type": "display_data"
    },
    {
     "data": {
      "text/html": [
       "<pre style=\"white-space:pre;overflow-x:auto;line-height:normal;font-family:Menlo,'DejaVu Sans Mono',consolas,'Courier New',monospace\">Min: <span style=\"color: #008080; text-decoration-color: #008080; font-weight: bold\">0.0</span> | Max: <span style=\"color: #008080; text-decoration-color: #008080; font-weight: bold\">4.600000000000001</span> | Average: <span style=\"color: #008080; text-decoration-color: #008080; font-weight: bold\">0.3968000000000009</span> | Iterations: <span style=\"color: #008080; text-decoration-color: #008080; font-weight: bold\">173</span>\n",
       "</pre>\n"
      ],
      "text/plain": [
       "Min: \u001b[1;36m0.0\u001b[0m | Max: \u001b[1;36m4.600000000000001\u001b[0m | Average: \u001b[1;36m0.3968000000000009\u001b[0m | Iterations: \u001b[1;36m173\u001b[0m\n"
      ]
     },
     "metadata": {},
     "output_type": "display_data"
    },
    {
     "data": {
      "text/html": [
       "<pre style=\"white-space:pre;overflow-x:auto;line-height:normal;font-family:Menlo,'DejaVu Sans Mono',consolas,'Courier New',monospace\">Min: <span style=\"color: #008080; text-decoration-color: #008080; font-weight: bold\">0.0</span> | Max: <span style=\"color: #008080; text-decoration-color: #008080; font-weight: bold\">2.6000000000000014</span> | Average: <span style=\"color: #008080; text-decoration-color: #008080; font-weight: bold\">0.3512000000000007</span> | Iterations: <span style=\"color: #008080; text-decoration-color: #008080; font-weight: bold\">174</span>\n",
       "</pre>\n"
      ],
      "text/plain": [
       "Min: \u001b[1;36m0.0\u001b[0m | Max: \u001b[1;36m2.6000000000000014\u001b[0m | Average: \u001b[1;36m0.3512000000000007\u001b[0m | Iterations: \u001b[1;36m174\u001b[0m\n"
      ]
     },
     "metadata": {},
     "output_type": "display_data"
    },
    {
     "data": {
      "text/html": [
       "<pre style=\"white-space:pre;overflow-x:auto;line-height:normal;font-family:Menlo,'DejaVu Sans Mono',consolas,'Courier New',monospace\">Min: <span style=\"color: #008080; text-decoration-color: #008080; font-weight: bold\">0.0</span> | Max: <span style=\"color: #008080; text-decoration-color: #008080; font-weight: bold\">2.1999999999999993</span> | Average: <span style=\"color: #008080; text-decoration-color: #008080; font-weight: bold\">0.34800000000000064</span> | Iterations: <span style=\"color: #008080; text-decoration-color: #008080; font-weight: bold\">175</span>\n",
       "</pre>\n"
      ],
      "text/plain": [
       "Min: \u001b[1;36m0.0\u001b[0m | Max: \u001b[1;36m2.1999999999999993\u001b[0m | Average: \u001b[1;36m0.34800000000000064\u001b[0m | Iterations: \u001b[1;36m175\u001b[0m\n"
      ]
     },
     "metadata": {},
     "output_type": "display_data"
    },
    {
     "data": {
      "text/html": [
       "<pre style=\"white-space:pre;overflow-x:auto;line-height:normal;font-family:Menlo,'DejaVu Sans Mono',consolas,'Courier New',monospace\">Min: <span style=\"color: #008080; text-decoration-color: #008080; font-weight: bold\">0.0</span> | Max: <span style=\"color: #008080; text-decoration-color: #008080; font-weight: bold\">3.400000000000002</span> | Average: <span style=\"color: #008080; text-decoration-color: #008080; font-weight: bold\">0.3992000000000006</span> | Iterations: <span style=\"color: #008080; text-decoration-color: #008080; font-weight: bold\">176</span>\n",
       "</pre>\n"
      ],
      "text/plain": [
       "Min: \u001b[1;36m0.0\u001b[0m | Max: \u001b[1;36m3.400000000000002\u001b[0m | Average: \u001b[1;36m0.3992000000000006\u001b[0m | Iterations: \u001b[1;36m176\u001b[0m\n"
      ]
     },
     "metadata": {},
     "output_type": "display_data"
    },
    {
     "data": {
      "text/html": [
       "<pre style=\"white-space:pre;overflow-x:auto;line-height:normal;font-family:Menlo,'DejaVu Sans Mono',consolas,'Courier New',monospace\">Min: <span style=\"color: #008080; text-decoration-color: #008080; font-weight: bold\">0.0</span> | Max: <span style=\"color: #008080; text-decoration-color: #008080; font-weight: bold\">2.6000000000000014</span> | Average: <span style=\"color: #008080; text-decoration-color: #008080; font-weight: bold\">0.4208000000000006</span> | Iterations: <span style=\"color: #008080; text-decoration-color: #008080; font-weight: bold\">177</span>\n",
       "</pre>\n"
      ],
      "text/plain": [
       "Min: \u001b[1;36m0.0\u001b[0m | Max: \u001b[1;36m2.6000000000000014\u001b[0m | Average: \u001b[1;36m0.4208000000000006\u001b[0m | Iterations: \u001b[1;36m177\u001b[0m\n"
      ]
     },
     "metadata": {},
     "output_type": "display_data"
    },
    {
     "data": {
      "text/html": [
       "<pre style=\"white-space:pre;overflow-x:auto;line-height:normal;font-family:Menlo,'DejaVu Sans Mono',consolas,'Courier New',monospace\">Min: <span style=\"color: #008080; text-decoration-color: #008080; font-weight: bold\">0.0</span> | Max: <span style=\"color: #008080; text-decoration-color: #008080; font-weight: bold\">3.0</span> | Average: <span style=\"color: #008080; text-decoration-color: #008080; font-weight: bold\">0.36000000000000043</span> | Iterations: <span style=\"color: #008080; text-decoration-color: #008080; font-weight: bold\">178</span>\n",
       "</pre>\n"
      ],
      "text/plain": [
       "Min: \u001b[1;36m0.0\u001b[0m | Max: \u001b[1;36m3.0\u001b[0m | Average: \u001b[1;36m0.36000000000000043\u001b[0m | Iterations: \u001b[1;36m178\u001b[0m\n"
      ]
     },
     "metadata": {},
     "output_type": "display_data"
    },
    {
     "data": {
      "text/html": [
       "<pre style=\"white-space:pre;overflow-x:auto;line-height:normal;font-family:Menlo,'DejaVu Sans Mono',consolas,'Courier New',monospace\">Min: <span style=\"color: #008080; text-decoration-color: #008080; font-weight: bold\">0.0</span> | Max: <span style=\"color: #008080; text-decoration-color: #008080; font-weight: bold\">2.3999999999999986</span> | Average: <span style=\"color: #008080; text-decoration-color: #008080; font-weight: bold\">0.38240000000000074</span> | Iterations: <span style=\"color: #008080; text-decoration-color: #008080; font-weight: bold\">179</span>\n",
       "</pre>\n"
      ],
      "text/plain": [
       "Min: \u001b[1;36m0.0\u001b[0m | Max: \u001b[1;36m2.3999999999999986\u001b[0m | Average: \u001b[1;36m0.38240000000000074\u001b[0m | Iterations: \u001b[1;36m179\u001b[0m\n"
      ]
     },
     "metadata": {},
     "output_type": "display_data"
    },
    {
     "data": {
      "text/html": [
       "<pre style=\"white-space:pre;overflow-x:auto;line-height:normal;font-family:Menlo,'DejaVu Sans Mono',consolas,'Courier New',monospace\">Min: <span style=\"color: #008080; text-decoration-color: #008080; font-weight: bold\">0.0</span> | Max: <span style=\"color: #008080; text-decoration-color: #008080; font-weight: bold\">2.3999999999999986</span> | Average: <span style=\"color: #008080; text-decoration-color: #008080; font-weight: bold\">0.3288000000000005</span> | Iterations: <span style=\"color: #008080; text-decoration-color: #008080; font-weight: bold\">180</span>\n",
       "</pre>\n"
      ],
      "text/plain": [
       "Min: \u001b[1;36m0.0\u001b[0m | Max: \u001b[1;36m2.3999999999999986\u001b[0m | Average: \u001b[1;36m0.3288000000000005\u001b[0m | Iterations: \u001b[1;36m180\u001b[0m\n"
      ]
     },
     "metadata": {},
     "output_type": "display_data"
    },
    {
     "data": {
      "text/html": [
       "<pre style=\"white-space:pre;overflow-x:auto;line-height:normal;font-family:Menlo,'DejaVu Sans Mono',consolas,'Courier New',monospace\">Min: <span style=\"color: #008080; text-decoration-color: #008080; font-weight: bold\">0.0</span> | Max: <span style=\"color: #008080; text-decoration-color: #008080; font-weight: bold\">2.8000000000000007</span> | Average: <span style=\"color: #008080; text-decoration-color: #008080; font-weight: bold\">0.4424000000000003</span> | Iterations: <span style=\"color: #008080; text-decoration-color: #008080; font-weight: bold\">181</span>\n",
       "</pre>\n"
      ],
      "text/plain": [
       "Min: \u001b[1;36m0.0\u001b[0m | Max: \u001b[1;36m2.8000000000000007\u001b[0m | Average: \u001b[1;36m0.4424000000000003\u001b[0m | Iterations: \u001b[1;36m181\u001b[0m\n"
      ]
     },
     "metadata": {},
     "output_type": "display_data"
    },
    {
     "data": {
      "text/html": [
       "<pre style=\"white-space:pre;overflow-x:auto;line-height:normal;font-family:Menlo,'DejaVu Sans Mono',consolas,'Courier New',monospace\">Min: <span style=\"color: #008080; text-decoration-color: #008080; font-weight: bold\">0.0</span> | Max: <span style=\"color: #008080; text-decoration-color: #008080; font-weight: bold\">3.599999999999998</span> | Average: <span style=\"color: #008080; text-decoration-color: #008080; font-weight: bold\">0.4136000000000006</span> | Iterations: <span style=\"color: #008080; text-decoration-color: #008080; font-weight: bold\">182</span>\n",
       "</pre>\n"
      ],
      "text/plain": [
       "Min: \u001b[1;36m0.0\u001b[0m | Max: \u001b[1;36m3.599999999999998\u001b[0m | Average: \u001b[1;36m0.4136000000000006\u001b[0m | Iterations: \u001b[1;36m182\u001b[0m\n"
      ]
     },
     "metadata": {},
     "output_type": "display_data"
    },
    {
     "data": {
      "text/html": [
       "<pre style=\"white-space:pre;overflow-x:auto;line-height:normal;font-family:Menlo,'DejaVu Sans Mono',consolas,'Courier New',monospace\">Min: <span style=\"color: #008080; text-decoration-color: #008080; font-weight: bold\">0.0</span> | Max: <span style=\"color: #008080; text-decoration-color: #008080; font-weight: bold\">3.0</span> | Average: <span style=\"color: #008080; text-decoration-color: #008080; font-weight: bold\">0.39120000000000044</span> | Iterations: <span style=\"color: #008080; text-decoration-color: #008080; font-weight: bold\">183</span>\n",
       "</pre>\n"
      ],
      "text/plain": [
       "Min: \u001b[1;36m0.0\u001b[0m | Max: \u001b[1;36m3.0\u001b[0m | Average: \u001b[1;36m0.39120000000000044\u001b[0m | Iterations: \u001b[1;36m183\u001b[0m\n"
      ]
     },
     "metadata": {},
     "output_type": "display_data"
    },
    {
     "data": {
      "text/html": [
       "<pre style=\"white-space:pre;overflow-x:auto;line-height:normal;font-family:Menlo,'DejaVu Sans Mono',consolas,'Courier New',monospace\">Min: <span style=\"color: #008080; text-decoration-color: #008080; font-weight: bold\">0.0</span> | Max: <span style=\"color: #008080; text-decoration-color: #008080; font-weight: bold\">3.1999999999999993</span> | Average: <span style=\"color: #008080; text-decoration-color: #008080; font-weight: bold\">0.3832000000000004</span> | Iterations: <span style=\"color: #008080; text-decoration-color: #008080; font-weight: bold\">184</span>\n",
       "</pre>\n"
      ],
      "text/plain": [
       "Min: \u001b[1;36m0.0\u001b[0m | Max: \u001b[1;36m3.1999999999999993\u001b[0m | Average: \u001b[1;36m0.3832000000000004\u001b[0m | Iterations: \u001b[1;36m184\u001b[0m\n"
      ]
     },
     "metadata": {},
     "output_type": "display_data"
    },
    {
     "data": {
      "text/html": [
       "<pre style=\"white-space:pre;overflow-x:auto;line-height:normal;font-family:Menlo,'DejaVu Sans Mono',consolas,'Courier New',monospace\">Min: <span style=\"color: #008080; text-decoration-color: #008080; font-weight: bold\">0.0</span> | Max: <span style=\"color: #008080; text-decoration-color: #008080; font-weight: bold\">2.8000000000000007</span> | Average: <span style=\"color: #008080; text-decoration-color: #008080; font-weight: bold\">0.3504000000000007</span> | Iterations: <span style=\"color: #008080; text-decoration-color: #008080; font-weight: bold\">185</span>\n",
       "</pre>\n"
      ],
      "text/plain": [
       "Min: \u001b[1;36m0.0\u001b[0m | Max: \u001b[1;36m2.8000000000000007\u001b[0m | Average: \u001b[1;36m0.3504000000000007\u001b[0m | Iterations: \u001b[1;36m185\u001b[0m\n"
      ]
     },
     "metadata": {},
     "output_type": "display_data"
    },
    {
     "data": {
      "text/html": [
       "<pre style=\"white-space:pre;overflow-x:auto;line-height:normal;font-family:Menlo,'DejaVu Sans Mono',consolas,'Courier New',monospace\">Min: <span style=\"color: #008080; text-decoration-color: #008080; font-weight: bold\">0.0</span> | Max: <span style=\"color: #008080; text-decoration-color: #008080; font-weight: bold\">3.1999999999999993</span> | Average: <span style=\"color: #008080; text-decoration-color: #008080; font-weight: bold\">0.38960000000000067</span> | Iterations: <span style=\"color: #008080; text-decoration-color: #008080; font-weight: bold\">186</span>\n",
       "</pre>\n"
      ],
      "text/plain": [
       "Min: \u001b[1;36m0.0\u001b[0m | Max: \u001b[1;36m3.1999999999999993\u001b[0m | Average: \u001b[1;36m0.38960000000000067\u001b[0m | Iterations: \u001b[1;36m186\u001b[0m\n"
      ]
     },
     "metadata": {},
     "output_type": "display_data"
    },
    {
     "data": {
      "text/html": [
       "<pre style=\"white-space:pre;overflow-x:auto;line-height:normal;font-family:Menlo,'DejaVu Sans Mono',consolas,'Courier New',monospace\">Min: <span style=\"color: #008080; text-decoration-color: #008080; font-weight: bold\">0.0</span> | Max: <span style=\"color: #008080; text-decoration-color: #008080; font-weight: bold\">3.1999999999999993</span> | Average: <span style=\"color: #008080; text-decoration-color: #008080; font-weight: bold\">0.36240000000000067</span> | Iterations: <span style=\"color: #008080; text-decoration-color: #008080; font-weight: bold\">187</span>\n",
       "</pre>\n"
      ],
      "text/plain": [
       "Min: \u001b[1;36m0.0\u001b[0m | Max: \u001b[1;36m3.1999999999999993\u001b[0m | Average: \u001b[1;36m0.36240000000000067\u001b[0m | Iterations: \u001b[1;36m187\u001b[0m\n"
      ]
     },
     "metadata": {},
     "output_type": "display_data"
    },
    {
     "data": {
      "text/html": [
       "<pre style=\"white-space:pre;overflow-x:auto;line-height:normal;font-family:Menlo,'DejaVu Sans Mono',consolas,'Courier New',monospace\">Min: <span style=\"color: #008080; text-decoration-color: #008080; font-weight: bold\">0.0</span> | Max: <span style=\"color: #008080; text-decoration-color: #008080; font-weight: bold\">3.6000000000000014</span> | Average: <span style=\"color: #008080; text-decoration-color: #008080; font-weight: bold\">0.36720000000000064</span> | Iterations: <span style=\"color: #008080; text-decoration-color: #008080; font-weight: bold\">188</span>\n",
       "</pre>\n"
      ],
      "text/plain": [
       "Min: \u001b[1;36m0.0\u001b[0m | Max: \u001b[1;36m3.6000000000000014\u001b[0m | Average: \u001b[1;36m0.36720000000000064\u001b[0m | Iterations: \u001b[1;36m188\u001b[0m\n"
      ]
     },
     "metadata": {},
     "output_type": "display_data"
    },
    {
     "data": {
      "text/html": [
       "<pre style=\"white-space:pre;overflow-x:auto;line-height:normal;font-family:Menlo,'DejaVu Sans Mono',consolas,'Courier New',monospace\">Min: <span style=\"color: #008080; text-decoration-color: #008080; font-weight: bold\">0.0</span> | Max: <span style=\"color: #008080; text-decoration-color: #008080; font-weight: bold\">4.0</span> | Average: <span style=\"color: #008080; text-decoration-color: #008080; font-weight: bold\">0.42080000000000034</span> | Iterations: <span style=\"color: #008080; text-decoration-color: #008080; font-weight: bold\">189</span>\n",
       "</pre>\n"
      ],
      "text/plain": [
       "Min: \u001b[1;36m0.0\u001b[0m | Max: \u001b[1;36m4.0\u001b[0m | Average: \u001b[1;36m0.42080000000000034\u001b[0m | Iterations: \u001b[1;36m189\u001b[0m\n"
      ]
     },
     "metadata": {},
     "output_type": "display_data"
    },
    {
     "data": {
      "text/html": [
       "<pre style=\"white-space:pre;overflow-x:auto;line-height:normal;font-family:Menlo,'DejaVu Sans Mono',consolas,'Courier New',monospace\">Min: <span style=\"color: #008080; text-decoration-color: #008080; font-weight: bold\">0.0</span> | Max: <span style=\"color: #008080; text-decoration-color: #008080; font-weight: bold\">3.200000000000001</span> | Average: <span style=\"color: #008080; text-decoration-color: #008080; font-weight: bold\">0.36720000000000014</span> | Iterations: <span style=\"color: #008080; text-decoration-color: #008080; font-weight: bold\">190</span>\n",
       "</pre>\n"
      ],
      "text/plain": [
       "Min: \u001b[1;36m0.0\u001b[0m | Max: \u001b[1;36m3.200000000000001\u001b[0m | Average: \u001b[1;36m0.36720000000000014\u001b[0m | Iterations: \u001b[1;36m190\u001b[0m\n"
      ]
     },
     "metadata": {},
     "output_type": "display_data"
    },
    {
     "data": {
      "text/html": [
       "<pre style=\"white-space:pre;overflow-x:auto;line-height:normal;font-family:Menlo,'DejaVu Sans Mono',consolas,'Courier New',monospace\">Min: <span style=\"color: #008080; text-decoration-color: #008080; font-weight: bold\">0.0</span> | Max: <span style=\"color: #008080; text-decoration-color: #008080; font-weight: bold\">3.0</span> | Average: <span style=\"color: #008080; text-decoration-color: #008080; font-weight: bold\">0.3720000000000003</span> | Iterations: <span style=\"color: #008080; text-decoration-color: #008080; font-weight: bold\">191</span>\n",
       "</pre>\n"
      ],
      "text/plain": [
       "Min: \u001b[1;36m0.0\u001b[0m | Max: \u001b[1;36m3.0\u001b[0m | Average: \u001b[1;36m0.3720000000000003\u001b[0m | Iterations: \u001b[1;36m191\u001b[0m\n"
      ]
     },
     "metadata": {},
     "output_type": "display_data"
    },
    {
     "data": {
      "text/html": [
       "<pre style=\"white-space:pre;overflow-x:auto;line-height:normal;font-family:Menlo,'DejaVu Sans Mono',consolas,'Courier New',monospace\">Min: <span style=\"color: #008080; text-decoration-color: #008080; font-weight: bold\">0.0</span> | Max: <span style=\"color: #008080; text-decoration-color: #008080; font-weight: bold\">2.8000000000000007</span> | Average: <span style=\"color: #008080; text-decoration-color: #008080; font-weight: bold\">0.3848000000000006</span> | Iterations: <span style=\"color: #008080; text-decoration-color: #008080; font-weight: bold\">192</span>\n",
       "</pre>\n"
      ],
      "text/plain": [
       "Min: \u001b[1;36m0.0\u001b[0m | Max: \u001b[1;36m2.8000000000000007\u001b[0m | Average: \u001b[1;36m0.3848000000000006\u001b[0m | Iterations: \u001b[1;36m192\u001b[0m\n"
      ]
     },
     "metadata": {},
     "output_type": "display_data"
    },
    {
     "data": {
      "text/html": [
       "<pre style=\"white-space:pre;overflow-x:auto;line-height:normal;font-family:Menlo,'DejaVu Sans Mono',consolas,'Courier New',monospace\">Min: <span style=\"color: #008080; text-decoration-color: #008080; font-weight: bold\">0.0</span> | Max: <span style=\"color: #008080; text-decoration-color: #008080; font-weight: bold\">4.4</span> | Average: <span style=\"color: #008080; text-decoration-color: #008080; font-weight: bold\">0.38160000000000033</span> | Iterations: <span style=\"color: #008080; text-decoration-color: #008080; font-weight: bold\">193</span>\n",
       "</pre>\n"
      ],
      "text/plain": [
       "Min: \u001b[1;36m0.0\u001b[0m | Max: \u001b[1;36m4.4\u001b[0m | Average: \u001b[1;36m0.38160000000000033\u001b[0m | Iterations: \u001b[1;36m193\u001b[0m\n"
      ]
     },
     "metadata": {},
     "output_type": "display_data"
    },
    {
     "data": {
      "text/html": [
       "<pre style=\"white-space:pre;overflow-x:auto;line-height:normal;font-family:Menlo,'DejaVu Sans Mono',consolas,'Courier New',monospace\">Min: <span style=\"color: #008080; text-decoration-color: #008080; font-weight: bold\">0.0</span> | Max: <span style=\"color: #008080; text-decoration-color: #008080; font-weight: bold\">2.9999999999999982</span> | Average: <span style=\"color: #008080; text-decoration-color: #008080; font-weight: bold\">0.36960000000000065</span> | Iterations: <span style=\"color: #008080; text-decoration-color: #008080; font-weight: bold\">194</span>\n",
       "</pre>\n"
      ],
      "text/plain": [
       "Min: \u001b[1;36m0.0\u001b[0m | Max: \u001b[1;36m2.9999999999999982\u001b[0m | Average: \u001b[1;36m0.36960000000000065\u001b[0m | Iterations: \u001b[1;36m194\u001b[0m\n"
      ]
     },
     "metadata": {},
     "output_type": "display_data"
    },
    {
     "data": {
      "text/html": [
       "<pre style=\"white-space:pre;overflow-x:auto;line-height:normal;font-family:Menlo,'DejaVu Sans Mono',consolas,'Courier New',monospace\">Min: <span style=\"color: #008080; text-decoration-color: #008080; font-weight: bold\">0.0</span> | Max: <span style=\"color: #008080; text-decoration-color: #008080; font-weight: bold\">2.599999999999998</span> | Average: <span style=\"color: #008080; text-decoration-color: #008080; font-weight: bold\">0.4112000000000007</span> | Iterations: <span style=\"color: #008080; text-decoration-color: #008080; font-weight: bold\">195</span>\n",
       "</pre>\n"
      ],
      "text/plain": [
       "Min: \u001b[1;36m0.0\u001b[0m | Max: \u001b[1;36m2.599999999999998\u001b[0m | Average: \u001b[1;36m0.4112000000000007\u001b[0m | Iterations: \u001b[1;36m195\u001b[0m\n"
      ]
     },
     "metadata": {},
     "output_type": "display_data"
    },
    {
     "data": {
      "text/html": [
       "<pre style=\"white-space:pre;overflow-x:auto;line-height:normal;font-family:Menlo,'DejaVu Sans Mono',consolas,'Courier New',monospace\">Min: <span style=\"color: #008080; text-decoration-color: #008080; font-weight: bold\">0.0</span> | Max: <span style=\"color: #008080; text-decoration-color: #008080; font-weight: bold\">2.999999999999999</span> | Average: <span style=\"color: #008080; text-decoration-color: #008080; font-weight: bold\">0.36480000000000073</span> | Iterations: <span style=\"color: #008080; text-decoration-color: #008080; font-weight: bold\">196</span>\n",
       "</pre>\n"
      ],
      "text/plain": [
       "Min: \u001b[1;36m0.0\u001b[0m | Max: \u001b[1;36m2.999999999999999\u001b[0m | Average: \u001b[1;36m0.36480000000000073\u001b[0m | Iterations: \u001b[1;36m196\u001b[0m\n"
      ]
     },
     "metadata": {},
     "output_type": "display_data"
    },
    {
     "data": {
      "text/html": [
       "<pre style=\"white-space:pre;overflow-x:auto;line-height:normal;font-family:Menlo,'DejaVu Sans Mono',consolas,'Courier New',monospace\">Min: <span style=\"color: #008080; text-decoration-color: #008080; font-weight: bold\">0.0</span> | Max: <span style=\"color: #008080; text-decoration-color: #008080; font-weight: bold\">3.1999999999999993</span> | Average: <span style=\"color: #008080; text-decoration-color: #008080; font-weight: bold\">0.36000000000000026</span> | Iterations: <span style=\"color: #008080; text-decoration-color: #008080; font-weight: bold\">197</span>\n",
       "</pre>\n"
      ],
      "text/plain": [
       "Min: \u001b[1;36m0.0\u001b[0m | Max: \u001b[1;36m3.1999999999999993\u001b[0m | Average: \u001b[1;36m0.36000000000000026\u001b[0m | Iterations: \u001b[1;36m197\u001b[0m\n"
      ]
     },
     "metadata": {},
     "output_type": "display_data"
    },
    {
     "data": {
      "text/html": [
       "<pre style=\"white-space:pre;overflow-x:auto;line-height:normal;font-family:Menlo,'DejaVu Sans Mono',consolas,'Courier New',monospace\">Min: <span style=\"color: #008080; text-decoration-color: #008080; font-weight: bold\">0.0</span> | Max: <span style=\"color: #008080; text-decoration-color: #008080; font-weight: bold\">3.4000000000000004</span> | Average: <span style=\"color: #008080; text-decoration-color: #008080; font-weight: bold\">0.4136000000000004</span> | Iterations: <span style=\"color: #008080; text-decoration-color: #008080; font-weight: bold\">198</span>\n",
       "</pre>\n"
      ],
      "text/plain": [
       "Min: \u001b[1;36m0.0\u001b[0m | Max: \u001b[1;36m3.4000000000000004\u001b[0m | Average: \u001b[1;36m0.4136000000000004\u001b[0m | Iterations: \u001b[1;36m198\u001b[0m\n"
      ]
     },
     "metadata": {},
     "output_type": "display_data"
    },
    {
     "data": {
      "text/html": [
       "<pre style=\"white-space:pre;overflow-x:auto;line-height:normal;font-family:Menlo,'DejaVu Sans Mono',consolas,'Courier New',monospace\">Min: <span style=\"color: #008080; text-decoration-color: #008080; font-weight: bold\">0.0</span> | Max: <span style=\"color: #008080; text-decoration-color: #008080; font-weight: bold\">3.0</span> | Average: <span style=\"color: #008080; text-decoration-color: #008080; font-weight: bold\">0.39840000000000086</span> | Iterations: <span style=\"color: #008080; text-decoration-color: #008080; font-weight: bold\">199</span>\n",
       "</pre>\n"
      ],
      "text/plain": [
       "Min: \u001b[1;36m0.0\u001b[0m | Max: \u001b[1;36m3.0\u001b[0m | Average: \u001b[1;36m0.39840000000000086\u001b[0m | Iterations: \u001b[1;36m199\u001b[0m\n"
      ]
     },
     "metadata": {},
     "output_type": "display_data"
    },
    {
     "data": {
      "text/html": [
       "<pre style=\"white-space:pre;overflow-x:auto;line-height:normal;font-family:Menlo,'DejaVu Sans Mono',consolas,'Courier New',monospace\">Min: <span style=\"color: #008080; text-decoration-color: #008080; font-weight: bold\">0.0</span> | Max: <span style=\"color: #008080; text-decoration-color: #008080; font-weight: bold\">3.0</span> | Average: <span style=\"color: #008080; text-decoration-color: #008080; font-weight: bold\">0.42080000000000045</span> | Iterations: <span style=\"color: #008080; text-decoration-color: #008080; font-weight: bold\">200</span>\n",
       "</pre>\n"
      ],
      "text/plain": [
       "Min: \u001b[1;36m0.0\u001b[0m | Max: \u001b[1;36m3.0\u001b[0m | Average: \u001b[1;36m0.42080000000000045\u001b[0m | Iterations: \u001b[1;36m200\u001b[0m\n"
      ]
     },
     "metadata": {},
     "output_type": "display_data"
    },
    {
     "data": {
      "text/html": [
       "<pre style=\"white-space:pre;overflow-x:auto;line-height:normal;font-family:Menlo,'DejaVu Sans Mono',consolas,'Courier New',monospace\">Min: <span style=\"color: #008080; text-decoration-color: #008080; font-weight: bold\">0.0</span> | Max: <span style=\"color: #008080; text-decoration-color: #008080; font-weight: bold\">3.1999999999999993</span> | Average: <span style=\"color: #008080; text-decoration-color: #008080; font-weight: bold\">0.3760000000000003</span> | Iterations: <span style=\"color: #008080; text-decoration-color: #008080; font-weight: bold\">201</span>\n",
       "</pre>\n"
      ],
      "text/plain": [
       "Min: \u001b[1;36m0.0\u001b[0m | Max: \u001b[1;36m3.1999999999999993\u001b[0m | Average: \u001b[1;36m0.3760000000000003\u001b[0m | Iterations: \u001b[1;36m201\u001b[0m\n"
      ]
     },
     "metadata": {},
     "output_type": "display_data"
    },
    {
     "data": {
      "text/html": [
       "<pre style=\"white-space:pre;overflow-x:auto;line-height:normal;font-family:Menlo,'DejaVu Sans Mono',consolas,'Courier New',monospace\">Min: <span style=\"color: #008080; text-decoration-color: #008080; font-weight: bold\">0.0</span> | Max: <span style=\"color: #008080; text-decoration-color: #008080; font-weight: bold\">2.6000000000000014</span> | Average: <span style=\"color: #008080; text-decoration-color: #008080; font-weight: bold\">0.40400000000000064</span> | Iterations: <span style=\"color: #008080; text-decoration-color: #008080; font-weight: bold\">202</span>\n",
       "</pre>\n"
      ],
      "text/plain": [
       "Min: \u001b[1;36m0.0\u001b[0m | Max: \u001b[1;36m2.6000000000000014\u001b[0m | Average: \u001b[1;36m0.40400000000000064\u001b[0m | Iterations: \u001b[1;36m202\u001b[0m\n"
      ]
     },
     "metadata": {},
     "output_type": "display_data"
    },
    {
     "data": {
      "text/html": [
       "<pre style=\"white-space:pre;overflow-x:auto;line-height:normal;font-family:Menlo,'DejaVu Sans Mono',consolas,'Courier New',monospace\">Min: <span style=\"color: #008080; text-decoration-color: #008080; font-weight: bold\">0.0</span> | Max: <span style=\"color: #008080; text-decoration-color: #008080; font-weight: bold\">4.200000000000001</span> | Average: <span style=\"color: #008080; text-decoration-color: #008080; font-weight: bold\">0.3696000000000006</span> | Iterations: <span style=\"color: #008080; text-decoration-color: #008080; font-weight: bold\">203</span>\n",
       "</pre>\n"
      ],
      "text/plain": [
       "Min: \u001b[1;36m0.0\u001b[0m | Max: \u001b[1;36m4.200000000000001\u001b[0m | Average: \u001b[1;36m0.3696000000000006\u001b[0m | Iterations: \u001b[1;36m203\u001b[0m\n"
      ]
     },
     "metadata": {},
     "output_type": "display_data"
    },
    {
     "data": {
      "text/html": [
       "<pre style=\"white-space:pre;overflow-x:auto;line-height:normal;font-family:Menlo,'DejaVu Sans Mono',consolas,'Courier New',monospace\">Min: <span style=\"color: #008080; text-decoration-color: #008080; font-weight: bold\">0.0</span> | Max: <span style=\"color: #008080; text-decoration-color: #008080; font-weight: bold\">3.599999999999998</span> | Average: <span style=\"color: #008080; text-decoration-color: #008080; font-weight: bold\">0.37280000000000013</span> | Iterations: <span style=\"color: #008080; text-decoration-color: #008080; font-weight: bold\">204</span>\n",
       "</pre>\n"
      ],
      "text/plain": [
       "Min: \u001b[1;36m0.0\u001b[0m | Max: \u001b[1;36m3.599999999999998\u001b[0m | Average: \u001b[1;36m0.37280000000000013\u001b[0m | Iterations: \u001b[1;36m204\u001b[0m\n"
      ]
     },
     "metadata": {},
     "output_type": "display_data"
    },
    {
     "data": {
      "text/html": [
       "<pre style=\"white-space:pre;overflow-x:auto;line-height:normal;font-family:Menlo,'DejaVu Sans Mono',consolas,'Courier New',monospace\">Min: <span style=\"color: #008080; text-decoration-color: #008080; font-weight: bold\">0.0</span> | Max: <span style=\"color: #008080; text-decoration-color: #008080; font-weight: bold\">1.8000000000000007</span> | Average: <span style=\"color: #008080; text-decoration-color: #008080; font-weight: bold\">0.37520000000000026</span> | Iterations: <span style=\"color: #008080; text-decoration-color: #008080; font-weight: bold\">205</span>\n",
       "</pre>\n"
      ],
      "text/plain": [
       "Min: \u001b[1;36m0.0\u001b[0m | Max: \u001b[1;36m1.8000000000000007\u001b[0m | Average: \u001b[1;36m0.37520000000000026\u001b[0m | Iterations: \u001b[1;36m205\u001b[0m\n"
      ]
     },
     "metadata": {},
     "output_type": "display_data"
    },
    {
     "data": {
      "text/html": [
       "<pre style=\"white-space:pre;overflow-x:auto;line-height:normal;font-family:Menlo,'DejaVu Sans Mono',consolas,'Courier New',monospace\">Min: <span style=\"color: #008080; text-decoration-color: #008080; font-weight: bold\">0.0</span> | Max: <span style=\"color: #008080; text-decoration-color: #008080; font-weight: bold\">2.0</span> | Average: <span style=\"color: #008080; text-decoration-color: #008080; font-weight: bold\">0.3336000000000007</span> | Iterations: <span style=\"color: #008080; text-decoration-color: #008080; font-weight: bold\">206</span>\n",
       "</pre>\n"
      ],
      "text/plain": [
       "Min: \u001b[1;36m0.0\u001b[0m | Max: \u001b[1;36m2.0\u001b[0m | Average: \u001b[1;36m0.3336000000000007\u001b[0m | Iterations: \u001b[1;36m206\u001b[0m\n"
      ]
     },
     "metadata": {},
     "output_type": "display_data"
    },
    {
     "data": {
      "text/html": [
       "<pre style=\"white-space:pre;overflow-x:auto;line-height:normal;font-family:Menlo,'DejaVu Sans Mono',consolas,'Courier New',monospace\">Min: <span style=\"color: #008080; text-decoration-color: #008080; font-weight: bold\">0.0</span> | Max: <span style=\"color: #008080; text-decoration-color: #008080; font-weight: bold\">3.8000000000000007</span> | Average: <span style=\"color: #008080; text-decoration-color: #008080; font-weight: bold\">0.3896000000000006</span> | Iterations: <span style=\"color: #008080; text-decoration-color: #008080; font-weight: bold\">207</span>\n",
       "</pre>\n"
      ],
      "text/plain": [
       "Min: \u001b[1;36m0.0\u001b[0m | Max: \u001b[1;36m3.8000000000000007\u001b[0m | Average: \u001b[1;36m0.3896000000000006\u001b[0m | Iterations: \u001b[1;36m207\u001b[0m\n"
      ]
     },
     "metadata": {},
     "output_type": "display_data"
    },
    {
     "data": {
      "text/html": [
       "<pre style=\"white-space:pre;overflow-x:auto;line-height:normal;font-family:Menlo,'DejaVu Sans Mono',consolas,'Courier New',monospace\">Min: <span style=\"color: #008080; text-decoration-color: #008080; font-weight: bold\">0.0</span> | Max: <span style=\"color: #008080; text-decoration-color: #008080; font-weight: bold\">2.8000000000000007</span> | Average: <span style=\"color: #008080; text-decoration-color: #008080; font-weight: bold\">0.37440000000000045</span> | Iterations: <span style=\"color: #008080; text-decoration-color: #008080; font-weight: bold\">208</span>\n",
       "</pre>\n"
      ],
      "text/plain": [
       "Min: \u001b[1;36m0.0\u001b[0m | Max: \u001b[1;36m2.8000000000000007\u001b[0m | Average: \u001b[1;36m0.37440000000000045\u001b[0m | Iterations: \u001b[1;36m208\u001b[0m\n"
      ]
     },
     "metadata": {},
     "output_type": "display_data"
    },
    {
     "data": {
      "text/html": [
       "<pre style=\"white-space:pre;overflow-x:auto;line-height:normal;font-family:Menlo,'DejaVu Sans Mono',consolas,'Courier New',monospace\">Min: <span style=\"color: #008080; text-decoration-color: #008080; font-weight: bold\">0.0</span> | Max: <span style=\"color: #008080; text-decoration-color: #008080; font-weight: bold\">2.0</span> | Average: <span style=\"color: #008080; text-decoration-color: #008080; font-weight: bold\">0.3384000000000006</span> | Iterations: <span style=\"color: #008080; text-decoration-color: #008080; font-weight: bold\">209</span>\n",
       "</pre>\n"
      ],
      "text/plain": [
       "Min: \u001b[1;36m0.0\u001b[0m | Max: \u001b[1;36m2.0\u001b[0m | Average: \u001b[1;36m0.3384000000000006\u001b[0m | Iterations: \u001b[1;36m209\u001b[0m\n"
      ]
     },
     "metadata": {},
     "output_type": "display_data"
    },
    {
     "data": {
      "text/html": [
       "<pre style=\"white-space:pre;overflow-x:auto;line-height:normal;font-family:Menlo,'DejaVu Sans Mono',consolas,'Courier New',monospace\">Min: <span style=\"color: #008080; text-decoration-color: #008080; font-weight: bold\">0.0</span> | Max: <span style=\"color: #008080; text-decoration-color: #008080; font-weight: bold\">2.6000000000000014</span> | Average: <span style=\"color: #008080; text-decoration-color: #008080; font-weight: bold\">0.3544000000000006</span> | Iterations: <span style=\"color: #008080; text-decoration-color: #008080; font-weight: bold\">210</span>\n",
       "</pre>\n"
      ],
      "text/plain": [
       "Min: \u001b[1;36m0.0\u001b[0m | Max: \u001b[1;36m2.6000000000000014\u001b[0m | Average: \u001b[1;36m0.3544000000000006\u001b[0m | Iterations: \u001b[1;36m210\u001b[0m\n"
      ]
     },
     "metadata": {},
     "output_type": "display_data"
    },
    {
     "data": {
      "text/html": [
       "<pre style=\"white-space:pre;overflow-x:auto;line-height:normal;font-family:Menlo,'DejaVu Sans Mono',consolas,'Courier New',monospace\">Min: <span style=\"color: #008080; text-decoration-color: #008080; font-weight: bold\">0.0</span> | Max: <span style=\"color: #008080; text-decoration-color: #008080; font-weight: bold\">4.4</span> | Average: <span style=\"color: #008080; text-decoration-color: #008080; font-weight: bold\">0.3736000000000007</span> | Iterations: <span style=\"color: #008080; text-decoration-color: #008080; font-weight: bold\">211</span>\n",
       "</pre>\n"
      ],
      "text/plain": [
       "Min: \u001b[1;36m0.0\u001b[0m | Max: \u001b[1;36m4.4\u001b[0m | Average: \u001b[1;36m0.3736000000000007\u001b[0m | Iterations: \u001b[1;36m211\u001b[0m\n"
      ]
     },
     "metadata": {},
     "output_type": "display_data"
    },
    {
     "data": {
      "text/html": [
       "<pre style=\"white-space:pre;overflow-x:auto;line-height:normal;font-family:Menlo,'DejaVu Sans Mono',consolas,'Courier New',monospace\">Min: <span style=\"color: #008080; text-decoration-color: #008080; font-weight: bold\">0.0</span> | Max: <span style=\"color: #008080; text-decoration-color: #008080; font-weight: bold\">2.8000000000000007</span> | Average: <span style=\"color: #008080; text-decoration-color: #008080; font-weight: bold\">0.38240000000000074</span> | Iterations: <span style=\"color: #008080; text-decoration-color: #008080; font-weight: bold\">212</span>\n",
       "</pre>\n"
      ],
      "text/plain": [
       "Min: \u001b[1;36m0.0\u001b[0m | Max: \u001b[1;36m2.8000000000000007\u001b[0m | Average: \u001b[1;36m0.38240000000000074\u001b[0m | Iterations: \u001b[1;36m212\u001b[0m\n"
      ]
     },
     "metadata": {},
     "output_type": "display_data"
    },
    {
     "data": {
      "text/html": [
       "<pre style=\"white-space:pre;overflow-x:auto;line-height:normal;font-family:Menlo,'DejaVu Sans Mono',consolas,'Courier New',monospace\">Min: <span style=\"color: #008080; text-decoration-color: #008080; font-weight: bold\">0.0</span> | Max: <span style=\"color: #008080; text-decoration-color: #008080; font-weight: bold\">2.8000000000000007</span> | Average: <span style=\"color: #008080; text-decoration-color: #008080; font-weight: bold\">0.3624000000000006</span> | Iterations: <span style=\"color: #008080; text-decoration-color: #008080; font-weight: bold\">213</span>\n",
       "</pre>\n"
      ],
      "text/plain": [
       "Min: \u001b[1;36m0.0\u001b[0m | Max: \u001b[1;36m2.8000000000000007\u001b[0m | Average: \u001b[1;36m0.3624000000000006\u001b[0m | Iterations: \u001b[1;36m213\u001b[0m\n"
      ]
     },
     "metadata": {},
     "output_type": "display_data"
    },
    {
     "data": {
      "text/html": [
       "<pre style=\"white-space:pre;overflow-x:auto;line-height:normal;font-family:Menlo,'DejaVu Sans Mono',consolas,'Courier New',monospace\">Min: <span style=\"color: #008080; text-decoration-color: #008080; font-weight: bold\">0.0</span> | Max: <span style=\"color: #008080; text-decoration-color: #008080; font-weight: bold\">2.5999999999999996</span> | Average: <span style=\"color: #008080; text-decoration-color: #008080; font-weight: bold\">0.3360000000000003</span> | Iterations: <span style=\"color: #008080; text-decoration-color: #008080; font-weight: bold\">214</span>\n",
       "</pre>\n"
      ],
      "text/plain": [
       "Min: \u001b[1;36m0.0\u001b[0m | Max: \u001b[1;36m2.5999999999999996\u001b[0m | Average: \u001b[1;36m0.3360000000000003\u001b[0m | Iterations: \u001b[1;36m214\u001b[0m\n"
      ]
     },
     "metadata": {},
     "output_type": "display_data"
    },
    {
     "data": {
      "text/html": [
       "<pre style=\"white-space:pre;overflow-x:auto;line-height:normal;font-family:Menlo,'DejaVu Sans Mono',consolas,'Courier New',monospace\">Min: <span style=\"color: #008080; text-decoration-color: #008080; font-weight: bold\">0.0</span> | Max: <span style=\"color: #008080; text-decoration-color: #008080; font-weight: bold\">2.3999999999999986</span> | Average: <span style=\"color: #008080; text-decoration-color: #008080; font-weight: bold\">0.3664000000000005</span> | Iterations: <span style=\"color: #008080; text-decoration-color: #008080; font-weight: bold\">215</span>\n",
       "</pre>\n"
      ],
      "text/plain": [
       "Min: \u001b[1;36m0.0\u001b[0m | Max: \u001b[1;36m2.3999999999999986\u001b[0m | Average: \u001b[1;36m0.3664000000000005\u001b[0m | Iterations: \u001b[1;36m215\u001b[0m\n"
      ]
     },
     "metadata": {},
     "output_type": "display_data"
    },
    {
     "data": {
      "text/html": [
       "<pre style=\"white-space:pre;overflow-x:auto;line-height:normal;font-family:Menlo,'DejaVu Sans Mono',consolas,'Courier New',monospace\">Min: <span style=\"color: #008080; text-decoration-color: #008080; font-weight: bold\">0.0</span> | Max: <span style=\"color: #008080; text-decoration-color: #008080; font-weight: bold\">3.0</span> | Average: <span style=\"color: #008080; text-decoration-color: #008080; font-weight: bold\">0.3352000000000006</span> | Iterations: <span style=\"color: #008080; text-decoration-color: #008080; font-weight: bold\">216</span>\n",
       "</pre>\n"
      ],
      "text/plain": [
       "Min: \u001b[1;36m0.0\u001b[0m | Max: \u001b[1;36m3.0\u001b[0m | Average: \u001b[1;36m0.3352000000000006\u001b[0m | Iterations: \u001b[1;36m216\u001b[0m\n"
      ]
     },
     "metadata": {},
     "output_type": "display_data"
    },
    {
     "data": {
      "text/html": [
       "<pre style=\"white-space:pre;overflow-x:auto;line-height:normal;font-family:Menlo,'DejaVu Sans Mono',consolas,'Courier New',monospace\">Min: <span style=\"color: #008080; text-decoration-color: #008080; font-weight: bold\">0.0</span> | Max: <span style=\"color: #008080; text-decoration-color: #008080; font-weight: bold\">4.800000000000001</span> | Average: <span style=\"color: #008080; text-decoration-color: #008080; font-weight: bold\">0.36400000000000027</span> | Iterations: <span style=\"color: #008080; text-decoration-color: #008080; font-weight: bold\">217</span>\n",
       "</pre>\n"
      ],
      "text/plain": [
       "Min: \u001b[1;36m0.0\u001b[0m | Max: \u001b[1;36m4.800000000000001\u001b[0m | Average: \u001b[1;36m0.36400000000000027\u001b[0m | Iterations: \u001b[1;36m217\u001b[0m\n"
      ]
     },
     "metadata": {},
     "output_type": "display_data"
    },
    {
     "data": {
      "text/html": [
       "<pre style=\"white-space:pre;overflow-x:auto;line-height:normal;font-family:Menlo,'DejaVu Sans Mono',consolas,'Courier New',monospace\">Min: <span style=\"color: #008080; text-decoration-color: #008080; font-weight: bold\">0.0</span> | Max: <span style=\"color: #008080; text-decoration-color: #008080; font-weight: bold\">2.8000000000000007</span> | Average: <span style=\"color: #008080; text-decoration-color: #008080; font-weight: bold\">0.37360000000000043</span> | Iterations: <span style=\"color: #008080; text-decoration-color: #008080; font-weight: bold\">218</span>\n",
       "</pre>\n"
      ],
      "text/plain": [
       "Min: \u001b[1;36m0.0\u001b[0m | Max: \u001b[1;36m2.8000000000000007\u001b[0m | Average: \u001b[1;36m0.37360000000000043\u001b[0m | Iterations: \u001b[1;36m218\u001b[0m\n"
      ]
     },
     "metadata": {},
     "output_type": "display_data"
    },
    {
     "data": {
      "text/html": [
       "<pre style=\"white-space:pre;overflow-x:auto;line-height:normal;font-family:Menlo,'DejaVu Sans Mono',consolas,'Courier New',monospace\">Min: <span style=\"color: #008080; text-decoration-color: #008080; font-weight: bold\">0.0</span> | Max: <span style=\"color: #008080; text-decoration-color: #008080; font-weight: bold\">3.0</span> | Average: <span style=\"color: #008080; text-decoration-color: #008080; font-weight: bold\">0.39200000000000057</span> | Iterations: <span style=\"color: #008080; text-decoration-color: #008080; font-weight: bold\">219</span>\n",
       "</pre>\n"
      ],
      "text/plain": [
       "Min: \u001b[1;36m0.0\u001b[0m | Max: \u001b[1;36m3.0\u001b[0m | Average: \u001b[1;36m0.39200000000000057\u001b[0m | Iterations: \u001b[1;36m219\u001b[0m\n"
      ]
     },
     "metadata": {},
     "output_type": "display_data"
    },
    {
     "data": {
      "text/html": [
       "<pre style=\"white-space:pre;overflow-x:auto;line-height:normal;font-family:Menlo,'DejaVu Sans Mono',consolas,'Courier New',monospace\">Min: <span style=\"color: #008080; text-decoration-color: #008080; font-weight: bold\">0.0</span> | Max: <span style=\"color: #008080; text-decoration-color: #008080; font-weight: bold\">3.1999999999999993</span> | Average: <span style=\"color: #008080; text-decoration-color: #008080; font-weight: bold\">0.38080000000000064</span> | Iterations: <span style=\"color: #008080; text-decoration-color: #008080; font-weight: bold\">220</span>\n",
       "</pre>\n"
      ],
      "text/plain": [
       "Min: \u001b[1;36m0.0\u001b[0m | Max: \u001b[1;36m3.1999999999999993\u001b[0m | Average: \u001b[1;36m0.38080000000000064\u001b[0m | Iterations: \u001b[1;36m220\u001b[0m\n"
      ]
     },
     "metadata": {},
     "output_type": "display_data"
    },
    {
     "data": {
      "text/html": [
       "<pre style=\"white-space:pre;overflow-x:auto;line-height:normal;font-family:Menlo,'DejaVu Sans Mono',consolas,'Courier New',monospace\">Min: <span style=\"color: #008080; text-decoration-color: #008080; font-weight: bold\">0.0</span> | Max: <span style=\"color: #008080; text-decoration-color: #008080; font-weight: bold\">3.0</span> | Average: <span style=\"color: #008080; text-decoration-color: #008080; font-weight: bold\">0.3592000000000006</span> | Iterations: <span style=\"color: #008080; text-decoration-color: #008080; font-weight: bold\">221</span>\n",
       "</pre>\n"
      ],
      "text/plain": [
       "Min: \u001b[1;36m0.0\u001b[0m | Max: \u001b[1;36m3.0\u001b[0m | Average: \u001b[1;36m0.3592000000000006\u001b[0m | Iterations: \u001b[1;36m221\u001b[0m\n"
      ]
     },
     "metadata": {},
     "output_type": "display_data"
    },
    {
     "data": {
      "text/html": [
       "<pre style=\"white-space:pre;overflow-x:auto;line-height:normal;font-family:Menlo,'DejaVu Sans Mono',consolas,'Courier New',monospace\">Min: <span style=\"color: #008080; text-decoration-color: #008080; font-weight: bold\">0.0</span> | Max: <span style=\"color: #008080; text-decoration-color: #008080; font-weight: bold\">2.8000000000000007</span> | Average: <span style=\"color: #008080; text-decoration-color: #008080; font-weight: bold\">0.44080000000000064</span> | Iterations: <span style=\"color: #008080; text-decoration-color: #008080; font-weight: bold\">222</span>\n",
       "</pre>\n"
      ],
      "text/plain": [
       "Min: \u001b[1;36m0.0\u001b[0m | Max: \u001b[1;36m2.8000000000000007\u001b[0m | Average: \u001b[1;36m0.44080000000000064\u001b[0m | Iterations: \u001b[1;36m222\u001b[0m\n"
      ]
     },
     "metadata": {},
     "output_type": "display_data"
    },
    {
     "data": {
      "text/html": [
       "<pre style=\"white-space:pre;overflow-x:auto;line-height:normal;font-family:Menlo,'DejaVu Sans Mono',consolas,'Courier New',monospace\">Min: <span style=\"color: #008080; text-decoration-color: #008080; font-weight: bold\">0.0</span> | Max: <span style=\"color: #008080; text-decoration-color: #008080; font-weight: bold\">3.0</span> | Average: <span style=\"color: #008080; text-decoration-color: #008080; font-weight: bold\">0.37680000000000063</span> | Iterations: <span style=\"color: #008080; text-decoration-color: #008080; font-weight: bold\">223</span>\n",
       "</pre>\n"
      ],
      "text/plain": [
       "Min: \u001b[1;36m0.0\u001b[0m | Max: \u001b[1;36m3.0\u001b[0m | Average: \u001b[1;36m0.37680000000000063\u001b[0m | Iterations: \u001b[1;36m223\u001b[0m\n"
      ]
     },
     "metadata": {},
     "output_type": "display_data"
    },
    {
     "data": {
      "text/html": [
       "<pre style=\"white-space:pre;overflow-x:auto;line-height:normal;font-family:Menlo,'DejaVu Sans Mono',consolas,'Courier New',monospace\">Min: <span style=\"color: #008080; text-decoration-color: #008080; font-weight: bold\">0.0</span> | Max: <span style=\"color: #008080; text-decoration-color: #008080; font-weight: bold\">3.3999999999999986</span> | Average: <span style=\"color: #008080; text-decoration-color: #008080; font-weight: bold\">0.36000000000000043</span> | Iterations: <span style=\"color: #008080; text-decoration-color: #008080; font-weight: bold\">224</span>\n",
       "</pre>\n"
      ],
      "text/plain": [
       "Min: \u001b[1;36m0.0\u001b[0m | Max: \u001b[1;36m3.3999999999999986\u001b[0m | Average: \u001b[1;36m0.36000000000000043\u001b[0m | Iterations: \u001b[1;36m224\u001b[0m\n"
      ]
     },
     "metadata": {},
     "output_type": "display_data"
    },
    {
     "data": {
      "text/html": [
       "<pre style=\"white-space:pre;overflow-x:auto;line-height:normal;font-family:Menlo,'DejaVu Sans Mono',consolas,'Courier New',monospace\">Min: <span style=\"color: #008080; text-decoration-color: #008080; font-weight: bold\">0.0</span> | Max: <span style=\"color: #008080; text-decoration-color: #008080; font-weight: bold\">4.0</span> | Average: <span style=\"color: #008080; text-decoration-color: #008080; font-weight: bold\">0.4376000000000003</span> | Iterations: <span style=\"color: #008080; text-decoration-color: #008080; font-weight: bold\">225</span>\n",
       "</pre>\n"
      ],
      "text/plain": [
       "Min: \u001b[1;36m0.0\u001b[0m | Max: \u001b[1;36m4.0\u001b[0m | Average: \u001b[1;36m0.4376000000000003\u001b[0m | Iterations: \u001b[1;36m225\u001b[0m\n"
      ]
     },
     "metadata": {},
     "output_type": "display_data"
    },
    {
     "data": {
      "text/html": [
       "<pre style=\"white-space:pre;overflow-x:auto;line-height:normal;font-family:Menlo,'DejaVu Sans Mono',consolas,'Courier New',monospace\">Min: <span style=\"color: #008080; text-decoration-color: #008080; font-weight: bold\">0.0</span> | Max: <span style=\"color: #008080; text-decoration-color: #008080; font-weight: bold\">3.1999999999999993</span> | Average: <span style=\"color: #008080; text-decoration-color: #008080; font-weight: bold\">0.3648000000000007</span> | Iterations: <span style=\"color: #008080; text-decoration-color: #008080; font-weight: bold\">226</span>\n",
       "</pre>\n"
      ],
      "text/plain": [
       "Min: \u001b[1;36m0.0\u001b[0m | Max: \u001b[1;36m3.1999999999999993\u001b[0m | Average: \u001b[1;36m0.3648000000000007\u001b[0m | Iterations: \u001b[1;36m226\u001b[0m\n"
      ]
     },
     "metadata": {},
     "output_type": "display_data"
    },
    {
     "data": {
      "text/html": [
       "<pre style=\"white-space:pre;overflow-x:auto;line-height:normal;font-family:Menlo,'DejaVu Sans Mono',consolas,'Courier New',monospace\">Min: <span style=\"color: #008080; text-decoration-color: #008080; font-weight: bold\">0.0</span> | Max: <span style=\"color: #008080; text-decoration-color: #008080; font-weight: bold\">3.4000000000000004</span> | Average: <span style=\"color: #008080; text-decoration-color: #008080; font-weight: bold\">0.3808000000000004</span> | Iterations: <span style=\"color: #008080; text-decoration-color: #008080; font-weight: bold\">227</span>\n",
       "</pre>\n"
      ],
      "text/plain": [
       "Min: \u001b[1;36m0.0\u001b[0m | Max: \u001b[1;36m3.4000000000000004\u001b[0m | Average: \u001b[1;36m0.3808000000000004\u001b[0m | Iterations: \u001b[1;36m227\u001b[0m\n"
      ]
     },
     "metadata": {},
     "output_type": "display_data"
    },
    {
     "data": {
      "text/html": [
       "<pre style=\"white-space:pre;overflow-x:auto;line-height:normal;font-family:Menlo,'DejaVu Sans Mono',consolas,'Courier New',monospace\">Min: <span style=\"color: #008080; text-decoration-color: #008080; font-weight: bold\">0.0</span> | Max: <span style=\"color: #008080; text-decoration-color: #008080; font-weight: bold\">3.0</span> | Average: <span style=\"color: #008080; text-decoration-color: #008080; font-weight: bold\">0.39280000000000054</span> | Iterations: <span style=\"color: #008080; text-decoration-color: #008080; font-weight: bold\">228</span>\n",
       "</pre>\n"
      ],
      "text/plain": [
       "Min: \u001b[1;36m0.0\u001b[0m | Max: \u001b[1;36m3.0\u001b[0m | Average: \u001b[1;36m0.39280000000000054\u001b[0m | Iterations: \u001b[1;36m228\u001b[0m\n"
      ]
     },
     "metadata": {},
     "output_type": "display_data"
    },
    {
     "data": {
      "text/html": [
       "<pre style=\"white-space:pre;overflow-x:auto;line-height:normal;font-family:Menlo,'DejaVu Sans Mono',consolas,'Courier New',monospace\">Min: <span style=\"color: #008080; text-decoration-color: #008080; font-weight: bold\">0.0</span> | Max: <span style=\"color: #008080; text-decoration-color: #008080; font-weight: bold\">4.600000000000001</span> | Average: <span style=\"color: #008080; text-decoration-color: #008080; font-weight: bold\">0.3848000000000005</span> | Iterations: <span style=\"color: #008080; text-decoration-color: #008080; font-weight: bold\">229</span>\n",
       "</pre>\n"
      ],
      "text/plain": [
       "Min: \u001b[1;36m0.0\u001b[0m | Max: \u001b[1;36m4.600000000000001\u001b[0m | Average: \u001b[1;36m0.3848000000000005\u001b[0m | Iterations: \u001b[1;36m229\u001b[0m\n"
      ]
     },
     "metadata": {},
     "output_type": "display_data"
    },
    {
     "data": {
      "text/html": [
       "<pre style=\"white-space:pre;overflow-x:auto;line-height:normal;font-family:Menlo,'DejaVu Sans Mono',consolas,'Courier New',monospace\">Min: <span style=\"color: #008080; text-decoration-color: #008080; font-weight: bold\">0.0</span> | Max: <span style=\"color: #008080; text-decoration-color: #008080; font-weight: bold\">2.3999999999999986</span> | Average: <span style=\"color: #008080; text-decoration-color: #008080; font-weight: bold\">0.3264000000000004</span> | Iterations: <span style=\"color: #008080; text-decoration-color: #008080; font-weight: bold\">230</span>\n",
       "</pre>\n"
      ],
      "text/plain": [
       "Min: \u001b[1;36m0.0\u001b[0m | Max: \u001b[1;36m2.3999999999999986\u001b[0m | Average: \u001b[1;36m0.3264000000000004\u001b[0m | Iterations: \u001b[1;36m230\u001b[0m\n"
      ]
     },
     "metadata": {},
     "output_type": "display_data"
    },
    {
     "data": {
      "text/html": [
       "<pre style=\"white-space:pre;overflow-x:auto;line-height:normal;font-family:Menlo,'DejaVu Sans Mono',consolas,'Courier New',monospace\">Min: <span style=\"color: #008080; text-decoration-color: #008080; font-weight: bold\">0.0</span> | Max: <span style=\"color: #008080; text-decoration-color: #008080; font-weight: bold\">2.3999999999999986</span> | Average: <span style=\"color: #008080; text-decoration-color: #008080; font-weight: bold\">0.3336000000000004</span> | Iterations: <span style=\"color: #008080; text-decoration-color: #008080; font-weight: bold\">231</span>\n",
       "</pre>\n"
      ],
      "text/plain": [
       "Min: \u001b[1;36m0.0\u001b[0m | Max: \u001b[1;36m2.3999999999999986\u001b[0m | Average: \u001b[1;36m0.3336000000000004\u001b[0m | Iterations: \u001b[1;36m231\u001b[0m\n"
      ]
     },
     "metadata": {},
     "output_type": "display_data"
    },
    {
     "data": {
      "text/html": [
       "<pre style=\"white-space:pre;overflow-x:auto;line-height:normal;font-family:Menlo,'DejaVu Sans Mono',consolas,'Courier New',monospace\">Min: <span style=\"color: #008080; text-decoration-color: #008080; font-weight: bold\">0.0</span> | Max: <span style=\"color: #008080; text-decoration-color: #008080; font-weight: bold\">2.0</span> | Average: <span style=\"color: #008080; text-decoration-color: #008080; font-weight: bold\">0.36880000000000046</span> | Iterations: <span style=\"color: #008080; text-decoration-color: #008080; font-weight: bold\">232</span>\n",
       "</pre>\n"
      ],
      "text/plain": [
       "Min: \u001b[1;36m0.0\u001b[0m | Max: \u001b[1;36m2.0\u001b[0m | Average: \u001b[1;36m0.36880000000000046\u001b[0m | Iterations: \u001b[1;36m232\u001b[0m\n"
      ]
     },
     "metadata": {},
     "output_type": "display_data"
    },
    {
     "data": {
      "text/html": [
       "<pre style=\"white-space:pre;overflow-x:auto;line-height:normal;font-family:Menlo,'DejaVu Sans Mono',consolas,'Courier New',monospace\">Min: <span style=\"color: #008080; text-decoration-color: #008080; font-weight: bold\">0.0</span> | Max: <span style=\"color: #008080; text-decoration-color: #008080; font-weight: bold\">2.8000000000000007</span> | Average: <span style=\"color: #008080; text-decoration-color: #008080; font-weight: bold\">0.39440000000000064</span> | Iterations: <span style=\"color: #008080; text-decoration-color: #008080; font-weight: bold\">233</span>\n",
       "</pre>\n"
      ],
      "text/plain": [
       "Min: \u001b[1;36m0.0\u001b[0m | Max: \u001b[1;36m2.8000000000000007\u001b[0m | Average: \u001b[1;36m0.39440000000000064\u001b[0m | Iterations: \u001b[1;36m233\u001b[0m\n"
      ]
     },
     "metadata": {},
     "output_type": "display_data"
    },
    {
     "data": {
      "text/html": [
       "<pre style=\"white-space:pre;overflow-x:auto;line-height:normal;font-family:Menlo,'DejaVu Sans Mono',consolas,'Courier New',monospace\">Min: <span style=\"color: #008080; text-decoration-color: #008080; font-weight: bold\">0.0</span> | Max: <span style=\"color: #008080; text-decoration-color: #008080; font-weight: bold\">2.6000000000000014</span> | Average: <span style=\"color: #008080; text-decoration-color: #008080; font-weight: bold\">0.3784000000000007</span> | Iterations: <span style=\"color: #008080; text-decoration-color: #008080; font-weight: bold\">234</span>\n",
       "</pre>\n"
      ],
      "text/plain": [
       "Min: \u001b[1;36m0.0\u001b[0m | Max: \u001b[1;36m2.6000000000000014\u001b[0m | Average: \u001b[1;36m0.3784000000000007\u001b[0m | Iterations: \u001b[1;36m234\u001b[0m\n"
      ]
     },
     "metadata": {},
     "output_type": "display_data"
    },
    {
     "data": {
      "text/html": [
       "<pre style=\"white-space:pre;overflow-x:auto;line-height:normal;font-family:Menlo,'DejaVu Sans Mono',consolas,'Courier New',monospace\">Min: <span style=\"color: #008080; text-decoration-color: #008080; font-weight: bold\">0.0</span> | Max: <span style=\"color: #008080; text-decoration-color: #008080; font-weight: bold\">3.8000000000000007</span> | Average: <span style=\"color: #008080; text-decoration-color: #008080; font-weight: bold\">0.3672000000000008</span> | Iterations: <span style=\"color: #008080; text-decoration-color: #008080; font-weight: bold\">235</span>\n",
       "</pre>\n"
      ],
      "text/plain": [
       "Min: \u001b[1;36m0.0\u001b[0m | Max: \u001b[1;36m3.8000000000000007\u001b[0m | Average: \u001b[1;36m0.3672000000000008\u001b[0m | Iterations: \u001b[1;36m235\u001b[0m\n"
      ]
     },
     "metadata": {},
     "output_type": "display_data"
    },
    {
     "data": {
      "text/html": [
       "<pre style=\"white-space:pre;overflow-x:auto;line-height:normal;font-family:Menlo,'DejaVu Sans Mono',consolas,'Courier New',monospace\">Min: <span style=\"color: #008080; text-decoration-color: #008080; font-weight: bold\">0.0</span> | Max: <span style=\"color: #008080; text-decoration-color: #008080; font-weight: bold\">2.5999999999999996</span> | Average: <span style=\"color: #008080; text-decoration-color: #008080; font-weight: bold\">0.37280000000000035</span> | Iterations: <span style=\"color: #008080; text-decoration-color: #008080; font-weight: bold\">236</span>\n",
       "</pre>\n"
      ],
      "text/plain": [
       "Min: \u001b[1;36m0.0\u001b[0m | Max: \u001b[1;36m2.5999999999999996\u001b[0m | Average: \u001b[1;36m0.37280000000000035\u001b[0m | Iterations: \u001b[1;36m236\u001b[0m\n"
      ]
     },
     "metadata": {},
     "output_type": "display_data"
    },
    {
     "data": {
      "text/html": [
       "<pre style=\"white-space:pre;overflow-x:auto;line-height:normal;font-family:Menlo,'DejaVu Sans Mono',consolas,'Courier New',monospace\">Min: <span style=\"color: #008080; text-decoration-color: #008080; font-weight: bold\">0.0</span> | Max: <span style=\"color: #008080; text-decoration-color: #008080; font-weight: bold\">3.8000000000000007</span> | Average: <span style=\"color: #008080; text-decoration-color: #008080; font-weight: bold\">0.41200000000000064</span> | Iterations: <span style=\"color: #008080; text-decoration-color: #008080; font-weight: bold\">237</span>\n",
       "</pre>\n"
      ],
      "text/plain": [
       "Min: \u001b[1;36m0.0\u001b[0m | Max: \u001b[1;36m3.8000000000000007\u001b[0m | Average: \u001b[1;36m0.41200000000000064\u001b[0m | Iterations: \u001b[1;36m237\u001b[0m\n"
      ]
     },
     "metadata": {},
     "output_type": "display_data"
    },
    {
     "data": {
      "text/html": [
       "<pre style=\"white-space:pre;overflow-x:auto;line-height:normal;font-family:Menlo,'DejaVu Sans Mono',consolas,'Courier New',monospace\">Min: <span style=\"color: #008080; text-decoration-color: #008080; font-weight: bold\">0.0</span> | Max: <span style=\"color: #008080; text-decoration-color: #008080; font-weight: bold\">2.6000000000000014</span> | Average: <span style=\"color: #008080; text-decoration-color: #008080; font-weight: bold\">0.3632000000000006</span> | Iterations: <span style=\"color: #008080; text-decoration-color: #008080; font-weight: bold\">238</span>\n",
       "</pre>\n"
      ],
      "text/plain": [
       "Min: \u001b[1;36m0.0\u001b[0m | Max: \u001b[1;36m2.6000000000000014\u001b[0m | Average: \u001b[1;36m0.3632000000000006\u001b[0m | Iterations: \u001b[1;36m238\u001b[0m\n"
      ]
     },
     "metadata": {},
     "output_type": "display_data"
    },
    {
     "data": {
      "text/html": [
       "<pre style=\"white-space:pre;overflow-x:auto;line-height:normal;font-family:Menlo,'DejaVu Sans Mono',consolas,'Courier New',monospace\">Min: <span style=\"color: #008080; text-decoration-color: #008080; font-weight: bold\">0.0</span> | Max: <span style=\"color: #008080; text-decoration-color: #008080; font-weight: bold\">3.400000000000002</span> | Average: <span style=\"color: #008080; text-decoration-color: #008080; font-weight: bold\">0.38640000000000063</span> | Iterations: <span style=\"color: #008080; text-decoration-color: #008080; font-weight: bold\">239</span>\n",
       "</pre>\n"
      ],
      "text/plain": [
       "Min: \u001b[1;36m0.0\u001b[0m | Max: \u001b[1;36m3.400000000000002\u001b[0m | Average: \u001b[1;36m0.38640000000000063\u001b[0m | Iterations: \u001b[1;36m239\u001b[0m\n"
      ]
     },
     "metadata": {},
     "output_type": "display_data"
    },
    {
     "data": {
      "text/html": [
       "<pre style=\"white-space:pre;overflow-x:auto;line-height:normal;font-family:Menlo,'DejaVu Sans Mono',consolas,'Courier New',monospace\">Min: <span style=\"color: #008080; text-decoration-color: #008080; font-weight: bold\">0.0</span> | Max: <span style=\"color: #008080; text-decoration-color: #008080; font-weight: bold\">3.599999999999998</span> | Average: <span style=\"color: #008080; text-decoration-color: #008080; font-weight: bold\">0.39040000000000075</span> | Iterations: <span style=\"color: #008080; text-decoration-color: #008080; font-weight: bold\">240</span>\n",
       "</pre>\n"
      ],
      "text/plain": [
       "Min: \u001b[1;36m0.0\u001b[0m | Max: \u001b[1;36m3.599999999999998\u001b[0m | Average: \u001b[1;36m0.39040000000000075\u001b[0m | Iterations: \u001b[1;36m240\u001b[0m\n"
      ]
     },
     "metadata": {},
     "output_type": "display_data"
    },
    {
     "data": {
      "text/html": [
       "<pre style=\"white-space:pre;overflow-x:auto;line-height:normal;font-family:Menlo,'DejaVu Sans Mono',consolas,'Courier New',monospace\">Min: <span style=\"color: #008080; text-decoration-color: #008080; font-weight: bold\">0.0</span> | Max: <span style=\"color: #008080; text-decoration-color: #008080; font-weight: bold\">3.3999999999999986</span> | Average: <span style=\"color: #008080; text-decoration-color: #008080; font-weight: bold\">0.41040000000000015</span> | Iterations: <span style=\"color: #008080; text-decoration-color: #008080; font-weight: bold\">241</span>\n",
       "</pre>\n"
      ],
      "text/plain": [
       "Min: \u001b[1;36m0.0\u001b[0m | Max: \u001b[1;36m3.3999999999999986\u001b[0m | Average: \u001b[1;36m0.41040000000000015\u001b[0m | Iterations: \u001b[1;36m241\u001b[0m\n"
      ]
     },
     "metadata": {},
     "output_type": "display_data"
    },
    {
     "data": {
      "text/html": [
       "<pre style=\"white-space:pre;overflow-x:auto;line-height:normal;font-family:Menlo,'DejaVu Sans Mono',consolas,'Courier New',monospace\">Min: <span style=\"color: #008080; text-decoration-color: #008080; font-weight: bold\">0.0</span> | Max: <span style=\"color: #008080; text-decoration-color: #008080; font-weight: bold\">2.799999999999997</span> | Average: <span style=\"color: #008080; text-decoration-color: #008080; font-weight: bold\">0.38000000000000045</span> | Iterations: <span style=\"color: #008080; text-decoration-color: #008080; font-weight: bold\">242</span>\n",
       "</pre>\n"
      ],
      "text/plain": [
       "Min: \u001b[1;36m0.0\u001b[0m | Max: \u001b[1;36m2.799999999999997\u001b[0m | Average: \u001b[1;36m0.38000000000000045\u001b[0m | Iterations: \u001b[1;36m242\u001b[0m\n"
      ]
     },
     "metadata": {},
     "output_type": "display_data"
    },
    {
     "data": {
      "text/html": [
       "<pre style=\"white-space:pre;overflow-x:auto;line-height:normal;font-family:Menlo,'DejaVu Sans Mono',consolas,'Courier New',monospace\">Min: <span style=\"color: #008080; text-decoration-color: #008080; font-weight: bold\">0.0</span> | Max: <span style=\"color: #008080; text-decoration-color: #008080; font-weight: bold\">3.200000000000001</span> | Average: <span style=\"color: #008080; text-decoration-color: #008080; font-weight: bold\">0.3808000000000008</span> | Iterations: <span style=\"color: #008080; text-decoration-color: #008080; font-weight: bold\">243</span>\n",
       "</pre>\n"
      ],
      "text/plain": [
       "Min: \u001b[1;36m0.0\u001b[0m | Max: \u001b[1;36m3.200000000000001\u001b[0m | Average: \u001b[1;36m0.3808000000000008\u001b[0m | Iterations: \u001b[1;36m243\u001b[0m\n"
      ]
     },
     "metadata": {},
     "output_type": "display_data"
    },
    {
     "data": {
      "text/html": [
       "<pre style=\"white-space:pre;overflow-x:auto;line-height:normal;font-family:Menlo,'DejaVu Sans Mono',consolas,'Courier New',monospace\">Min: <span style=\"color: #008080; text-decoration-color: #008080; font-weight: bold\">0.0</span> | Max: <span style=\"color: #008080; text-decoration-color: #008080; font-weight: bold\">3.400000000000002</span> | Average: <span style=\"color: #008080; text-decoration-color: #008080; font-weight: bold\">0.3760000000000008</span> | Iterations: <span style=\"color: #008080; text-decoration-color: #008080; font-weight: bold\">244</span>\n",
       "</pre>\n"
      ],
      "text/plain": [
       "Min: \u001b[1;36m0.0\u001b[0m | Max: \u001b[1;36m3.400000000000002\u001b[0m | Average: \u001b[1;36m0.3760000000000008\u001b[0m | Iterations: \u001b[1;36m244\u001b[0m\n"
      ]
     },
     "metadata": {},
     "output_type": "display_data"
    },
    {
     "data": {
      "text/html": [
       "<pre style=\"white-space:pre;overflow-x:auto;line-height:normal;font-family:Menlo,'DejaVu Sans Mono',consolas,'Courier New',monospace\">Min: <span style=\"color: #008080; text-decoration-color: #008080; font-weight: bold\">0.0</span> | Max: <span style=\"color: #008080; text-decoration-color: #008080; font-weight: bold\">3.1999999999999993</span> | Average: <span style=\"color: #008080; text-decoration-color: #008080; font-weight: bold\">0.3736000000000005</span> | Iterations: <span style=\"color: #008080; text-decoration-color: #008080; font-weight: bold\">245</span>\n",
       "</pre>\n"
      ],
      "text/plain": [
       "Min: \u001b[1;36m0.0\u001b[0m | Max: \u001b[1;36m3.1999999999999993\u001b[0m | Average: \u001b[1;36m0.3736000000000005\u001b[0m | Iterations: \u001b[1;36m245\u001b[0m\n"
      ]
     },
     "metadata": {},
     "output_type": "display_data"
    },
    {
     "data": {
      "text/html": [
       "<pre style=\"white-space:pre;overflow-x:auto;line-height:normal;font-family:Menlo,'DejaVu Sans Mono',consolas,'Courier New',monospace\">Min: <span style=\"color: #008080; text-decoration-color: #008080; font-weight: bold\">0.0</span> | Max: <span style=\"color: #008080; text-decoration-color: #008080; font-weight: bold\">2.3999999999999986</span> | Average: <span style=\"color: #008080; text-decoration-color: #008080; font-weight: bold\">0.3608000000000003</span> | Iterations: <span style=\"color: #008080; text-decoration-color: #008080; font-weight: bold\">246</span>\n",
       "</pre>\n"
      ],
      "text/plain": [
       "Min: \u001b[1;36m0.0\u001b[0m | Max: \u001b[1;36m2.3999999999999986\u001b[0m | Average: \u001b[1;36m0.3608000000000003\u001b[0m | Iterations: \u001b[1;36m246\u001b[0m\n"
      ]
     },
     "metadata": {},
     "output_type": "display_data"
    },
    {
     "data": {
      "text/html": [
       "<pre style=\"white-space:pre;overflow-x:auto;line-height:normal;font-family:Menlo,'DejaVu Sans Mono',consolas,'Courier New',monospace\">Min: <span style=\"color: #008080; text-decoration-color: #008080; font-weight: bold\">0.0</span> | Max: <span style=\"color: #008080; text-decoration-color: #008080; font-weight: bold\">2.6000000000000014</span> | Average: <span style=\"color: #008080; text-decoration-color: #008080; font-weight: bold\">0.34080000000000066</span> | Iterations: <span style=\"color: #008080; text-decoration-color: #008080; font-weight: bold\">247</span>\n",
       "</pre>\n"
      ],
      "text/plain": [
       "Min: \u001b[1;36m0.0\u001b[0m | Max: \u001b[1;36m2.6000000000000014\u001b[0m | Average: \u001b[1;36m0.34080000000000066\u001b[0m | Iterations: \u001b[1;36m247\u001b[0m\n"
      ]
     },
     "metadata": {},
     "output_type": "display_data"
    },
    {
     "data": {
      "text/html": [
       "<pre style=\"white-space:pre;overflow-x:auto;line-height:normal;font-family:Menlo,'DejaVu Sans Mono',consolas,'Courier New',monospace\">Min: <span style=\"color: #008080; text-decoration-color: #008080; font-weight: bold\">0.0</span> | Max: <span style=\"color: #008080; text-decoration-color: #008080; font-weight: bold\">2.1999999999999993</span> | Average: <span style=\"color: #008080; text-decoration-color: #008080; font-weight: bold\">0.3544000000000006</span> | Iterations: <span style=\"color: #008080; text-decoration-color: #008080; font-weight: bold\">248</span>\n",
       "</pre>\n"
      ],
      "text/plain": [
       "Min: \u001b[1;36m0.0\u001b[0m | Max: \u001b[1;36m2.1999999999999993\u001b[0m | Average: \u001b[1;36m0.3544000000000006\u001b[0m | Iterations: \u001b[1;36m248\u001b[0m\n"
      ]
     },
     "metadata": {},
     "output_type": "display_data"
    },
    {
     "data": {
      "text/html": [
       "<pre style=\"white-space:pre;overflow-x:auto;line-height:normal;font-family:Menlo,'DejaVu Sans Mono',consolas,'Courier New',monospace\">Min: <span style=\"color: #008080; text-decoration-color: #008080; font-weight: bold\">0.0</span> | Max: <span style=\"color: #008080; text-decoration-color: #008080; font-weight: bold\">2.8000000000000007</span> | Average: <span style=\"color: #008080; text-decoration-color: #008080; font-weight: bold\">0.3592000000000003</span> | Iterations: <span style=\"color: #008080; text-decoration-color: #008080; font-weight: bold\">249</span>\n",
       "</pre>\n"
      ],
      "text/plain": [
       "Min: \u001b[1;36m0.0\u001b[0m | Max: \u001b[1;36m2.8000000000000007\u001b[0m | Average: \u001b[1;36m0.3592000000000003\u001b[0m | Iterations: \u001b[1;36m249\u001b[0m\n"
      ]
     },
     "metadata": {},
     "output_type": "display_data"
    }
   ],
   "source": [
    "from util.models.team import OverwatchTeam, shuffle, mean_delta, shuffle_rank_weights, balance_teams\n",
    "from util.models.player import Player\n",
    "from util.models.role import Role\n",
    "from util.models.rank import OverwatchRank\n",
    "import random\n",
    "from rich import print\n",
    "import matplotlib.pyplot as plt\n",
    "\n",
    "def create_random_players(si: int, ei: int):\n",
    "    for i in range(si, ei):\n",
    "        rank = OverwatchRank(random.randint(1, 36))\n",
    "\n",
    "        # if i % 3 == 0:\n",
    "        #     rank = OverwatchRank(random.randint(1, 10))\n",
    "        # else:\n",
    "        #     rank = OverwatchRank(random.randint(15, 35))\n",
    "        \n",
    "        role = Role(random.randint(1, 3))\n",
    "        yield Player(user=f\"Player {i}\", rank=rank, role=role, total_games=0)\n",
    "\n",
    "\n",
    "\n",
    "def show(team1: OverwatchTeam, team2: OverwatchTeam):\n",
    "    delta = mean_delta(team1, team2)\n",
    "    t1delta = team1.rank_mean()\n",
    "    t2delta = team2.rank_mean()\n",
    "    team1, team2 = sorted(list(team1), key=lambda x:x.role.value ), sorted(list(team2), key=lambda x:x.role.value )\n",
    "    for p1, p2 in zip(team1, team2):\n",
    "        print(f\"{p1.user} {p1.role} {p1.rank.name} | {p2.user} {p2.role} {p2.rank.name}\")\n",
    "    print(f\"Team 1: {t1delta} | Team 2: {t2delta}\")\n",
    "    print(delta)\n",
    "\n",
    "data_results: list[dict] = list()\n",
    "all_data = list()\n",
    "\n",
    "for iter_length in range(1, 250):\n",
    "    results = list()\n",
    "\n",
    "    for i in range(250):\n",
    "        team1 = OverwatchTeam(\"Team 1\")\n",
    "        team2 = OverwatchTeam(\"Team 2\")\n",
    "        t1p = list(create_random_players(0, 50))\n",
    "        t2p = list(create_random_players(55, 100))\n",
    "\n",
    "        for player in t1p:\n",
    "            team1.add(player)\n",
    "\n",
    "        for player in t2p:\n",
    "            team2.add(player)\n",
    "\n",
    "        balance_teams(team1, team2, iter_length)\n",
    "        results.append(mean_delta(team1, team2))\n",
    "\n",
    "    min_ = min(results)\n",
    "    max_ = max(results)\n",
    "    average = sum(results) / len(results)\n",
    "    data_results.append({\"min\": min_, \"max\": max_, \"average\": average, \"iterations\": iter_length})\n",
    "    print(f\"Min: {min_} | Max: {max_} | Average: {average} | Iterations: {iter_length}\")\n",
    "    all_data.extend(results)\n",
    "\n",
    "min_values = [d[\"min\"] for d in data_results]\n",
    "max_values = [d[\"max\"] for d in data_results]\n",
    "average_values = [d[\"average\"] for d in data_results]\n",
    "iterations = [d[\"iterations\"] for d in data_results]"
   ]
  },
  {
   "cell_type": "code",
   "execution_count": 3,
   "metadata": {},
   "outputs": [
    {
     "data": {
      "image/png": "[encoded data removed]",
      "text/plain": [
       "<Figure size 640x480 with 1 Axes>"
      ]
     },
     "metadata": {},
     "output_type": "display_data"
    }
   ],
   "source": [
    "fig, ax = plt.subplots()\n",
    "ax.plot(iterations, min_values, label=\"Min\")\n",
    "ax.plot(iterations, max_values, label=\"Max\")\n",
    "ax.plot(iterations, average_values, label=\"Average\")\n",
    "ax.set_xlabel(\"Iterations\")\n",
    "ax.set_ylabel(\"Delta\")\n",
    "ax.set_title(\"Delta vs Iterations\")\n",
    "ax.legend()\n",
    "plt.show()"
   ]
  },
  {
   "cell_type": "code",
   "execution_count": 4,
   "metadata": {},
   "outputs": [],
   "source": [
    "import numpy as np\n",
    "buckets = np.arange(0, 5.1, 0.1)\n",
    "p = sorted([round(a, 2)for a in all_data])\n",
    "\n",
    "counts, _ = np.histogram(p, bins=buckets)\n"
   ]
  },
  {
   "cell_type": "code",
   "execution_count": 5,
   "metadata": {},
   "outputs": [
    {
     "data": {
      "image/png": "[encoded data removed]",
      "text/plain": [
       "<Figure size 640x480 with 1 Axes>"
      ]
     },
     "metadata": {},
     "output_type": "display_data"
    }
   ],
   "source": [
    "fig, ax = plt.subplots()\n",
    "\n",
    "ax.bar(buckets[:-1], counts, color=['red', 'green', 'blue', 'orange', 'purple', 'yellow', 'pink', 'gray', 'brown', 'cyan']\n",
    ")\n",
    "ax.set_xlabel(\"Delta\")\n",
    "ax.set_ylabel(\"Count\")\n",
    "ax.set_title(\"Delta Distribution\")\n",
    "plt.show()"
   ]
  }
 ],
 "metadata": {
  "kernelspec": {
   "display_name": "matchmaker-LtNNNPdv-py3.11",
   "language": "python",
   "name": "python3"
  },
  "language_info": {
   "codemirror_mode": {
    "name": "ipython",
    "version": 3
   },
   "file_extension": ".py",
   "mimetype": "text/x-python",
   "name": "python",
   "nbconvert_exporter": "python",
   "pygments_lexer": "ipython3",
   "version": "3.11.0"
  },
  "orig_nbformat": 4
 },
 "nbformat": 4,
 "nbformat_minor": 2
}
