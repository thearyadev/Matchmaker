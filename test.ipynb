{
 "cells": [
  {
   "cell_type": "code",
   "execution_count": 41,
   "metadata": {},
   "outputs": [],
   "source": [
    "from util.models.team import Team, shuffle, mean_delta\n",
    "from util.models.player import Player\n",
    "from util.models.role import Role\n",
    "from util.models.rank import OverwatchRank\n",
    "import random\n",
    "from rich import print\n",
    "\n"
   ]
  },
  {
   "cell_type": "code",
   "execution_count": 2,
   "metadata": {},
   "outputs": [],
   "source": [
    "\n",
    "def create_random_players(si: int, ei: int):\n",
    "    for i in range(si, ei):\n",
    "        rank = OverwatchRank(random.randint(1, 35))\n",
    "        role = Role(random.randint(1, 3))\n",
    "        yield Player(user=f\"Player {i}\", rank=rank, role=role, total_games=0)\n",
    "\n",
    "\n"
   ]
  },
  {
   "cell_type": "code",
   "execution_count": 3,
   "metadata": {},
   "outputs": [],
   "source": [
    "team1 = Team(\"Team 1\")\n",
    "team2 = Team(\"Team 2\")\n",
    "t1p = list(create_random_players(0, 50))\n",
    "t2p = list(create_random_players(55, 100))\n",
    "\n",
    "for player in t1p:\n",
    "    team1.add(player)\n",
    "\n",
    "for player in t2p:\n",
    "    team2.add(player)"
   ]
  },
  {
   "cell_type": "code",
   "execution_count": 42,
   "metadata": {},
   "outputs": [],
   "source": [
    "def show(team1, team2):\n",
    "    delta = mean_delta(team1, team2)\n",
    "    team1, team2 = sorted(list(team1), key=lambda x:x.role.value ), sorted(list(team2), key=lambda x:x.role.value )\n",
    "    for p1, p2 in zip(team1, team2):\n",
    "        print(f\"{p1.user} {p1.role} | {p2.user} {p2.role}\")\n",
    "    print(delta)\n",
    "    "
   ]
  },
  {
   "cell_type": "code",
   "execution_count": 66,
   "metadata": {},
   "outputs": [
    {
     "data": {
      "text/html": [
       "<pre style=\"white-space:pre;overflow-x:auto;line-height:normal;font-family:Menlo,'DejaVu Sans Mono',consolas,'Courier New',monospace\">Player <span style=\"color: #008080; text-decoration-color: #008080; font-weight: bold\">5</span> Role.DAMAGE | Player <span style=\"color: #008080; text-decoration-color: #008080; font-weight: bold\">4</span> Role.DAMAGE\n",
       "</pre>\n"
      ],
      "text/plain": [
       "Player \u001b[1;36m5\u001b[0m Role.DAMAGE | Player \u001b[1;36m4\u001b[0m Role.DAMAGE\n"
      ]
     },
     "metadata": {},
     "output_type": "display_data"
    },
    {
     "data": {
      "text/html": [
       "<pre style=\"white-space:pre;overflow-x:auto;line-height:normal;font-family:Menlo,'DejaVu Sans Mono',consolas,'Courier New',monospace\">Player <span style=\"color: #008080; text-decoration-color: #008080; font-weight: bold\">61</span> Role.DAMAGE | Player <span style=\"color: #008080; text-decoration-color: #008080; font-weight: bold\">59</span> Role.DAMAGE\n",
       "</pre>\n"
      ],
      "text/plain": [
       "Player \u001b[1;36m61\u001b[0m Role.DAMAGE | Player \u001b[1;36m59\u001b[0m Role.DAMAGE\n"
      ]
     },
     "metadata": {},
     "output_type": "display_data"
    },
    {
     "data": {
      "text/html": [
       "<pre style=\"white-space:pre;overflow-x:auto;line-height:normal;font-family:Menlo,'DejaVu Sans Mono',consolas,'Courier New',monospace\">Player <span style=\"color: #008080; text-decoration-color: #008080; font-weight: bold\">55</span> Role.TANK | Player <span style=\"color: #008080; text-decoration-color: #008080; font-weight: bold\">2</span> Role.TANK\n",
       "</pre>\n"
      ],
      "text/plain": [
       "Player \u001b[1;36m55\u001b[0m Role.TANK | Player \u001b[1;36m2\u001b[0m Role.TANK\n"
      ]
     },
     "metadata": {},
     "output_type": "display_data"
    },
    {
     "data": {
      "text/html": [
       "<pre style=\"white-space:pre;overflow-x:auto;line-height:normal;font-family:Menlo,'DejaVu Sans Mono',consolas,'Courier New',monospace\">Player <span style=\"color: #008080; text-decoration-color: #008080; font-weight: bold\">0</span> Role.SUPPORT | Player <span style=\"color: #008080; text-decoration-color: #008080; font-weight: bold\">58</span> Role.SUPPORT\n",
       "</pre>\n"
      ],
      "text/plain": [
       "Player \u001b[1;36m0\u001b[0m Role.SUPPORT | Player \u001b[1;36m58\u001b[0m Role.SUPPORT\n"
      ]
     },
     "metadata": {},
     "output_type": "display_data"
    },
    {
     "data": {
      "text/html": [
       "<pre style=\"white-space:pre;overflow-x:auto;line-height:normal;font-family:Menlo,'DejaVu Sans Mono',consolas,'Courier New',monospace\">Player <span style=\"color: #008080; text-decoration-color: #008080; font-weight: bold\">1</span> Role.SUPPORT | Player <span style=\"color: #008080; text-decoration-color: #008080; font-weight: bold\">56</span> Role.SUPPORT\n",
       "</pre>\n"
      ],
      "text/plain": [
       "Player \u001b[1;36m1\u001b[0m Role.SUPPORT | Player \u001b[1;36m56\u001b[0m Role.SUPPORT\n"
      ]
     },
     "metadata": {},
     "output_type": "display_data"
    },
    {
     "data": {
      "text/html": [
       "<pre style=\"white-space:pre;overflow-x:auto;line-height:normal;font-family:Menlo,'DejaVu Sans Mono',consolas,'Courier New',monospace\"><span style=\"color: #008080; text-decoration-color: #008080; font-weight: bold\">4.799999999999999</span>\n",
       "</pre>\n"
      ],
      "text/plain": [
       "\u001b[1;36m4.799999999999999\u001b[0m\n"
      ]
     },
     "metadata": {},
     "output_type": "display_data"
    }
   ],
   "source": [
    "shuffle(team1, team2)\n",
    "show(team1=team1, team2=team2)"
   ]
  }
 ],
 "metadata": {
  "kernelspec": {
   "display_name": "matchmaker-LtNNNPdv-py3.11",
   "language": "python",
   "name": "python3"
  },
  "language_info": {
   "codemirror_mode": {
    "name": "ipython",
    "version": 3
   },
   "file_extension": ".py",
   "mimetype": "text/x-python",
   "name": "python",
   "nbconvert_exporter": "python",
   "pygments_lexer": "ipython3",
   "version": "3.11.0rc1"
  },
  "orig_nbformat": 4
 },
 "nbformat": 4,
 "nbformat_minor": 2
}
